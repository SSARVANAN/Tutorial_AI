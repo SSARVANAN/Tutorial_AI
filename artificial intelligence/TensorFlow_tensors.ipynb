{
  "nbformat": 4,
  "nbformat_minor": 0,
  "metadata": {
    "colab": {
      "name": "TensorFlow_tensors.ipynb",
      "provenance": [],
      "collapsed_sections": []
    },
    "kernelspec": {
      "name": "python3",
      "display_name": "Python 3"
    },
    "language_info": {
      "name": "python"
    }
  },
  "cells": [
    {
      "cell_type": "markdown",
      "metadata": {
        "id": "Ic-ukxzcSWjb"
      },
      "source": [
        "# Tensors with Tensorflow\n",
        "\n",
        "here the code on how to generate tensor with tensorflow. In this notebook there is also the code about tensor operation with tensorflow. For the theory and other information I will provide a medium article"
      ]
    },
    {
      "cell_type": "code",
      "metadata": {
        "id": "PXiJRmlTcaW8"
      },
      "source": [
        "import numpy as np\n",
        "import tensorflow as tf"
      ],
      "execution_count": null,
      "outputs": []
    },
    {
      "cell_type": "code",
      "metadata": {
        "colab": {
          "base_uri": "https://localhost:8080/"
        },
        "id": "2oiUxaytcss1",
        "outputId": "ecdd3095-08b9-4bc0-d562-4863cc2938b6"
      },
      "source": [
        "#create array with numpy of different dimension\n",
        "x = np.array(7)\n",
        "y = np.array([1, 3, 5, 7])\n",
        "z = np.array([[1, 3, 5, 7], [9, 11, 13, 15]])\n",
        "w = np.array([[[1, 3, 5, 7], [9, 11, 13, 15]], [[1, 3, 5, 7], [9, 11, 13, 15]], [[1, 3, 5, 7], [9, 11, 13, 15]]])\n",
        "print(f\" x rank: {x.ndim}, shape: {x.shape}, data type: {x.dtype} \" )\n",
        "print(f\" y rank: {y.ndim}, shape: {y.shape}, data type: {y.dtype} \" )\n",
        "print(f\" z rank: {z.ndim}, shape: {z.shape}, data type: {z.dtype} \" )\n",
        "print(f\" w rank: {w.ndim}, shape: {w.shape}, data type: {w.dtype} \" )"
      ],
      "execution_count": null,
      "outputs": [
        {
          "output_type": "stream",
          "name": "stdout",
          "text": [
            " x rank: 0, shape: (), data type: int64 \n",
            " y rank: 1, shape: (4,), data type: int64 \n",
            " z rank: 2, shape: (2, 4), data type: int64 \n",
            " w rank: 3, shape: (3, 2, 4), data type: int64 \n"
          ]
        }
      ]
    },
    {
      "cell_type": "code",
      "metadata": {
        "colab": {
          "base_uri": "https://localhost:8080/"
        },
        "id": "KnUSIVaLc5pR",
        "outputId": "3befd3db-ef55-47d1-e59c-95068b774cc2"
      },
      "source": [
        "#create tensors with tensorflow, notice the differen size and shape\n",
        "x = tf.constant(7, dtype=tf.int64)\n",
        "y = tf.constant([1, 3, 5, 7], dtype=tf.int64)\n",
        "z = tf.constant([[1, 3, 5, 7], [9, 11, 13, 15]], dtype=tf.int64)\n",
        "w = tf.constant([[[1, 3, 5, 7], [9, 11, 13, 15]], [[1, 3, 5, 7], [9, 11, 13, 15]], [[1, 3, 5, 7], [9, 11, 13, 15]]], dtype=tf.int64)\n",
        "print(x), print(y), print(z), print(w), "
      ],
      "execution_count": null,
      "outputs": [
        {
          "output_type": "stream",
          "name": "stdout",
          "text": [
            "tf.Tensor(7, shape=(), dtype=int64)\n",
            "tf.Tensor([1 3 5 7], shape=(4,), dtype=int64)\n",
            "tf.Tensor(\n",
            "[[ 1  3  5  7]\n",
            " [ 9 11 13 15]], shape=(2, 4), dtype=int64)\n",
            "tf.Tensor(\n",
            "[[[ 1  3  5  7]\n",
            "  [ 9 11 13 15]]\n",
            "\n",
            " [[ 1  3  5  7]\n",
            "  [ 9 11 13 15]]\n",
            "\n",
            " [[ 1  3  5  7]\n",
            "  [ 9 11 13 15]]], shape=(3, 2, 4), dtype=int64)\n"
          ]
        },
        {
          "output_type": "execute_result",
          "data": {
            "text/plain": [
              "(None, None, None, None)"
            ]
          },
          "metadata": {},
          "execution_count": 3
        }
      ]
    },
    {
      "cell_type": "code",
      "metadata": {
        "colab": {
          "base_uri": "https://localhost:8080/"
        },
        "id": "9DvyXWJjgMY4",
        "outputId": "3b3e3312-f6e9-417a-fe46-ac15571cd6ca"
      },
      "source": [
        "#alternative way about creating a shape, you can provide the list of number and the relative shape\n",
        "x = tf.constant(7, dtype=tf.int64)\n",
        "y = tf.constant([1, 3, 5, 7], shape = [1,4],  dtype=tf.int64)\n",
        "z = tf.constant([1, 3, 5, 7, 9, 11, 13, 15], shape = [2,4], dtype=tf.int64)\n",
        "x, y, z"
      ],
      "execution_count": null,
      "outputs": [
        {
          "output_type": "execute_result",
          "data": {
            "text/plain": [
              "(<tf.Tensor: shape=(), dtype=int64, numpy=7>,\n",
              " <tf.Tensor: shape=(1, 4), dtype=int64, numpy=array([[1, 3, 5, 7]])>,\n",
              " <tf.Tensor: shape=(2, 4), dtype=int64, numpy=\n",
              " array([[ 1,  3,  5,  7],\n",
              "        [ 9, 11, 13, 15]])>)"
            ]
          },
          "metadata": {},
          "execution_count": 4
        }
      ]
    },
    {
      "cell_type": "markdown",
      "metadata": {
        "id": "_66s1Y-JTPJK"
      },
      "source": [
        "## Tensor operation\n",
        "* addition\n",
        "* subtraction\n",
        "* dot product\n",
        "* Hadamand product (multiplication element wise)\n"
      ]
    },
    {
      "cell_type": "code",
      "metadata": {
        "id": "ysoxoLwicp1J"
      },
      "source": [
        "x = tf.constant([1,2,3,4], shape = [2,2], dtype=tf.int64)\n",
        "y = tf.constant([5,6,7,8], shape = [2,2],  dtype=tf.int64)"
      ],
      "execution_count": null,
      "outputs": []
    },
    {
      "cell_type": "code",
      "metadata": {
        "colab": {
          "base_uri": "https://localhost:8080/"
        },
        "id": "TGjLaMKkhT5x",
        "outputId": "3a498af9-bcd5-416a-efe1-cf916571e93f"
      },
      "source": [
        "#notice that * is for the dot product and @ is for element wise product\n",
        "x + y, x * y, x @ y"
      ],
      "execution_count": null,
      "outputs": [
        {
          "output_type": "execute_result",
          "data": {
            "text/plain": [
              "(<tf.Tensor: shape=(2, 2), dtype=int64, numpy=\n",
              " array([[ 6,  8],\n",
              "        [10, 12]])>, <tf.Tensor: shape=(2, 2), dtype=int64, numpy=\n",
              " array([[ 5, 12],\n",
              "        [21, 32]])>, <tf.Tensor: shape=(2, 2), dtype=int64, numpy=\n",
              " array([[19, 22],\n",
              "        [43, 50]])>)"
            ]
          },
          "metadata": {},
          "execution_count": 10
        }
      ]
    },
    {
      "cell_type": "code",
      "metadata": {
        "colab": {
          "base_uri": "https://localhost:8080/"
        },
        "id": "D-Zokkkihcb9",
        "outputId": "031a8085-4652-465e-965d-91b0070b2b02"
      },
      "source": [
        "#multiply is the element wise product\n",
        "#matmul is for the dot product\n",
        "tf.add(x, y), tf.multiply(x,y), tf.matmul(x,y)"
      ],
      "execution_count": null,
      "outputs": [
        {
          "output_type": "execute_result",
          "data": {
            "text/plain": [
              "(<tf.Tensor: shape=(2, 2), dtype=int64, numpy=\n",
              " array([[ 6,  8],\n",
              "        [10, 12]])>, <tf.Tensor: shape=(2, 2), dtype=int64, numpy=\n",
              " array([[ 5, 12],\n",
              "        [21, 32]])>, <tf.Tensor: shape=(2, 2), dtype=int64, numpy=\n",
              " array([[19, 22],\n",
              "        [43, 50]])>)"
            ]
          },
          "metadata": {},
          "execution_count": 12
        }
      ]
    },
    {
      "cell_type": "markdown",
      "metadata": {
        "id": "VHQRf9xHT5BO"
      },
      "source": [
        "## Reshaping, transposing and broadcasting"
      ]
    },
    {
      "cell_type": "code",
      "metadata": {
        "colab": {
          "base_uri": "https://localhost:8080/"
        },
        "id": "C4fdSfTyiAR9",
        "outputId": "c13ee120-ed1a-42e8-90fc-882fc3a1c0d4"
      },
      "source": [
        "#broadcasting\n",
        "x = tf.constant([1,2,3,4,5,6], shape = [3,2], dtype=tf.int64 )\n",
        "z = tf.constant([5,10], dtype=tf.int64 )\n",
        "x + z"
      ],
      "execution_count": null,
      "outputs": [
        {
          "output_type": "execute_result",
          "data": {
            "text/plain": [
              "<tf.Tensor: shape=(3, 2), dtype=int64, numpy=\n",
              "array([[ 6, 12],\n",
              "       [ 8, 14],\n",
              "       [10, 16]])>"
            ]
          },
          "metadata": {},
          "execution_count": 17
        }
      ]
    },
    {
      "cell_type": "code",
      "metadata": {
        "colab": {
          "base_uri": "https://localhost:8080/"
        },
        "id": "XoMpn7SvnJ5e",
        "outputId": "20f329a5-9bdb-4a9b-88f6-c53e9d6479af"
      },
      "source": [
        "#notice as we change the shape of the tensor\n",
        "x, tf.reshape(x, [2,3])"
      ],
      "execution_count": null,
      "outputs": [
        {
          "output_type": "execute_result",
          "data": {
            "text/plain": [
              "(<tf.Tensor: shape=(3, 2), dtype=int64, numpy=\n",
              " array([[1, 2],\n",
              "        [3, 4],\n",
              "        [5, 6]])>, <tf.Tensor: shape=(2, 3), dtype=int64, numpy=\n",
              " array([[1, 2, 3],\n",
              "        [4, 5, 6]])>)"
            ]
          },
          "metadata": {},
          "execution_count": 20
        }
      ]
    },
    {
      "cell_type": "code",
      "metadata": {
        "colab": {
          "base_uri": "https://localhost:8080/"
        },
        "id": "lp9NJN30xKgl",
        "outputId": "e9b10a6f-e621-41aa-f33c-5dd764b3f35a"
      },
      "source": [
        "#transpose of a matrix\n",
        "x, tf.transpose(x)"
      ],
      "execution_count": null,
      "outputs": [
        {
          "output_type": "execute_result",
          "data": {
            "text/plain": [
              "(<tf.Tensor: shape=(3, 2), dtype=int64, numpy=\n",
              " array([[1, 2],\n",
              "        [3, 4],\n",
              "        [5, 6]])>, <tf.Tensor: shape=(2, 3), dtype=int64, numpy=\n",
              " array([[1, 3, 5],\n",
              "        [2, 4, 6]])>)"
            ]
          },
          "metadata": {},
          "execution_count": 22
        }
      ]
    }
  ]
}