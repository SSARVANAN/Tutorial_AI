{
  "nbformat": 4,
  "nbformat_minor": 0,
  "metadata": {
    "colab": {
      "name": "PyTorch_tensors.ipynb",
      "provenance": [],
      "collapsed_sections": []
    },
    "kernelspec": {
      "name": "python3",
      "display_name": "Python 3"
    },
    "language_info": {
      "name": "python"
    }
  },
  "cells": [
    {
      "cell_type": "markdown",
      "metadata": {
        "id": "yh9ptZquUaty"
      },
      "source": [
        "# Tensors with PyTorch\n",
        "\n",
        "here the code on how to generate tensor with PyTorch. In this notebook there is also the code about tensor operation with PyTorch. For the theory and other information I will provide a medium article"
      ]
    },
    {
      "cell_type": "code",
      "metadata": {
        "id": "KHzGOdcMyKPI"
      },
      "source": [
        "import numpy as np\n",
        "import torch"
      ],
      "execution_count": null,
      "outputs": []
    },
    {
      "cell_type": "code",
      "metadata": {
        "colab": {
          "base_uri": "https://localhost:8080/"
        },
        "id": "pGIFRy13yMZM",
        "outputId": "85498abd-aec9-424f-e622-a800b2532c1f"
      },
      "source": [
        "x = np.array(7)\n",
        "y = np.array([1, 3, 5, 7])\n",
        "z = np.array([[1, 3, 5, 7], [9, 11, 13, 15]])\n",
        "w = np.array([[[1, 3, 5, 7], [9, 11, 13, 15]], [[1, 3, 5, 7], [9, 11, 13, 15]], [[1, 3, 5, 7], [9, 11, 13, 15]]])\n",
        "print(f\" x rank: {x.ndim}, shape: {x.shape}, data type: {x.dtype} \" )\n",
        "print(f\" y rank: {y.ndim}, shape: {y.shape}, data type: {y.dtype} \" )\n",
        "print(f\" z rank: {z.ndim}, shape: {z.shape}, data type: {z.dtype} \" )\n",
        "print(f\" w rank: {w.ndim}, shape: {w.shape}, data type: {w.dtype} \" )"
      ],
      "execution_count": null,
      "outputs": [
        {
          "output_type": "stream",
          "name": "stdout",
          "text": [
            " x rank: 0, shape: (), data type: int64 \n",
            " y rank: 1, shape: (4,), data type: int64 \n",
            " z rank: 2, shape: (2, 4), data type: int64 \n",
            " w rank: 3, shape: (3, 2, 4), data type: int64 \n"
          ]
        }
      ]
    },
    {
      "cell_type": "code",
      "metadata": {
        "colab": {
          "base_uri": "https://localhost:8080/"
        },
        "id": "Bns3B4Hjzegm",
        "outputId": "70386985-4909-4fba-bd53-782f0bb2dd3c"
      },
      "source": [
        "#you can create tensor of different datatype specifying it\n",
        "x = torch.tensor(7, dtype=torch.float32)\n",
        "y = torch.tensor(7, dtype=torch.int32)\n",
        "x, y"
      ],
      "execution_count": null,
      "outputs": [
        {
          "output_type": "execute_result",
          "data": {
            "text/plain": [
              "(tensor(7.), tensor(7, dtype=torch.int32))"
            ]
          },
          "metadata": {},
          "execution_count": 8
        }
      ]
    },
    {
      "cell_type": "code",
      "metadata": {
        "colab": {
          "base_uri": "https://localhost:8080/"
        },
        "id": "gm_W_3tPz3yt",
        "outputId": "b3bd91b8-b0b0-462b-f65b-202b4bbbaf0e"
      },
      "source": [
        "#tensor of different rank and shape.\n",
        "#they are equivalent to the same structures obtained by numpy\n",
        "x = torch.tensor(7)\n",
        "y = torch.tensor([1, 3, 5, 7])\n",
        "z = torch.tensor([[1, 3, 5, 7], [9, 11, 13, 15]])\n",
        "w = torch.tensor([[[1, 3, 5, 7], [9, 11, 13, 15]], [[1, 3, 5, 7], [9, 11, 13, 15]], [[1, 3, 5, 7], [9, 11, 13, 15]]])\n",
        "x, y, z, w"
      ],
      "execution_count": null,
      "outputs": [
        {
          "output_type": "execute_result",
          "data": {
            "text/plain": [
              "(tensor(7), tensor([1, 3, 5, 7]), tensor([[ 1,  3,  5,  7],\n",
              "         [ 9, 11, 13, 15]]), tensor([[[ 1,  3,  5,  7],\n",
              "          [ 9, 11, 13, 15]],\n",
              " \n",
              "         [[ 1,  3,  5,  7],\n",
              "          [ 9, 11, 13, 15]],\n",
              " \n",
              "         [[ 1,  3,  5,  7],\n",
              "          [ 9, 11, 13, 15]]]))"
            ]
          },
          "metadata": {},
          "execution_count": 11
        }
      ]
    },
    {
      "cell_type": "code",
      "metadata": {
        "colab": {
          "base_uri": "https://localhost:8080/"
        },
        "id": "gpL36l7W0XsB",
        "outputId": "36a4350b-4b35-4730-9c7a-4c7654fe511b"
      },
      "source": [
        "#you can check the property:\n",
        "x = torch.tensor([[1,2,3],[4,5,6]])\n",
        "print(f\" x rank: {x.ndim}, shape: {x.size()}, data type: {x.dtype}, total sum of element: {x.sum()}, is a tensor:{torch.is_tensor(x)} \" )\n"
      ],
      "execution_count": null,
      "outputs": [
        {
          "output_type": "stream",
          "name": "stdout",
          "text": [
            " x rank: 2, shape: torch.Size([2, 3]), data type: torch.int64, total sum of element: 21, is a tensor:True \n"
          ]
        }
      ]
    },
    {
      "cell_type": "code",
      "metadata": {
        "colab": {
          "base_uri": "https://localhost:8080/"
        },
        "id": "otV5cbnn7Ou9",
        "outputId": "071af992-5676-4a95-e516-15214380fa95"
      },
      "source": [
        "#creating tensor\n",
        "#from numpy array\n",
        "z = np.array([[1, 3, 5, 7], [9, 11, 13, 15]])\n",
        "torch.as_tensor(z), torch.from_numpy(z)\n",
        "#with range (working like range )\n",
        "torch.arange(1,5,1)\n",
        "#with all zeroes or 1\n",
        "torch.zeros(size = [2,2]), torch.ones(size = [2,2])\n",
        "#get the same shape of another element, but filled with zeroes or 1\n",
        "x = torch.arange(1,5,1)\n",
        "torch.zeros_like(x), torch.ones_like(x)"
      ],
      "execution_count": null,
      "outputs": [
        {
          "output_type": "execute_result",
          "data": {
            "text/plain": [
              "(tensor([0, 0, 0, 0]), tensor([1, 1, 1, 1]))"
            ]
          },
          "metadata": {},
          "execution_count": 48
        }
      ]
    },
    {
      "cell_type": "markdown",
      "metadata": {
        "id": "2qFLZdOnUueY"
      },
      "source": [
        "## Tensor operation\n",
        "* addition\n",
        "* subtraction\n",
        "* dot product\n",
        "* Hadamand product (multiplication element wise)"
      ]
    },
    {
      "cell_type": "code",
      "metadata": {
        "colab": {
          "base_uri": "https://localhost:8080/"
        },
        "id": "SebUXWPk1hy0",
        "outputId": "ed591fa2-10d0-42e5-cf30-5688932e6c65"
      },
      "source": [
        "#operation with tensors:\n",
        "x = torch.tensor([[1,2], [3,4]], dtype=torch.int64)\n",
        "y = torch.tensor([[5,6], [7,8]], dtype=torch.int64)\n",
        "# * is for the dot product, @ for the element wise product\n",
        "print(x + y)\n",
        "print(x - y)\n",
        "print(x @ y)\n",
        "print(x * y)\n"
      ],
      "execution_count": null,
      "outputs": [
        {
          "output_type": "stream",
          "name": "stdout",
          "text": [
            "tensor([[ 6,  8],\n",
            "        [10, 12]])\n",
            "tensor([[-4, -4],\n",
            "        [-4, -4]])\n",
            "tensor([[19, 22],\n",
            "        [43, 50]])\n",
            "tensor([[ 5, 12],\n",
            "        [21, 32]])\n"
          ]
        }
      ]
    },
    {
      "cell_type": "code",
      "metadata": {
        "colab": {
          "base_uri": "https://localhost:8080/"
        },
        "id": "KFg44M5C27F0",
        "outputId": "06f8943f-7d71-49b1-d1c7-d94a33e1e154"
      },
      "source": [
        "#you can obtain the same results also in this way, using the tensor method \n",
        "#but you can also call the torch function\n",
        "x.add(y), torch.add(x,y)\n",
        "x.subtract(y), torch.subtract(x,y)\n",
        "x.multiply(y), torch.multiply(x, y)\n",
        "x.matmul(y), torch.matmul(x, y)"
      ],
      "execution_count": null,
      "outputs": [
        {
          "output_type": "execute_result",
          "data": {
            "text/plain": [
              "(tensor([[19, 22],\n",
              "         [43, 50]]), tensor([[19, 22],\n",
              "         [43, 50]]))"
            ]
          },
          "metadata": {},
          "execution_count": 31
        }
      ]
    },
    {
      "cell_type": "code",
      "metadata": {
        "colab": {
          "base_uri": "https://localhost:8080/"
        },
        "id": "tX_k-3Av5o8e",
        "outputId": "71154b74-7c4f-495b-b08c-166521bc55c3"
      },
      "source": [
        "#broadcasting\n",
        "x = torch.tensor([[1,2], [3,4], [5,6]], dtype=torch.int64)\n",
        "y = torch.tensor([5,10], dtype=torch.int64)\n",
        "x + y"
      ],
      "execution_count": null,
      "outputs": [
        {
          "output_type": "execute_result",
          "data": {
            "text/plain": [
              "tensor([[ 6, 12],\n",
              "        [ 8, 14],\n",
              "        [10, 16]])"
            ]
          },
          "metadata": {},
          "execution_count": 32
        }
      ]
    },
    {
      "cell_type": "code",
      "metadata": {
        "colab": {
          "base_uri": "https://localhost:8080/"
        },
        "id": "SR1x04mm55-8",
        "outputId": "bc9481cb-443e-41ff-db72-0b0d3029c9f6"
      },
      "source": [
        "#tensor reshape\n",
        "x = torch.tensor([[1,2], [3,4], [5,6]], dtype=torch.int64)\n",
        "#you can do in two way\n",
        "x.reshape([2,3]), torch.reshape(x, [2,3])\n",
        "print(x.reshape([2,3]))\n",
        "#eliminating a dimension\n",
        "print(x.reshape([-1]))"
      ],
      "execution_count": null,
      "outputs": [
        {
          "output_type": "stream",
          "name": "stdout",
          "text": [
            "tensor([[1, 2, 3],\n",
            "        [4, 5, 6]])\n",
            "tensor([1, 2, 3, 4, 5, 6])\n"
          ]
        }
      ]
    },
    {
      "cell_type": "code",
      "metadata": {
        "colab": {
          "base_uri": "https://localhost:8080/"
        },
        "id": "sitqnQcQ86pN",
        "outputId": "2c617c08-f0f5-428f-955e-54c3d7c46bb9"
      },
      "source": [
        "#transpose\n",
        "x = torch.tensor([[1,2], [3,4], [5,6]], dtype=torch.int64)\n",
        "#you can do in this way\n",
        "torch.t(x)\n",
        "#or like this, but you have to specify the dimension to be transposed\n",
        "torch.transpose(x, 0, 1)"
      ],
      "execution_count": null,
      "outputs": [
        {
          "output_type": "execute_result",
          "data": {
            "text/plain": [
              "tensor([[1, 3, 5],\n",
              "        [2, 4, 6]])"
            ]
          },
          "metadata": {},
          "execution_count": 53
        }
      ]
    },
    {
      "cell_type": "code",
      "metadata": {
        "id": "HMUqwetR93Pm"
      },
      "source": [
        ""
      ],
      "execution_count": null,
      "outputs": []
    }
  ]
}