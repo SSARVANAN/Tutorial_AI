{
  "nbformat": 4,
  "nbformat_minor": 0,
  "metadata": {
    "colab": {
      "provenance": []
    },
    "kernelspec": {
      "name": "python3",
      "display_name": "Python 3"
    },
    "language_info": {
      "name": "python"
    }
  },
  "cells": [
    {
      "cell_type": "markdown",
      "metadata": {
        "id": "yh9ptZquUaty"
      },
      "source": [
        "# Tensors with PyTorch\n",
        "\n",
        "here the code on how to generate tensor with PyTorch. In this notebook there is also the code about tensor operation with PyTorch. For the theory and other information I will provide a medium article"
      ]
    },
    {
      "cell_type": "code",
      "metadata": {
        "id": "KHzGOdcMyKPI"
      },
      "source": [
        "import numpy as np\n",
        "import torch"
      ],
      "execution_count": 1,
      "outputs": []
    },
    {
      "cell_type": "code",
      "metadata": {
        "colab": {
          "base_uri": "https://localhost:8080/"
        },
        "id": "pGIFRy13yMZM",
        "outputId": "a6a45a90-2b3b-49c0-e23b-d622c96e6793"
      },
      "source": [
        "x = np.array(7)\n",
        "y = np.array([1, 3, 5, 7])\n",
        "z = np.array([[1, 3, 5, 7], [9, 11, 13, 15]])\n",
        "w = np.array([[[1, 3, 5, 7], [9, 11, 13, 15]], [[1, 3, 5, 7], [9, 11, 13, 15]], [[1, 3, 5, 7], [9, 11, 13, 15]]])\n",
        "print(f\" x rank: {x.ndim}, shape: {x.shape}, data type: {x.dtype} \" )\n",
        "print(f\" y rank: {y.ndim}, shape: {y.shape}, data type: {y.dtype} \" )\n",
        "print(f\" z rank: {z.ndim}, shape: {z.shape}, data type: {z.dtype} \" )\n",
        "print(f\" w rank: {w.ndim}, shape: {w.shape}, data type: {w.dtype} \" )"
      ],
      "execution_count": 2,
      "outputs": [
        {
          "output_type": "stream",
          "name": "stdout",
          "text": [
            " x rank: 0, shape: (), data type: int64 \n",
            " y rank: 1, shape: (4,), data type: int64 \n",
            " z rank: 2, shape: (2, 4), data type: int64 \n",
            " w rank: 3, shape: (3, 2, 4), data type: int64 \n"
          ]
        }
      ]
    },
    {
      "cell_type": "code",
      "metadata": {
        "colab": {
          "base_uri": "https://localhost:8080/"
        },
        "id": "Bns3B4Hjzegm",
        "outputId": "44940c7e-2b9a-45a1-b886-257faa25c0ff"
      },
      "source": [
        "#you can create tensor of different datatype specifying it\n",
        "x = torch.tensor(7, dtype=torch.float32)\n",
        "y = torch.tensor(7, dtype=torch.int32)\n",
        "x, y"
      ],
      "execution_count": 3,
      "outputs": [
        {
          "output_type": "execute_result",
          "data": {
            "text/plain": [
              "(tensor(7.), tensor(7, dtype=torch.int32))"
            ]
          },
          "metadata": {},
          "execution_count": 3
        }
      ]
    },
    {
      "cell_type": "code",
      "metadata": {
        "colab": {
          "base_uri": "https://localhost:8080/"
        },
        "id": "gm_W_3tPz3yt",
        "outputId": "5493c96b-5c0a-4407-f875-70aa93b07415"
      },
      "source": [
        "#tensor of different rank and shape.\n",
        "#they are equivalent to the same structures obtained by numpy\n",
        "x = torch.tensor(7)\n",
        "y = torch.tensor([1, 3, 5, 7])\n",
        "z = torch.tensor([[1, 3, 5, 7], [9, 11, 13, 15]])\n",
        "w = torch.tensor([[[1, 3, 5, 7], [9, 11, 13, 15]], [[1, 3, 5, 7], [9, 11, 13, 15]], [[1, 3, 5, 7], [9, 11, 13, 15]]])\n",
        "x, y, z, w"
      ],
      "execution_count": 4,
      "outputs": [
        {
          "output_type": "execute_result",
          "data": {
            "text/plain": [
              "(tensor(7),\n",
              " tensor([1, 3, 5, 7]),\n",
              " tensor([[ 1,  3,  5,  7],\n",
              "         [ 9, 11, 13, 15]]),\n",
              " tensor([[[ 1,  3,  5,  7],\n",
              "          [ 9, 11, 13, 15]],\n",
              " \n",
              "         [[ 1,  3,  5,  7],\n",
              "          [ 9, 11, 13, 15]],\n",
              " \n",
              "         [[ 1,  3,  5,  7],\n",
              "          [ 9, 11, 13, 15]]]))"
            ]
          },
          "metadata": {},
          "execution_count": 4
        }
      ]
    },
    {
      "cell_type": "code",
      "metadata": {
        "colab": {
          "base_uri": "https://localhost:8080/"
        },
        "id": "gpL36l7W0XsB",
        "outputId": "52379d36-65cd-47a1-b73d-75308268ec3a"
      },
      "source": [
        "#you can check the property:\n",
        "x = torch.tensor([[1,2,3],[4,5,6]])\n",
        "print(f\" x rank: {x.ndim}, shape: {x.size()}, data type: {x.dtype}, total sum of element: {x.sum()}, is a tensor:{torch.is_tensor(x)} \" )\n"
      ],
      "execution_count": 5,
      "outputs": [
        {
          "output_type": "stream",
          "name": "stdout",
          "text": [
            " x rank: 2, shape: torch.Size([2, 3]), data type: torch.int64, total sum of element: 21, is a tensor:True \n"
          ]
        }
      ]
    },
    {
      "cell_type": "code",
      "metadata": {
        "colab": {
          "base_uri": "https://localhost:8080/"
        },
        "id": "otV5cbnn7Ou9",
        "outputId": "39e5a627-fffa-4b97-b6ba-ce8e46a51fcc"
      },
      "source": [
        "#creating tensor\n",
        "#from numpy array\n",
        "z = np.array([[1, 3, 5, 7], [9, 11, 13, 15]])\n",
        "torch.as_tensor(z), torch.from_numpy(z)\n",
        "#with range (working like range )\n",
        "torch.arange(1,5,1)\n",
        "#with all zeroes or 1\n",
        "torch.zeros(size = [2,2]), torch.ones(size = [2,2])\n",
        "#get the same shape of another element, but filled with zeroes or 1\n",
        "x = torch.arange(1,5,1)\n",
        "torch.zeros_like(x), torch.ones_like(x)"
      ],
      "execution_count": 6,
      "outputs": [
        {
          "output_type": "execute_result",
          "data": {
            "text/plain": [
              "(tensor([0, 0, 0, 0]), tensor([1, 1, 1, 1]))"
            ]
          },
          "metadata": {},
          "execution_count": 6
        }
      ]
    },
    {
      "cell_type": "markdown",
      "metadata": {
        "id": "2qFLZdOnUueY"
      },
      "source": [
        "## Tensor operation\n",
        "* addition\n",
        "* subtraction\n",
        "* dot product\n",
        "* Hadamand product (multiplication element wise)"
      ]
    },
    {
      "cell_type": "code",
      "metadata": {
        "colab": {
          "base_uri": "https://localhost:8080/"
        },
        "id": "SebUXWPk1hy0",
        "outputId": "70e9bc2a-66eb-43cd-fd94-cdf4b9e11364"
      },
      "source": [
        "#operation with tensors:\n",
        "x = torch.tensor([[1,2], [3,4]], dtype=torch.int64)\n",
        "y = torch.tensor([[5,6], [7,8]], dtype=torch.int64)\n",
        "# * is for the dot product, @ for the element wise product\n",
        "print(x + y)\n",
        "print(x - y)\n",
        "print(x @ y)\n",
        "print(x * y)\n"
      ],
      "execution_count": 7,
      "outputs": [
        {
          "output_type": "stream",
          "name": "stdout",
          "text": [
            "tensor([[ 6,  8],\n",
            "        [10, 12]])\n",
            "tensor([[-4, -4],\n",
            "        [-4, -4]])\n",
            "tensor([[19, 22],\n",
            "        [43, 50]])\n",
            "tensor([[ 5, 12],\n",
            "        [21, 32]])\n"
          ]
        }
      ]
    },
    {
      "cell_type": "code",
      "metadata": {
        "colab": {
          "base_uri": "https://localhost:8080/"
        },
        "id": "KFg44M5C27F0",
        "outputId": "19117a93-d86c-496f-d7af-40cc1552132f"
      },
      "source": [
        "#you can obtain the same results also in this way, using the tensor method\n",
        "#but you can also call the torch function\n",
        "x.add(y), torch.add(x,y)\n",
        "x.subtract(y), torch.subtract(x,y)\n",
        "x.multiply(y), torch.multiply(x, y)\n",
        "x.matmul(y), torch.matmul(x, y)"
      ],
      "execution_count": 8,
      "outputs": [
        {
          "output_type": "execute_result",
          "data": {
            "text/plain": [
              "(tensor([[19, 22],\n",
              "         [43, 50]]),\n",
              " tensor([[19, 22],\n",
              "         [43, 50]]))"
            ]
          },
          "metadata": {},
          "execution_count": 8
        }
      ]
    },
    {
      "cell_type": "code",
      "metadata": {
        "colab": {
          "base_uri": "https://localhost:8080/"
        },
        "id": "tX_k-3Av5o8e",
        "outputId": "cb8837e5-f47b-4d26-e266-1643400915c0"
      },
      "source": [
        "#broadcasting\n",
        "x = torch.tensor([[1,2], [3,4], [5,6]], dtype=torch.int64)\n",
        "y = torch.tensor([5,10], dtype=torch.int64)\n",
        "x + y"
      ],
      "execution_count": 9,
      "outputs": [
        {
          "output_type": "execute_result",
          "data": {
            "text/plain": [
              "tensor([[ 6, 12],\n",
              "        [ 8, 14],\n",
              "        [10, 16]])"
            ]
          },
          "metadata": {},
          "execution_count": 9
        }
      ]
    },
    {
      "cell_type": "code",
      "metadata": {
        "colab": {
          "base_uri": "https://localhost:8080/"
        },
        "id": "SR1x04mm55-8",
        "outputId": "c77e734e-4b89-488b-b848-acef30d028db"
      },
      "source": [
        "#tensor reshape\n",
        "x = torch.tensor([[1,2], [3,4], [5,6]], dtype=torch.int64)\n",
        "#you can do in two way\n",
        "x.reshape([2,3]), torch.reshape(x, [2,3])\n",
        "print(x.reshape([2,3]))\n",
        "#eliminating a dimension\n",
        "print(x.reshape([-1]))"
      ],
      "execution_count": 10,
      "outputs": [
        {
          "output_type": "stream",
          "name": "stdout",
          "text": [
            "tensor([[1, 2, 3],\n",
            "        [4, 5, 6]])\n",
            "tensor([1, 2, 3, 4, 5, 6])\n"
          ]
        }
      ]
    },
    {
      "cell_type": "code",
      "metadata": {
        "colab": {
          "base_uri": "https://localhost:8080/"
        },
        "id": "sitqnQcQ86pN",
        "outputId": "20321752-ffc4-4da5-dd10-7c42402f936e"
      },
      "source": [
        "#transpose\n",
        "x = torch.tensor([[1,2], [3,4], [5,6]], dtype=torch.int64)\n",
        "#you can do in this way\n",
        "torch.t(x)\n",
        "#or like this, but you have to specify the dimension to be transposed\n",
        "torch.transpose(x, 0, 1)"
      ],
      "execution_count": 11,
      "outputs": [
        {
          "output_type": "execute_result",
          "data": {
            "text/plain": [
              "tensor([[1, 3, 5],\n",
              "        [2, 4, 6]])"
            ]
          },
          "metadata": {},
          "execution_count": 11
        }
      ]
    },
    {
      "cell_type": "code",
      "metadata": {
        "id": "HMUqwetR93Pm"
      },
      "source": [],
      "execution_count": 11,
      "outputs": []
    },
    {
      "cell_type": "markdown",
      "source": [
        "# Visualize tensor operation"
      ],
      "metadata": {
        "id": "Yv6v8qYTcGKZ"
      }
    },
    {
      "cell_type": "code",
      "source": [
        "# Install TorchLens\n",
        "!apt install graphviz\n",
        "!pip install torchlens\n",
        "\n",
        "# Install example networks\n",
        "!pip install visualpriors\n",
        "\n",
        "# Imports\n",
        "import time\n",
        "import torch\n",
        "from torch import nn\n",
        "import torchvision\n",
        "import torchlens as tl\n",
        "import visualpriors"
      ],
      "metadata": {
        "colab": {
          "base_uri": "https://localhost:8080/"
        },
        "id": "yv-DakhKcIsp",
        "outputId": "57f6a4aa-e071-4c3a-a85b-5c8592ada0bc"
      },
      "execution_count": 12,
      "outputs": [
        {
          "output_type": "stream",
          "name": "stdout",
          "text": [
            "Reading package lists... Done\n",
            "Building dependency tree... Done\n",
            "Reading state information... Done\n",
            "graphviz is already the newest version (2.42.2-6).\n",
            "0 upgraded, 0 newly installed, 0 to remove and 15 not upgraded.\n",
            "Collecting torchlens\n",
            "  Downloading torchlens-0.1.12-py2.py3-none-any.whl (82 kB)\n",
            "\u001b[2K     \u001b[90m━━━━━━━━━━━━━━━━━━━━━━━━━━━━━━━━━━━━━━━━\u001b[0m \u001b[32m82.8/82.8 kB\u001b[0m \u001b[31m1.0 MB/s\u001b[0m eta \u001b[36m0:00:00\u001b[0m\n",
            "\u001b[?25hRequirement already satisfied: numpy in /usr/local/lib/python3.10/dist-packages (from torchlens) (1.23.5)\n",
            "Requirement already satisfied: pandas in /usr/local/lib/python3.10/dist-packages (from torchlens) (1.5.3)\n",
            "Requirement already satisfied: pytest in /usr/local/lib/python3.10/dist-packages (from torchlens) (7.4.3)\n",
            "Requirement already satisfied: torch>=1.8.0 in /usr/local/lib/python3.10/dist-packages (from torchlens) (2.1.0+cu118)\n",
            "Requirement already satisfied: torchvision in /usr/local/lib/python3.10/dist-packages (from torchlens) (0.16.0+cu118)\n",
            "Requirement already satisfied: tqdm in /usr/local/lib/python3.10/dist-packages (from torchlens) (4.66.1)\n",
            "Requirement already satisfied: ipython in /usr/local/lib/python3.10/dist-packages (from torchlens) (7.34.0)\n",
            "Requirement already satisfied: graphviz in /usr/local/lib/python3.10/dist-packages (from torchlens) (0.20.1)\n",
            "Requirement already satisfied: filelock in /usr/local/lib/python3.10/dist-packages (from torch>=1.8.0->torchlens) (3.13.1)\n",
            "Requirement already satisfied: typing-extensions in /usr/local/lib/python3.10/dist-packages (from torch>=1.8.0->torchlens) (4.5.0)\n",
            "Requirement already satisfied: sympy in /usr/local/lib/python3.10/dist-packages (from torch>=1.8.0->torchlens) (1.12)\n",
            "Requirement already satisfied: networkx in /usr/local/lib/python3.10/dist-packages (from torch>=1.8.0->torchlens) (3.2.1)\n",
            "Requirement already satisfied: jinja2 in /usr/local/lib/python3.10/dist-packages (from torch>=1.8.0->torchlens) (3.1.2)\n",
            "Requirement already satisfied: fsspec in /usr/local/lib/python3.10/dist-packages (from torch>=1.8.0->torchlens) (2023.6.0)\n",
            "Requirement already satisfied: triton==2.1.0 in /usr/local/lib/python3.10/dist-packages (from torch>=1.8.0->torchlens) (2.1.0)\n",
            "Requirement already satisfied: setuptools>=18.5 in /usr/local/lib/python3.10/dist-packages (from ipython->torchlens) (67.7.2)\n",
            "Collecting jedi>=0.16 (from ipython->torchlens)\n",
            "  Downloading jedi-0.19.1-py2.py3-none-any.whl (1.6 MB)\n",
            "\u001b[2K     \u001b[90m━━━━━━━━━━━━━━━━━━━━━━━━━━━━━━━━━━━━━━━━\u001b[0m \u001b[32m1.6/1.6 MB\u001b[0m \u001b[31m10.9 MB/s\u001b[0m eta \u001b[36m0:00:00\u001b[0m\n",
            "\u001b[?25hRequirement already satisfied: decorator in /usr/local/lib/python3.10/dist-packages (from ipython->torchlens) (4.4.2)\n",
            "Requirement already satisfied: pickleshare in /usr/local/lib/python3.10/dist-packages (from ipython->torchlens) (0.7.5)\n",
            "Requirement already satisfied: traitlets>=4.2 in /usr/local/lib/python3.10/dist-packages (from ipython->torchlens) (5.7.1)\n",
            "Requirement already satisfied: prompt-toolkit!=3.0.0,!=3.0.1,<3.1.0,>=2.0.0 in /usr/local/lib/python3.10/dist-packages (from ipython->torchlens) (3.0.41)\n",
            "Requirement already satisfied: pygments in /usr/local/lib/python3.10/dist-packages (from ipython->torchlens) (2.16.1)\n",
            "Requirement already satisfied: backcall in /usr/local/lib/python3.10/dist-packages (from ipython->torchlens) (0.2.0)\n",
            "Requirement already satisfied: matplotlib-inline in /usr/local/lib/python3.10/dist-packages (from ipython->torchlens) (0.1.6)\n",
            "Requirement already satisfied: pexpect>4.3 in /usr/local/lib/python3.10/dist-packages (from ipython->torchlens) (4.9.0)\n",
            "Requirement already satisfied: python-dateutil>=2.8.1 in /usr/local/lib/python3.10/dist-packages (from pandas->torchlens) (2.8.2)\n",
            "Requirement already satisfied: pytz>=2020.1 in /usr/local/lib/python3.10/dist-packages (from pandas->torchlens) (2023.3.post1)\n",
            "Requirement already satisfied: iniconfig in /usr/local/lib/python3.10/dist-packages (from pytest->torchlens) (2.0.0)\n",
            "Requirement already satisfied: packaging in /usr/local/lib/python3.10/dist-packages (from pytest->torchlens) (23.2)\n",
            "Requirement already satisfied: pluggy<2.0,>=0.12 in /usr/local/lib/python3.10/dist-packages (from pytest->torchlens) (1.3.0)\n",
            "Requirement already satisfied: exceptiongroup>=1.0.0rc8 in /usr/local/lib/python3.10/dist-packages (from pytest->torchlens) (1.2.0)\n",
            "Requirement already satisfied: tomli>=1.0.0 in /usr/local/lib/python3.10/dist-packages (from pytest->torchlens) (2.0.1)\n",
            "Requirement already satisfied: requests in /usr/local/lib/python3.10/dist-packages (from torchvision->torchlens) (2.31.0)\n",
            "Requirement already satisfied: pillow!=8.3.*,>=5.3.0 in /usr/local/lib/python3.10/dist-packages (from torchvision->torchlens) (9.4.0)\n",
            "Requirement already satisfied: parso<0.9.0,>=0.8.3 in /usr/local/lib/python3.10/dist-packages (from jedi>=0.16->ipython->torchlens) (0.8.3)\n",
            "Requirement already satisfied: ptyprocess>=0.5 in /usr/local/lib/python3.10/dist-packages (from pexpect>4.3->ipython->torchlens) (0.7.0)\n",
            "Requirement already satisfied: wcwidth in /usr/local/lib/python3.10/dist-packages (from prompt-toolkit!=3.0.0,!=3.0.1,<3.1.0,>=2.0.0->ipython->torchlens) (0.2.12)\n",
            "Requirement already satisfied: six>=1.5 in /usr/local/lib/python3.10/dist-packages (from python-dateutil>=2.8.1->pandas->torchlens) (1.16.0)\n",
            "Requirement already satisfied: MarkupSafe>=2.0 in /usr/local/lib/python3.10/dist-packages (from jinja2->torch>=1.8.0->torchlens) (2.1.3)\n",
            "Requirement already satisfied: charset-normalizer<4,>=2 in /usr/local/lib/python3.10/dist-packages (from requests->torchvision->torchlens) (3.3.2)\n",
            "Requirement already satisfied: idna<4,>=2.5 in /usr/local/lib/python3.10/dist-packages (from requests->torchvision->torchlens) (3.6)\n",
            "Requirement already satisfied: urllib3<3,>=1.21.1 in /usr/local/lib/python3.10/dist-packages (from requests->torchvision->torchlens) (2.0.7)\n",
            "Requirement already satisfied: certifi>=2017.4.17 in /usr/local/lib/python3.10/dist-packages (from requests->torchvision->torchlens) (2023.11.17)\n",
            "Requirement already satisfied: mpmath>=0.19 in /usr/local/lib/python3.10/dist-packages (from sympy->torch>=1.8.0->torchlens) (1.3.0)\n",
            "Installing collected packages: jedi, torchlens\n",
            "Successfully installed jedi-0.19.1 torchlens-0.1.12\n",
            "Collecting visualpriors\n",
            "  Downloading visualpriors-0.3.5.tar.gz (10 kB)\n",
            "  Preparing metadata (setup.py) ... \u001b[?25l\u001b[?25hdone\n",
            "Requirement already satisfied: torch>=0.3.0 in /usr/local/lib/python3.10/dist-packages (from visualpriors) (2.1.0+cu118)\n",
            "Requirement already satisfied: filelock in /usr/local/lib/python3.10/dist-packages (from torch>=0.3.0->visualpriors) (3.13.1)\n",
            "Requirement already satisfied: typing-extensions in /usr/local/lib/python3.10/dist-packages (from torch>=0.3.0->visualpriors) (4.5.0)\n",
            "Requirement already satisfied: sympy in /usr/local/lib/python3.10/dist-packages (from torch>=0.3.0->visualpriors) (1.12)\n",
            "Requirement already satisfied: networkx in /usr/local/lib/python3.10/dist-packages (from torch>=0.3.0->visualpriors) (3.2.1)\n",
            "Requirement already satisfied: jinja2 in /usr/local/lib/python3.10/dist-packages (from torch>=0.3.0->visualpriors) (3.1.2)\n",
            "Requirement already satisfied: fsspec in /usr/local/lib/python3.10/dist-packages (from torch>=0.3.0->visualpriors) (2023.6.0)\n",
            "Requirement already satisfied: triton==2.1.0 in /usr/local/lib/python3.10/dist-packages (from torch>=0.3.0->visualpriors) (2.1.0)\n",
            "Requirement already satisfied: MarkupSafe>=2.0 in /usr/local/lib/python3.10/dist-packages (from jinja2->torch>=0.3.0->visualpriors) (2.1.3)\n",
            "Requirement already satisfied: mpmath>=0.19 in /usr/local/lib/python3.10/dist-packages (from sympy->torch>=0.3.0->visualpriors) (1.3.0)\n",
            "Building wheels for collected packages: visualpriors\n",
            "  Building wheel for visualpriors (setup.py) ... \u001b[?25l\u001b[?25hdone\n",
            "  Created wheel for visualpriors: filename=visualpriors-0.3.5-py3-none-any.whl size=11367 sha256=59cba35b0377dafbe77cca0a68884b547bd15137fc37b10fd8e4e42420a34e83\n",
            "  Stored in directory: /root/.cache/pip/wheels/ce/18/2b/ac0e173977d8a72ea7155168fbaa891e5e8e4cafa01957cba3\n",
            "Successfully built visualpriors\n",
            "Installing collected packages: visualpriors\n",
            "Successfully installed visualpriors-0.3.5\n"
          ]
        },
        {
          "output_type": "stream",
          "name": "stderr",
          "text": [
            "/usr/local/lib/python3.10/dist-packages/torch/overrides.py:110: UserWarning: 'has_cuda' is deprecated, please use 'torch.backends.cuda.is_built()'\n",
            "  torch.has_cuda,\n",
            "/usr/local/lib/python3.10/dist-packages/torch/overrides.py:111: UserWarning: 'has_cudnn' is deprecated, please use 'torch.backends.cudnn.is_available()'\n",
            "  torch.has_cudnn,\n",
            "/usr/local/lib/python3.10/dist-packages/torch/overrides.py:117: UserWarning: 'has_mps' is deprecated, please use 'torch.backends.mps.is_built()'\n",
            "  torch.has_mps,\n",
            "/usr/local/lib/python3.10/dist-packages/torch/overrides.py:118: UserWarning: 'has_mkldnn' is deprecated, please use 'torch.backends.mkldnn.is_available()'\n",
            "  torch.has_mkldnn,\n"
          ]
        }
      ]
    },
    {
      "cell_type": "code",
      "source": [
        "#visualize simple neural network\n",
        "\n",
        "class SimpleFFNN(nn.Module):\n",
        "    def __init__(self):\n",
        "        super().__init__()\n",
        "        self.fc1 = nn.Linear(5, 3)\n",
        "        self.fc2 = nn.Linear(3, 2)\n",
        "\n",
        "    def forward(self, x):\n",
        "        x = self.fc1(x)\n",
        "        x = nn.functional.relu(x)\n",
        "        x = self.fc2(x)\n",
        "        x = nn.functional.sigmoid(x)\n",
        "        return x\n",
        "\n",
        "\n",
        "x = torch.rand(6, 5)\n",
        "ff_model = SimpleFFNN()\n",
        "model_history = tl.log_forward_pass(ff_model, x, vis_opt='unrolled')"
      ],
      "metadata": {
        "colab": {
          "base_uri": "https://localhost:8080/",
          "height": 834
        },
        "id": "u3RkbTTMcK93",
        "outputId": "ff1ed158-567e-4661-d0d2-0eb98c860635"
      },
      "execution_count": 17,
      "outputs": [
        {
          "output_type": "display_data",
          "data": {
            "image/svg+xml": "<?xml version=\"1.0\" encoding=\"UTF-8\" standalone=\"no\"?>\n<!DOCTYPE svg PUBLIC \"-//W3C//DTD SVG 1.1//EN\"\n \"http://www.w3.org/Graphics/SVG/1.1/DTD/svg11.dtd\">\n<!-- Generated by graphviz version 2.43.0 (0)\n -->\n<!-- Title: SimpleFFNN Pages: 1 -->\n<svg width=\"155pt\" height=\"609pt\"\n viewBox=\"0.00 0.00 155.00 609.24\" xmlns=\"http://www.w3.org/2000/svg\" xmlns:xlink=\"http://www.w3.org/1999/xlink\">\n<g id=\"graph0\" class=\"graph\" transform=\"scale(1 1) rotate(0) translate(4 605.24)\">\n<title>SimpleFFNN</title>\n<polygon fill=\"white\" stroke=\"transparent\" points=\"-4,4 -4,-605.24 151,-605.24 151,4 -4,4\"/>\n<text text-anchor=\"start\" x=\"8\" y=\"-587.04\" font-family=\"Times,serif\" font-weight=\"bold\" font-size=\"14.00\">SimpleFFNN</text>\n<text text-anchor=\"start\" x=\"8\" y=\"-573.04\" font-family=\"Times,serif\" font-size=\"14.00\">6 tensors total (1.1 KB)</text>\n<text text-anchor=\"start\" x=\"8\" y=\"-559.04\" font-family=\"Times,serif\" font-size=\"14.00\">26 params total (584 B)</text>\n<!-- input_1 -->\n<g id=\"node1\" class=\"node\">\n<title>input_1</title>\n<ellipse fill=\"#98fb98\" stroke=\"black\" cx=\"73.5\" cy=\"-35.36\" rx=\"58.88\" ry=\"35.21\"/>\n<text text-anchor=\"start\" x=\"51\" y=\"-46.16\" font-family=\"Times,serif\" font-weight=\"bold\" font-size=\"14.00\">input_1</text>\n<text text-anchor=\"start\" x=\"40\" y=\"-32.16\" font-family=\"Times,serif\" font-size=\"14.00\">6x5 (248 B)</text>\n<text text-anchor=\"start\" x=\"47.5\" y=\"-18.16\" font-family=\"Times,serif\" font-size=\"14.00\">@input.x</text>\n</g>\n<!-- linear_1_1 -->\n<g id=\"node2\" class=\"node\">\n<title>linear_1_1</title>\n<polygon fill=\"#e6e6e6\" stroke=\"black\" points=\"126,-170.71 21,-170.71 21,-106.71 126,-106.71 126,-170.71\"/>\n<text text-anchor=\"start\" x=\"43\" y=\"-156.51\" font-family=\"Times,serif\" font-weight=\"bold\" font-size=\"14.00\">linear_1_1</text>\n<text text-anchor=\"start\" x=\"40\" y=\"-142.51\" font-family=\"Times,serif\" font-size=\"14.00\">6x3 (200 B)</text>\n<text text-anchor=\"start\" x=\"29\" y=\"-128.51\" font-family=\"Times,serif\" font-size=\"14.00\">params: 3x5, x3</text>\n<text text-anchor=\"start\" x=\"58\" y=\"-114.51\" font-family=\"Times,serif\" font-size=\"14.00\">@fc1</text>\n</g>\n<!-- input_1&#45;&gt;linear_1_1 -->\n<g id=\"edge1\" class=\"edge\">\n<title>input_1&#45;&gt;linear_1_1</title>\n<path fill=\"none\" stroke=\"black\" d=\"M73.5,-70.95C73.5,-80.18 73.5,-90.21 73.5,-99.62\"/>\n<polygon fill=\"black\" stroke=\"black\" points=\"71.05,-99.67 73.5,-106.67 75.95,-99.67 71.05,-99.67\"/>\n</g>\n<!-- relu_1_2 -->\n<g id=\"node3\" class=\"node\">\n<title>relu_1_2</title>\n<ellipse fill=\"white\" stroke=\"black\" cx=\"73.5\" cy=\"-232.17\" rx=\"58.88\" ry=\"25.41\"/>\n<text text-anchor=\"start\" x=\"48\" y=\"-235.97\" font-family=\"Times,serif\" font-weight=\"bold\" font-size=\"14.00\">relu_1_2</text>\n<text text-anchor=\"start\" x=\"40\" y=\"-221.97\" font-family=\"Times,serif\" font-size=\"14.00\">6x3 (200 B)</text>\n</g>\n<!-- linear_1_1&#45;&gt;relu_1_2 -->\n<g id=\"edge2\" class=\"edge\">\n<title>linear_1_1&#45;&gt;relu_1_2</title>\n<path fill=\"none\" stroke=\"black\" d=\"M73.5,-170.93C73.5,-180.07 73.5,-190.09 73.5,-199.27\"/>\n<polygon fill=\"black\" stroke=\"black\" points=\"71.05,-199.43 73.5,-206.43 75.95,-199.43 71.05,-199.43\"/>\n</g>\n<!-- linear_2_3 -->\n<g id=\"node4\" class=\"node\">\n<title>linear_2_3</title>\n<polygon fill=\"#e6e6e6\" stroke=\"black\" points=\"126,-357.62 21,-357.62 21,-293.62 126,-293.62 126,-357.62\"/>\n<text text-anchor=\"start\" x=\"43\" y=\"-343.42\" font-family=\"Times,serif\" font-weight=\"bold\" font-size=\"14.00\">linear_2_3</text>\n<text text-anchor=\"start\" x=\"40\" y=\"-329.42\" font-family=\"Times,serif\" font-size=\"14.00\">6x2 (176 B)</text>\n<text text-anchor=\"start\" x=\"29\" y=\"-315.42\" font-family=\"Times,serif\" font-size=\"14.00\">params: 2x3, x2</text>\n<text text-anchor=\"start\" x=\"58\" y=\"-301.42\" font-family=\"Times,serif\" font-size=\"14.00\">@fc2</text>\n</g>\n<!-- relu_1_2&#45;&gt;linear_2_3 -->\n<g id=\"edge3\" class=\"edge\">\n<title>relu_1_2&#45;&gt;linear_2_3</title>\n<path fill=\"none\" stroke=\"black\" d=\"M73.5,-257.68C73.5,-266.44 73.5,-276.55 73.5,-286.21\"/>\n<polygon fill=\"black\" stroke=\"black\" points=\"71.05,-286.48 73.5,-293.48 75.95,-286.48 71.05,-286.48\"/>\n</g>\n<!-- sigmoid_1_4 -->\n<g id=\"node5\" class=\"node\">\n<title>sigmoid_1_4</title>\n<ellipse fill=\"white\" stroke=\"black\" cx=\"73.5\" cy=\"-419.08\" rx=\"62.87\" ry=\"25.41\"/>\n<text text-anchor=\"start\" x=\"37\" y=\"-422.88\" font-family=\"Times,serif\" font-weight=\"bold\" font-size=\"14.00\">sigmoid_1_4</text>\n<text text-anchor=\"start\" x=\"40\" y=\"-408.88\" font-family=\"Times,serif\" font-size=\"14.00\">6x2 (176 B)</text>\n</g>\n<!-- linear_2_3&#45;&gt;sigmoid_1_4 -->\n<g id=\"edge4\" class=\"edge\">\n<title>linear_2_3&#45;&gt;sigmoid_1_4</title>\n<path fill=\"none\" stroke=\"black\" d=\"M73.5,-357.84C73.5,-366.99 73.5,-377 73.5,-386.18\"/>\n<polygon fill=\"black\" stroke=\"black\" points=\"71.05,-386.34 73.5,-393.34 75.95,-386.34 71.05,-386.34\"/>\n</g>\n<!-- output_1 -->\n<g id=\"node6\" class=\"node\">\n<title>output_1</title>\n<ellipse fill=\"#ff9999\" stroke=\"black\" cx=\"73.5\" cy=\"-515.89\" rx=\"58.88\" ry=\"35.21\"/>\n<text text-anchor=\"start\" x=\"47.5\" y=\"-526.69\" font-family=\"Times,serif\" font-weight=\"bold\" font-size=\"14.00\">output_1</text>\n<text text-anchor=\"start\" x=\"40\" y=\"-512.69\" font-family=\"Times,serif\" font-size=\"14.00\">6x2 (176 B)</text>\n<text text-anchor=\"start\" x=\"49.5\" y=\"-498.69\" font-family=\"Times,serif\" font-size=\"14.00\">@output</text>\n</g>\n<!-- sigmoid_1_4&#45;&gt;output_1 -->\n<g id=\"edge5\" class=\"edge\">\n<title>sigmoid_1_4&#45;&gt;output_1</title>\n<path fill=\"none\" stroke=\"black\" d=\"M73.5,-444.99C73.5,-453.65 73.5,-463.6 73.5,-473.24\"/>\n<polygon fill=\"black\" stroke=\"black\" points=\"71.05,-473.52 73.5,-480.52 75.95,-473.52 71.05,-473.52\"/>\n</g>\n</g>\n</svg>\n",
            "text/plain": [
              "<graphviz.graphs.Digraph at 0x78527b6cefe0>"
            ]
          },
          "metadata": {}
        }
      ]
    },
    {
      "cell_type": "code",
      "source": [
        "class SimpleConv(nn.Module):\n",
        "    def __init__(self):\n",
        "        super().__init__()\n",
        "        self.conv = nn.Conv2d(1, 1, 3, padding=0)\n",
        "        self.fc = nn.Linear(6, 3)\n",
        "\n",
        "    def forward(self, x):\n",
        "        x = self.conv(x)\n",
        "        x = nn.functional.relu(x)\n",
        "        x = nn.functional.max_pool2d(x, 1)\n",
        "        x = x.flatten()\n",
        "        x = self.fc(x)\n",
        "        return x\n",
        "\n",
        "\n",
        "x = torch.rand(6, 1, 3, 3)\n",
        "ff_model = SimpleConv()\n",
        "model_history = tl.log_forward_pass(ff_model, x, vis_opt='unrolled')"
      ],
      "metadata": {
        "colab": {
          "base_uri": "https://localhost:8080/",
          "height": 950
        },
        "id": "QOBkddDfcV8R",
        "outputId": "98b24914-6dc9-4020-9984-ea69976bab3c"
      },
      "execution_count": 15,
      "outputs": [
        {
          "output_type": "display_data",
          "data": {
            "image/svg+xml": "<?xml version=\"1.0\" encoding=\"UTF-8\" standalone=\"no\"?>\n<!DOCTYPE svg PUBLIC \"-//W3C//DTD SVG 1.1//EN\"\n \"http://www.w3.org/Graphics/SVG/1.1/DTD/svg11.dtd\">\n<!-- Generated by graphviz version 2.43.0 (0)\n -->\n<!-- Title: SimpleConv Pages: 1 -->\n<svg width=\"164pt\" height=\"696pt\"\n viewBox=\"0.00 0.00 163.56 696.16\" xmlns=\"http://www.w3.org/2000/svg\" xmlns:xlink=\"http://www.w3.org/1999/xlink\">\n<g id=\"graph0\" class=\"graph\" transform=\"scale(1 1) rotate(0) translate(4 692.16)\">\n<title>SimpleConv</title>\n<polygon fill=\"white\" stroke=\"transparent\" points=\"-4,4 -4,-692.16 159.56,-692.16 159.56,4 -4,4\"/>\n<text text-anchor=\"start\" x=\"8\" y=\"-673.96\" font-family=\"Times,serif\" font-weight=\"bold\" font-size=\"14.00\">SimpleConv</text>\n<text text-anchor=\"start\" x=\"8\" y=\"-659.96\" font-family=\"Times,serif\" font-size=\"14.00\">7 tensors total (1.3 KB)</text>\n<text text-anchor=\"start\" x=\"8\" y=\"-645.96\" font-family=\"Times,serif\" font-size=\"14.00\">31 params total (636 B)</text>\n<!-- input_1 -->\n<g id=\"node1\" class=\"node\">\n<title>input_1</title>\n<ellipse fill=\"#98fb98\" stroke=\"black\" cx=\"77.78\" cy=\"-35.36\" rx=\"77.56\" ry=\"35.21\"/>\n<text text-anchor=\"start\" x=\"55.28\" y=\"-46.16\" font-family=\"Times,serif\" font-weight=\"bold\" font-size=\"14.00\">input_1</text>\n<text text-anchor=\"start\" x=\"30.78\" y=\"-32.16\" font-family=\"Times,serif\" font-size=\"14.00\">6x1x3x3 (376 B)</text>\n<text text-anchor=\"start\" x=\"51.78\" y=\"-18.16\" font-family=\"Times,serif\" font-size=\"14.00\">@input.x</text>\n</g>\n<!-- conv2d_1_1 -->\n<g id=\"node2\" class=\"node\">\n<title>conv2d_1_1</title>\n<polygon fill=\"#e6e6e6\" stroke=\"black\" points=\"143.78,-170.71 11.78,-170.71 11.78,-106.71 143.78,-106.71 143.78,-170.71\"/>\n<text text-anchor=\"start\" x=\"43.28\" y=\"-156.51\" font-family=\"Times,serif\" font-weight=\"bold\" font-size=\"14.00\">conv2d_1_1</text>\n<text text-anchor=\"start\" x=\"30.78\" y=\"-142.51\" font-family=\"Times,serif\" font-size=\"14.00\">6x1x1x1 (184 B)</text>\n<text text-anchor=\"start\" x=\"19.78\" y=\"-128.51\" font-family=\"Times,serif\" font-size=\"14.00\">params: 1x1x3x3, x1</text>\n<text text-anchor=\"start\" x=\"57.78\" y=\"-114.51\" font-family=\"Times,serif\" font-size=\"14.00\">@conv</text>\n</g>\n<!-- input_1&#45;&gt;conv2d_1_1 -->\n<g id=\"edge1\" class=\"edge\">\n<title>input_1&#45;&gt;conv2d_1_1</title>\n<path fill=\"none\" stroke=\"black\" d=\"M77.78,-70.95C77.78,-80.18 77.78,-90.21 77.78,-99.62\"/>\n<polygon fill=\"black\" stroke=\"black\" points=\"75.33,-99.67 77.78,-106.67 80.23,-99.67 75.33,-99.67\"/>\n</g>\n<!-- relu_1_2 -->\n<g id=\"node3\" class=\"node\">\n<title>relu_1_2</title>\n<ellipse fill=\"white\" stroke=\"black\" cx=\"77.78\" cy=\"-232.17\" rx=\"77.56\" ry=\"25.41\"/>\n<text text-anchor=\"start\" x=\"52.28\" y=\"-235.97\" font-family=\"Times,serif\" font-weight=\"bold\" font-size=\"14.00\">relu_1_2</text>\n<text text-anchor=\"start\" x=\"30.78\" y=\"-221.97\" font-family=\"Times,serif\" font-size=\"14.00\">6x1x1x1 (184 B)</text>\n</g>\n<!-- conv2d_1_1&#45;&gt;relu_1_2 -->\n<g id=\"edge2\" class=\"edge\">\n<title>conv2d_1_1&#45;&gt;relu_1_2</title>\n<path fill=\"none\" stroke=\"black\" d=\"M77.78,-170.93C77.78,-180.07 77.78,-190.09 77.78,-199.27\"/>\n<polygon fill=\"black\" stroke=\"black\" points=\"75.33,-199.43 77.78,-206.43 80.23,-199.43 75.33,-199.43\"/>\n</g>\n<!-- maxpool2d_1_3 -->\n<g id=\"node4\" class=\"node\">\n<title>maxpool2d_1_3</title>\n<ellipse fill=\"white\" stroke=\"black\" cx=\"77.78\" cy=\"-319.08\" rx=\"77.56\" ry=\"25.41\"/>\n<text text-anchor=\"start\" x=\"31.78\" y=\"-322.88\" font-family=\"Times,serif\" font-weight=\"bold\" font-size=\"14.00\">maxpool2d_1_3</text>\n<text text-anchor=\"start\" x=\"30.78\" y=\"-308.88\" font-family=\"Times,serif\" font-size=\"14.00\">6x1x1x1 (184 B)</text>\n</g>\n<!-- relu_1_2&#45;&gt;maxpool2d_1_3 -->\n<g id=\"edge3\" class=\"edge\">\n<title>relu_1_2&#45;&gt;maxpool2d_1_3</title>\n<path fill=\"none\" stroke=\"black\" d=\"M77.78,-257.73C77.78,-266.7 77.78,-276.99 77.78,-286.49\"/>\n<polygon fill=\"black\" stroke=\"black\" points=\"75.33,-286.57 77.78,-293.57 80.23,-286.57 75.33,-286.57\"/>\n</g>\n<!-- flatten_1_4 -->\n<g id=\"node5\" class=\"node\">\n<title>flatten_1_4</title>\n<ellipse fill=\"white\" stroke=\"black\" cx=\"77.78\" cy=\"-405.99\" rx=\"57.05\" ry=\"25.41\"/>\n<text text-anchor=\"start\" x=\"45.28\" y=\"-409.79\" font-family=\"Times,serif\" font-weight=\"bold\" font-size=\"14.00\">flatten_1_4</text>\n<text text-anchor=\"start\" x=\"47.78\" y=\"-395.79\" font-family=\"Times,serif\" font-size=\"14.00\">x6 (136 B)</text>\n</g>\n<!-- maxpool2d_1_3&#45;&gt;flatten_1_4 -->\n<g id=\"edge4\" class=\"edge\">\n<title>maxpool2d_1_3&#45;&gt;flatten_1_4</title>\n<path fill=\"none\" stroke=\"black\" d=\"M77.78,-344.64C77.78,-353.62 77.78,-363.9 77.78,-373.4\"/>\n<polygon fill=\"black\" stroke=\"black\" points=\"75.33,-373.49 77.78,-380.49 80.23,-373.49 75.33,-373.49\"/>\n</g>\n<!-- linear_1_5 -->\n<g id=\"node6\" class=\"node\">\n<title>linear_1_5</title>\n<polygon fill=\"#e6e6e6\" stroke=\"black\" points=\"130.28,-531.45 25.28,-531.45 25.28,-467.45 130.28,-467.45 130.28,-531.45\"/>\n<text text-anchor=\"start\" x=\"47.28\" y=\"-517.25\" font-family=\"Times,serif\" font-weight=\"bold\" font-size=\"14.00\">linear_1_5</text>\n<text text-anchor=\"start\" x=\"47.78\" y=\"-503.25\" font-family=\"Times,serif\" font-size=\"14.00\">x3 (124 B)</text>\n<text text-anchor=\"start\" x=\"33.28\" y=\"-489.25\" font-family=\"Times,serif\" font-size=\"14.00\">params: 3x6, x3</text>\n<text text-anchor=\"start\" x=\"65.78\" y=\"-475.25\" font-family=\"Times,serif\" font-size=\"14.00\">@fc</text>\n</g>\n<!-- flatten_1_4&#45;&gt;linear_1_5 -->\n<g id=\"edge5\" class=\"edge\">\n<title>flatten_1_4&#45;&gt;linear_1_5</title>\n<path fill=\"none\" stroke=\"black\" d=\"M77.78,-431.5C77.78,-440.27 77.78,-450.38 77.78,-460.04\"/>\n<polygon fill=\"black\" stroke=\"black\" points=\"75.33,-460.31 77.78,-467.31 80.23,-460.31 75.33,-460.31\"/>\n</g>\n<!-- output_1 -->\n<g id=\"node7\" class=\"node\">\n<title>output_1</title>\n<ellipse fill=\"#ff9999\" stroke=\"black\" cx=\"77.78\" cy=\"-602.8\" rx=\"53.98\" ry=\"35.21\"/>\n<text text-anchor=\"start\" x=\"51.78\" y=\"-613.6\" font-family=\"Times,serif\" font-weight=\"bold\" font-size=\"14.00\">output_1</text>\n<text text-anchor=\"start\" x=\"47.78\" y=\"-599.6\" font-family=\"Times,serif\" font-size=\"14.00\">x3 (124 B)</text>\n<text text-anchor=\"start\" x=\"53.78\" y=\"-585.6\" font-family=\"Times,serif\" font-size=\"14.00\">@output</text>\n</g>\n<!-- linear_1_5&#45;&gt;output_1 -->\n<g id=\"edge6\" class=\"edge\">\n<title>linear_1_5&#45;&gt;output_1</title>\n<path fill=\"none\" stroke=\"black\" d=\"M77.78,-531.68C77.78,-540.67 77.78,-550.63 77.78,-560.15\"/>\n<polygon fill=\"black\" stroke=\"black\" points=\"75.33,-560.31 77.78,-567.31 80.23,-560.31 75.33,-560.31\"/>\n</g>\n</g>\n</svg>\n",
            "text/plain": [
              "<graphviz.graphs.Digraph at 0x78527ba44040>"
            ]
          },
          "metadata": {}
        }
      ]
    },
    {
      "cell_type": "code",
      "source": [
        "#simple recurrent neural network\n",
        "class SimpleRecurrent(nn.Module):\n",
        "    def __init__(self):\n",
        "        super().__init__()\n",
        "        self.fc = nn.Linear(in_features=5, out_features=5)\n",
        "\n",
        "    def forward(self, x):\n",
        "        for r in range(4):\n",
        "            x = self.fc(x)\n",
        "            x = x + 1\n",
        "            x = x * 2\n",
        "        return x\n",
        "\n",
        "model = SimpleRecurrent()\n",
        "x = torch.rand(5, 5)\n",
        "model_history = tl.log_forward_pass(model, x,\n",
        "                                    layers_to_save='all',\n",
        "                                    vis_opt='rolled')\n",
        "print(model_history)\n",
        "print(model_history['linear_1_1:2'])"
      ],
      "metadata": {
        "colab": {
          "base_uri": "https://localhost:8080/",
          "height": 1000
        },
        "id": "5M5lzA23c_Q5",
        "outputId": "4da027b3-4cde-4b13-c993-1f6d400d5243"
      },
      "execution_count": 16,
      "outputs": [
        {
          "output_type": "display_data",
          "data": {
            "image/svg+xml": "<?xml version=\"1.0\" encoding=\"UTF-8\" standalone=\"no\"?>\n<!DOCTYPE svg PUBLIC \"-//W3C//DTD SVG 1.1//EN\"\n \"http://www.w3.org/Graphics/SVG/1.1/DTD/svg11.dtd\">\n<!-- Generated by graphviz version 2.43.0 (0)\n -->\n<!-- Title: SimpleRecurrent Pages: 1 -->\n<svg width=\"185pt\" height=\"509pt\"\n viewBox=\"0.00 0.00 184.81 509.24\" xmlns=\"http://www.w3.org/2000/svg\" xmlns:xlink=\"http://www.w3.org/1999/xlink\">\n<g id=\"graph0\" class=\"graph\" transform=\"scale(1 1) rotate(0) translate(4 505.24)\">\n<title>SimpleRecurrent</title>\n<polygon fill=\"white\" stroke=\"transparent\" points=\"-4,4 -4,-505.24 180.81,-505.24 180.81,4 -4,4\"/>\n<text text-anchor=\"start\" x=\"8\" y=\"-487.04\" font-family=\"Times,serif\" font-weight=\"bold\" font-size=\"14.00\">SimpleRecurrent</text>\n<text text-anchor=\"start\" x=\"8\" y=\"-473.04\" font-family=\"Times,serif\" font-size=\"14.00\">14 tensors total (3.1 KB)</text>\n<text text-anchor=\"start\" x=\"8\" y=\"-459.04\" font-family=\"Times,serif\" font-size=\"14.00\">30 params total (360 B)</text>\n<!-- input_1 -->\n<g id=\"node1\" class=\"node\">\n<title>input_1</title>\n<ellipse fill=\"#98fb98\" stroke=\"black\" cx=\"111.05\" cy=\"-35.36\" rx=\"58.88\" ry=\"35.21\"/>\n<text text-anchor=\"start\" x=\"88.55\" y=\"-46.16\" font-family=\"Times,serif\" font-weight=\"bold\" font-size=\"14.00\">input_1</text>\n<text text-anchor=\"start\" x=\"77.55\" y=\"-32.16\" font-family=\"Times,serif\" font-size=\"14.00\">5x5 (228 B)</text>\n<text text-anchor=\"start\" x=\"85.05\" y=\"-18.16\" font-family=\"Times,serif\" font-size=\"14.00\">@input.x</text>\n</g>\n<!-- linear_1_1 -->\n<g id=\"node2\" class=\"node\">\n<title>linear_1_1</title>\n<polygon fill=\"#e6e6e6\" stroke=\"black\" points=\"163.55,-170.71 58.55,-170.71 58.55,-106.71 163.55,-106.71 163.55,-170.71\"/>\n<text text-anchor=\"start\" x=\"67.05\" y=\"-156.51\" font-family=\"Times,serif\" font-weight=\"bold\" font-size=\"14.00\">linear_1_1 (x4)</text>\n<text text-anchor=\"start\" x=\"77.55\" y=\"-142.51\" font-family=\"Times,serif\" font-size=\"14.00\">5x5 (228 B)</text>\n<text text-anchor=\"start\" x=\"66.55\" y=\"-128.51\" font-family=\"Times,serif\" font-size=\"14.00\">params: 5x5, x5</text>\n<text text-anchor=\"start\" x=\"99.05\" y=\"-114.51\" font-family=\"Times,serif\" font-size=\"14.00\">@fc</text>\n</g>\n<!-- input_1&#45;&gt;linear_1_1 -->\n<g id=\"edge1\" class=\"edge\">\n<title>input_1&#45;&gt;linear_1_1</title>\n<path fill=\"none\" stroke=\"black\" d=\"M111.05,-70.95C111.05,-80.18 111.05,-90.21 111.05,-99.62\"/>\n<polygon fill=\"black\" stroke=\"black\" points=\"108.6,-99.67 111.05,-106.67 113.5,-99.67 108.6,-99.67\"/>\n<text text-anchor=\"middle\" x=\"100.05\" y=\"-100.27\" font-family=\"Times,serif\" font-size=\"8.00\"> &#160;In 1 &#160;</text>\n</g>\n<!-- add_1_2 -->\n<g id=\"node3\" class=\"node\">\n<title>add_1_2</title>\n<ellipse fill=\"white\" stroke=\"black\" cx=\"65.05\" cy=\"-232.17\" rx=\"65.11\" ry=\"25.41\"/>\n<text text-anchor=\"start\" x=\"27.05\" y=\"-235.97\" font-family=\"Times,serif\" font-weight=\"bold\" font-size=\"14.00\">add_1_2 (x4)</text>\n<text text-anchor=\"start\" x=\"31.55\" y=\"-221.97\" font-family=\"Times,serif\" font-size=\"14.00\">5x5 (228 B)</text>\n</g>\n<!-- linear_1_1&#45;&gt;add_1_2 -->\n<g id=\"edge2\" class=\"edge\">\n<title>linear_1_1&#45;&gt;add_1_2</title>\n<path fill=\"none\" stroke=\"black\" d=\"M95.35,-170.93C90.53,-180.51 85.23,-191.05 80.43,-200.59\"/>\n<polygon fill=\"black\" stroke=\"black\" points=\"78.16,-199.66 77.2,-207.02 82.54,-201.86 78.16,-199.66\"/>\n<text text-anchor=\"middle\" x=\"78.35\" y=\"-173.53\" font-family=\"Times,serif\" font-size=\"8.00\"> &#160;Out 1&#45;4 &#160;</text>\n</g>\n<!-- mul_1_3 -->\n<g id=\"node4\" class=\"node\">\n<title>mul_1_3</title>\n<ellipse fill=\"white\" stroke=\"black\" cx=\"111.05\" cy=\"-319.08\" rx=\"65.52\" ry=\"25.41\"/>\n<text text-anchor=\"start\" x=\"72.55\" y=\"-322.88\" font-family=\"Times,serif\" font-weight=\"bold\" font-size=\"14.00\">mul_1_3 (x4)</text>\n<text text-anchor=\"start\" x=\"77.55\" y=\"-308.88\" font-family=\"Times,serif\" font-size=\"14.00\">5x5 (228 B)</text>\n</g>\n<!-- add_1_2&#45;&gt;mul_1_3 -->\n<g id=\"edge3\" class=\"edge\">\n<title>add_1_2&#45;&gt;mul_1_3</title>\n<path fill=\"none\" stroke=\"black\" d=\"M78.11,-257.27C83.21,-266.68 89.12,-277.58 94.51,-287.54\"/>\n<polygon fill=\"black\" stroke=\"black\" points=\"92.47,-288.92 97.96,-293.91 96.78,-286.59 92.47,-288.92\"/>\n<text text-anchor=\"middle\" x=\"83.46\" y=\"-287.51\" font-family=\"Times,serif\" font-size=\"8.00\"> &#160;In 1&#45;4 &#160;</text>\n</g>\n<!-- mul_1_3&#45;&gt;linear_1_1 -->\n<g id=\"edge4\" class=\"edge\">\n<title>mul_1_3&#45;&gt;linear_1_1</title>\n<path fill=\"none\" stroke=\"black\" d=\"M125.17,-293.93C130.66,-283.19 136.29,-270.16 139.05,-257.62 143.92,-235.52 143.5,-228.9 139.05,-206.71 137.1,-196.96 133.69,-186.86 129.91,-177.55\"/>\n<polygon fill=\"black\" stroke=\"black\" points=\"132.09,-176.42 127.11,-170.93 127.58,-178.33 132.09,-176.42\"/>\n<text text-anchor=\"middle\" x=\"112.61\" y=\"-173.53\" font-family=\"Times,serif\" font-size=\"8.00\"> &#160;In 2&#45;4 &#160;</text>\n<text text-anchor=\"middle\" x=\"142.17\" y=\"-287.53\" font-family=\"Times,serif\" font-size=\"8.00\"> &#160;Out 1&#45;3 &#160;</text>\n</g>\n<!-- output_1 -->\n<g id=\"node5\" class=\"node\">\n<title>output_1</title>\n<ellipse fill=\"#ff9999\" stroke=\"black\" cx=\"111.05\" cy=\"-415.89\" rx=\"58.88\" ry=\"35.21\"/>\n<text text-anchor=\"start\" x=\"85.05\" y=\"-426.69\" font-family=\"Times,serif\" font-weight=\"bold\" font-size=\"14.00\">output_1</text>\n<text text-anchor=\"start\" x=\"77.55\" y=\"-412.69\" font-family=\"Times,serif\" font-size=\"14.00\">5x5 (228 B)</text>\n<text text-anchor=\"start\" x=\"87.05\" y=\"-398.69\" font-family=\"Times,serif\" font-size=\"14.00\">@output</text>\n</g>\n<!-- mul_1_3&#45;&gt;output_1 -->\n<g id=\"edge5\" class=\"edge\">\n<title>mul_1_3&#45;&gt;output_1</title>\n<path fill=\"none\" stroke=\"black\" d=\"M111.05,-344.99C111.05,-353.65 111.05,-363.6 111.05,-373.24\"/>\n<polygon fill=\"black\" stroke=\"black\" points=\"108.6,-373.52 111.05,-380.52 113.5,-373.52 108.6,-373.52\"/>\n<text text-anchor=\"middle\" x=\"97.05\" y=\"-347.59\" font-family=\"Times,serif\" font-size=\"8.00\"> &#160;Out 4 &#160;</text>\n</g>\n</g>\n</svg>\n",
            "text/plain": [
              "<graphviz.graphs.Digraph at 0x78527b6cc730>"
            ]
          },
          "metadata": {}
        },
        {
          "output_type": "stream",
          "name": "stdout",
          "text": [
            "Log of SimpleRecurrent forward pass:\n",
            "\tRandom seed: 1902145391\n",
            "\tTime elapsed: 0.963s (0.961s spent logging)\n",
            "\tStructure:\n",
            "\t\t- recurrent (at most 4 loops)\n",
            "\t\t- no branching\n",
            "\t\t- no conditional (if-then) branching\n",
            "\t\t- 1 total modules\n",
            "\tTensor info:\n",
            "\t\t- 14 total tensors (3.1 KB) computed in forward pass.\n",
            "\t\t- 14 tensors (3.1 KB) with saved activations.\n",
            "\tParameters: 1 parameter operations (30 params total; 360 B)\n",
            "\tModule Hierarchy:\n",
            "\t\tfc:1\n",
            "\t\tfc:2\n",
            "\t\tfc:3\n",
            "\t\tfc:4\n",
            "\tLayers (all have saved activations):\n",
            "\t\t  (0) input_1 \n",
            "\t\t  (1) linear_1_1:1  (1/4 passes)\n",
            "\t\t  (2) add_1_2:1  (1/4 passes)\n",
            "\t\t  (3) mul_1_3:1  (1/4 passes)\n",
            "\t\t  (4) linear_1_1:2  (2/4 passes)\n",
            "\t\t  (5) add_1_2:2  (2/4 passes)\n",
            "\t\t  (6) mul_1_3:2  (2/4 passes)\n",
            "\t\t  (7) linear_1_1:3  (3/4 passes)\n",
            "\t\t  (8) add_1_2:3  (3/4 passes)\n",
            "\t\t  (9) mul_1_3:3  (3/4 passes)\n",
            "\t\t  (10) linear_1_1:4  (4/4 passes)\n",
            "\t\t  (11) add_1_2:4  (4/4 passes)\n",
            "\t\t  (12) mul_1_3:4  (4/4 passes)\n",
            "\t\t  (13) output_1 \n",
            "Layer linear_1_1 (pass 2/4), operation 4/12:\n",
            "\tOutput tensor: shape=(5, 5), dype=torch.float32, size=228 B\n",
            "\t\ttensor([[ 2.1088, -0.4321,  1.0803, -0.3932,  0.6244],\n",
            "        [ 2.7070, -0.3312,  0.8493, -0.5362, -0.0149],\n",
            "        [ 2.5178, -0.2772,  0.7856, -0.5910,  0.0455],\n",
            "        [ 2.5422, -0.5680,  1.1320, -0.4339,  0.1586],\n",
            "        [ 3.0438, -0.4050,  1.0631, -0.5506,  0.2702]])\n",
            "\tRelated Layers:\n",
            "\t\t- parent layers: mul_1_3:1\n",
            "\t\t- child layers: add_1_2:2\n",
            "\t\t- shares parents with no other layers\n",
            "\t\t- shares children with no other layers\n",
            "\t\t- descendent of input layers: input_1\n",
            "\t\t- ancestor of output layers: output_1\n",
            "\tParams: Computed from params with shape (5, 5), (5,); 30 params total (360 B)\n",
            "\tFunction: linear (grad_fn: AddmmBackward0) \n",
            "\tComputed inside module: fc:2\n",
            "\tTime elapsed:  1.936E-04s\n",
            "\tOutput of modules: fc\n",
            "\tOutput of bottom-level module: fc:2\n",
            "\tLookup keys: -10, 4, fc:2, linear_1:2, linear_1_1:2\n"
          ]
        }
      ]
    },
    {
      "cell_type": "code",
      "source": [],
      "metadata": {
        "id": "xBcS8cxIdGgx"
      },
      "execution_count": null,
      "outputs": []
    }
  ]
}