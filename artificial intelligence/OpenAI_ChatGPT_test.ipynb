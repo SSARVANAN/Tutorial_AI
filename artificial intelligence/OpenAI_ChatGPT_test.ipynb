{
  "nbformat": 4,
  "nbformat_minor": 0,
  "metadata": {
    "colab": {
      "provenance": []
    },
    "kernelspec": {
      "name": "python3",
      "display_name": "Python 3"
    },
    "language_info": {
      "name": "python"
    }
  },
  "cells": [
    {
      "cell_type": "markdown",
      "source": [
        "# Testing of OpenAI chatGPT\n",
        "\n",
        "ChatGPT is a recently released chatbot. ChatGPT has impressed the community with its capabilities; in my recent article I tested its capabilities. In this notebook is the corresponding code\n",
        "\n",
        "[Medium article]()"
      ],
      "metadata": {
        "id": "43IUQ6DLMbRf"
      }
    },
    {
      "cell_type": "code",
      "execution_count": 1,
      "metadata": {
        "id": "_nTiU16mjZNx"
      },
      "outputs": [],
      "source": [
        "import random\n",
        "\n",
        "def calculate_pi(n):\n",
        "    # Initialize the number of points inside and outside the circle\n",
        "    inside = 0\n",
        "    outside = 0\n",
        "\n",
        "    # Generate n random points in the unit square\n",
        "    for i in range(n):\n",
        "        x = random.uniform(0, 1)\n",
        "        y = random.uniform(0, 1)\n",
        "\n",
        "        # Check if the point is inside or outside the unit circle\n",
        "        if x**2 + y**2 <= 1:\n",
        "            inside += 1\n",
        "        else:\n",
        "            outside += 1\n",
        "\n",
        "    # Calculate Pi using the ratio of points inside and outside the circle\n",
        "    return 4 * (inside / (inside + outside))"
      ]
    },
    {
      "cell_type": "code",
      "source": [
        "calculate_pi(100000)"
      ],
      "metadata": {
        "colab": {
          "base_uri": "https://localhost:8080/"
        },
        "id": "8o1JDCtXjjIY",
        "outputId": "14cdee70-2c63-43f2-95d4-9cbcecb491c8"
      },
      "execution_count": 3,
      "outputs": [
        {
          "output_type": "execute_result",
          "data": {
            "text/plain": [
              "3.13308"
            ]
          },
          "metadata": {},
          "execution_count": 3
        }
      ]
    },
    {
      "cell_type": "code",
      "source": [
        "import matplotlib.pyplot as plt\n",
        "import numpy as np\n",
        "\n",
        "def plot_normal_distribution(n, mu, sigma):\n",
        "    # Generate N samples from the normal distribution\n",
        "    samples = np.random.normal(mu, sigma, n)\n",
        "\n",
        "    # Plot a histogram of the samples\n",
        "    plt.hist(samples, bins=50)\n",
        "    plt.show()\n",
        "\n",
        "plot_normal_distribution(1000, 0, 1)"
      ],
      "metadata": {
        "colab": {
          "base_uri": "https://localhost:8080/",
          "height": 265
        },
        "id": "e3-jYQ8djnb8",
        "outputId": "cf86bc13-ec7d-45bc-f1b5-c132ad86761e"
      },
      "execution_count": 4,
      "outputs": [
        {
          "output_type": "display_data",
          "data": {
            "text/plain": [
              "<Figure size 432x288 with 1 Axes>"
            ],
            "image/png": "[encoded data removed]"
          },
          "metadata": {
            "needs_background": "light"
          }
        }
      ]
    },
    {
      "cell_type": "code",
      "source": [
        "def function_median(nums1, nums2):\n",
        "    # Merge the two arrays into one sorted array.\n",
        "    merged = []\n",
        "    i = 0  # Index for nums1\n",
        "    j = 0  # Index for nums2\n",
        "    while i < len(nums1) and j < len(nums2):\n",
        "        if nums1[i] <= nums2[j]:\n",
        "            merged.append(nums1[i])\n",
        "            i += 1\n",
        "        else:\n",
        "            merged.append(nums2[j])\n",
        "            j += 1\n",
        "\n",
        "    # Add the remaining elements of nums1 (if any) to the end of merged.\n",
        "    while i < len(nums1):\n",
        "        merged.append(nums1[i])\n",
        "        i += 1\n",
        "\n",
        "    # Add the remaining elements of nums2 (if any) to the end of merged.\n",
        "    while j < len(nums2):\n",
        "        merged.append(nums2[j])\n",
        "        j += 1\n",
        "\n",
        "    # Find the median of the merged array.\n",
        "    if len(merged) % 2 == 1:\n",
        "        # Odd number of elements.\n",
        "        median = merged[len(merged) // 2]\n",
        "    else:\n",
        "        # Even number of elements.\n",
        "        median = (merged[len(merged) // 2 - 1] + merged[len(merged) // 2]) / 2\n",
        "\n",
        "    return median\n"
      ],
      "metadata": {
        "id": "iWGyvgQRofLw"
      },
      "execution_count": 6,
      "outputs": []
    },
    {
      "cell_type": "code",
      "source": [
        "nums1 = [1,3,5]\n",
        "nums2 = [2]\n",
        "print(function_median(nums1, nums2))\n",
        "print(np.median([1,2,3,5]))"
      ],
      "metadata": {
        "colab": {
          "base_uri": "https://localhost:8080/"
        },
        "id": "EFbyaElpA_Wz",
        "outputId": "d0603a10-5dc1-4686-8b70-8d48dfaeef74"
      },
      "execution_count": 10,
      "outputs": [
        {
          "output_type": "stream",
          "name": "stdout",
          "text": [
            "2.5\n",
            "2.5\n"
          ]
        }
      ]
    },
    {
      "cell_type": "code",
      "source": [
        "def smallestMissingPositive(nums):\n",
        "    # Mark the presence of each element in the array by setting nums[x - 1] = -abs(nums[x - 1])\n",
        "    # for each x such that 1 <= x <= len(nums).\n",
        "    for i in range(len(nums)):\n",
        "        if 1 <= nums[i] <= len(nums):\n",
        "            nums[nums[i] - 1] = -abs(nums[nums[i] - 1])\n",
        "\n",
        "    # Return the first index i such that nums[i] > 0.\n",
        "    for i in range(len(nums)):\n",
        "        if nums[i] > 0:\n",
        "            return i + 1\n",
        "\n",
        "    # If no such index was found, it means the array contains all positive integers\n",
        "    # from 1 to len(nums) inclusive, so the smallest missing positive integer is\n",
        "    # len(nums) + 1.\n",
        "    return len(nums) + 1\n",
        "\n",
        "print(smallestMissingPositive([3, 4, -1,1]))"
      ],
      "metadata": {
        "colab": {
          "base_uri": "https://localhost:8080/"
        },
        "id": "NdPzGi7VBOcB",
        "outputId": "e9c2aff0-4ce6-4b16-ec28-69863630c902"
      },
      "execution_count": 11,
      "outputs": [
        {
          "output_type": "stream",
          "name": "stdout",
          "text": [
            "1\n"
          ]
        }
      ]
    },
    {
      "cell_type": "code",
      "source": [
        "def trapWater(heights):\n",
        "    # Find the highest bar.\n",
        "    maxHeight = 0\n",
        "    maxHeightIndex = 0\n",
        "    for i in range(len(heights)):\n",
        "        if heights[i] > maxHeight:\n",
        "            maxHeight = heights[i]\n",
        "            maxHeightIndex = i\n",
        "\n",
        "    # Initialize two pointers left and right to maxHeightIndex.\n",
        "    left = maxHeightIndex\n",
        "    right = maxHeightIndex\n",
        "\n",
        "    # While the height of the bar at left is less than the height of the bar at maxHeightIndex,\n",
        "    # decrement left.\n",
        "    while left >= 0 and heights[left] < heights[maxHeightIndex]:\n",
        "        left -= 1\n",
        "\n",
        "    # While the height of the bar at right is less than the height of the bar at maxHeightIndex,\n",
        "    # increment right.\n",
        "    while right < len(heights) and heights[right] < heights[maxHeightIndex]:\n",
        "        right += 1\n",
        "\n",
        "    # The amount of water that can be trapped in the bar graph is equal to the sum of the minimum\n",
        "    # heights of the bars at indices left + 1 to right - 1 minus the sum of the actual heights of\n",
        "    # the bars at those indices.\n",
        "    trappedWater = 0\n",
        "    for i in range(left + 1, right):\n",
        "        trappedWater += min(heights[left], heights[right]) - heights[i]\n",
        "\n",
        "    return trappedWater\n",
        "\n",
        "\n",
        "heights = [0,1,0,2,1,0,1,3,2,1,2,1]\n",
        "trapWater(heights)"
      ],
      "metadata": {
        "colab": {
          "base_uri": "https://localhost:8080/"
        },
        "id": "chQuyRNLBbiO",
        "outputId": "db9f8f33-d390-4f8c-f757-3460c5f2c44f"
      },
      "execution_count": 12,
      "outputs": [
        {
          "output_type": "execute_result",
          "data": {
            "text/plain": [
              "0"
            ]
          },
          "metadata": {},
          "execution_count": 12
        }
      ]
    },
    {
      "cell_type": "code",
      "source": [],
      "metadata": {
        "id": "r9EgJp09EiLV"
      },
      "execution_count": null,
      "outputs": []
    }
  ]
}