{
  "nbformat": 4,
  "nbformat_minor": 0,
  "metadata": {
    "colab": {
      "name": "Regular expression.ipynb",
      "provenance": [],
      "collapsed_sections": []
    },
    "kernelspec": {
      "name": "python3",
      "display_name": "Python 3"
    },
    "language_info": {
      "name": "python"
    }
  },
  "cells": [
    {
      "cell_type": "markdown",
      "source": [
        "# Regular expression (regex) in python\n",
        "\n",
        "![reg_metric](https://images.unsplash.com/photo-1519682577862-22b62b24e493?ixlib=rb-1.2.1&ixid=MnwxMjA3fDB8MHxwaG90by1wYWdlfHx8fGVufDB8fHx8&auto=format&fit=crop&w=600&q=80)\n",
        "\n",
        "\n",
        "photo by [Thought Catalog](https://unsplash.com/@thoughtcatalog) at [Unsplash](https://unsplash.com/)\n",
        "\n",
        "## Introduction\n",
        "\n",
        "this is the companion colab code for my tutorial in medium about regular expression in Python, please read the article for better understanding of the code. In the article I discuss about the theory, and how efficiently use the associate libraries. Here I am providing just generic information about the algorithm and the code. \n",
        "this is a colab notebook, you can test in colab (all the code has been tested and you do not need to set your machine)\n",
        "\n",
        "[Medium article about regular expression](https://)\n",
        "\n",
        "\n",
        "\n",
        "note: the articles will be publish soon\n",
        "\n",
        "for other stories check my medium profile:\n",
        "[Salvatore Raieli](https://salvatore-raieli.medium.com/)"
      ],
      "metadata": {
        "id": "HQwdhrX4nfm-"
      }
    },
    {
      "cell_type": "markdown",
      "source": [
        "## Regular expression in Python"
      ],
      "metadata": {
        "id": "Or4tfWlVxyeV"
      }
    },
    {
      "cell_type": "code",
      "source": [
        "import re"
      ],
      "metadata": {
        "id": "EYpaWb9Tvysw"
      },
      "execution_count": 1,
      "outputs": []
    },
    {
      "cell_type": "code",
      "source": [
        "#case sensitive\n",
        "s = \"Juliet: My only love sprung from my only hate! Too early seen unknown, and known too late!\"\n",
        "p = re.compile(\"juliet\")\n",
        "result = p.findall(s)\n",
        "p = re.compile(\"Juliet\")\n",
        "result1 = p.findall(s)\n",
        "result, result1"
      ],
      "metadata": {
        "colab": {
          "base_uri": "https://localhost:8080/"
        },
        "id": "nJk9nouGv0_Y",
        "outputId": "ed20b776-b248-484f-ed2b-3f83b623a6e8"
      },
      "execution_count": null,
      "outputs": [
        {
          "output_type": "execute_result",
          "data": {
            "text/plain": [
              "([], ['Juliet'])"
            ]
          },
          "metadata": {},
          "execution_count": 2
        }
      ]
    },
    {
      "cell_type": "code",
      "source": [
        "#case sensitive\n",
        "p = re.compile(\"My\")\n",
        "result = p.findall(s)\n",
        "#square bracket for disjuction\n",
        "p = re.compile(\"[Mm]y\")\n",
        "result1 = p.findall(s)\n",
        "result, result1"
      ],
      "metadata": {
        "colab": {
          "base_uri": "https://localhost:8080/"
        },
        "id": "iSs1Tmdhwd_r",
        "outputId": "81c3c750-e98c-473a-c7f6-e5bc6495850b"
      },
      "execution_count": null,
      "outputs": [
        {
          "output_type": "execute_result",
          "data": {
            "text/plain": [
              "(['My'], ['My', 'my'])"
            ]
          },
          "metadata": {},
          "execution_count": 3
        }
      ]
    },
    {
      "cell_type": "code",
      "source": [
        "#match all the uppercase or lowercase letter, all digits\n",
        "s = \"A man can die but once. (Feeble, Act 3, scene 2.)\"\n",
        "p = re.compile(\"[A-Z]\")\n",
        "result = p.findall(s)\n",
        "p = re.compile(\"[a-z]\")\n",
        "result1 = p.findall(s)\n",
        "p = re.compile(\"[0-9]\")\n",
        "result2 = p.findall(s)\n",
        "result, result1[:5], result2"
      ],
      "metadata": {
        "colab": {
          "base_uri": "https://localhost:8080/"
        },
        "id": "PFDnWJOjyw1v",
        "outputId": "12989c01-c9ce-4912-936e-d3215202c4da"
      },
      "execution_count": null,
      "outputs": [
        {
          "output_type": "execute_result",
          "data": {
            "text/plain": [
              "(['A', 'F', 'A'], ['m', 'a', 'n', 'c', 'a'], ['3', '2'])"
            ]
          },
          "metadata": {},
          "execution_count": 4
        }
      ]
    },
    {
      "cell_type": "code",
      "source": [
        "#use of caret\n",
        "s = \"Hamlet: There is nothing either good or bad, but thinking makes it so.\"\n",
        "#not lower case letter (spaces, uppercase etc.. matched)\n",
        "p = re.compile(\"[^a-z]\")\n",
        "result = p.findall(s)\n",
        "result[:3]"
      ],
      "metadata": {
        "colab": {
          "base_uri": "https://localhost:8080/"
        },
        "id": "j7RKYxTd0R1U",
        "outputId": "4f5392cd-c49a-4e32-9219-aff96386694d"
      },
      "execution_count": null,
      "outputs": [
        {
          "output_type": "execute_result",
          "data": {
            "text/plain": [
              "['H', ':', ' ']"
            ]
          },
          "metadata": {},
          "execution_count": 5
        }
      ]
    },
    {
      "cell_type": "code",
      "source": [
        "#match optional elements\n",
        "s = \"Cowards die many times before their deaths; The valiant never taste of death but once.\"\n",
        "p = re.compile(\"deaths?\")\n",
        "result = p.findall(s)\n",
        "result"
      ],
      "metadata": {
        "colab": {
          "base_uri": "https://localhost:8080/"
        },
        "id": "3Y0e_4SY1pQV",
        "outputId": "ff0e8203-3c9c-4d4e-ce0c-2cd7db532c19"
      },
      "execution_count": null,
      "outputs": [
        {
          "output_type": "execute_result",
          "data": {
            "text/plain": [
              "['deaths', 'death']"
            ]
          },
          "metadata": {},
          "execution_count": 6
        }
      ]
    },
    {
      "cell_type": "code",
      "source": [
        "#difference between + and *\n",
        "s = \"Tomorrow, and tomorrow, and tomorrow, Creeps in this petty pace from day to day, To the last syllable of recorded time\"\n",
        "result = re.compile(\"e\").findall(s) \n",
        "result1 = re.compile(\"e+\").findall(s)\n",
        "result2 = re.compile(\"e*\").findall(s)\n",
        "result, result1, result2[:5]"
      ],
      "metadata": {
        "colab": {
          "base_uri": "https://localhost:8080/"
        },
        "id": "UlorGrIBq1UB",
        "outputId": "4789448e-f4d6-489e-f189-937cc67a7b7f"
      },
      "execution_count": null,
      "outputs": [
        {
          "output_type": "execute_result",
          "data": {
            "text/plain": [
              "(['e', 'e', 'e', 'e', 'e', 'e', 'e', 'e', 'e'],\n",
              " ['ee', 'e', 'e', 'e', 'e', 'e', 'e', 'e'],\n",
              " ['', '', '', '', ''])"
            ]
          },
          "metadata": {},
          "execution_count": 7
        }
      ]
    },
    {
      "cell_type": "code",
      "source": [
        "#the period\n",
        "s = \"Lady Macbeth: Look like the innocent flower, But be the serpent under it.\"\n",
        "result = re.compile(\".\").findall(s)\n",
        "result[:5]"
      ],
      "metadata": {
        "colab": {
          "base_uri": "https://localhost:8080/"
        },
        "id": "PZqTRORMscyC",
        "outputId": "2f7c41c4-be27-4d33-e80f-32dcc13ae7b5"
      },
      "execution_count": null,
      "outputs": [
        {
          "output_type": "execute_result",
          "data": {
            "text/plain": [
              "['L', 'a', 'd', 'y', ' ']"
            ]
          },
          "metadata": {},
          "execution_count": 8
        }
      ]
    },
    {
      "cell_type": "code",
      "source": [
        "#anchor : ^ for the start of the line, $ for the end of the line\n",
        "s = [\"I am a Jew. Hath not a Jew eyes?\", \"Hath not a Jew hands, organs, dimensions, senses, affections, passions;\", \n",
        "     \"fed with the same food, hurt with the same weapons, subject to the same diseases\", \n",
        "     \"heal'd by the same means, warm'd and cool'd by the same winter and summer, as a Christian is?\",\n",
        "     \"If you prick us, do we not bleed? If you tickle us, do we not laugh?\",\n",
        "     \"If you poison us, do we not die? And if you wrong us, shall we not revenge?\"]\n",
        "result = [re.compile(\"^If\").findall(p) for p in s ]\n",
        "result1 = [re.compile(\"diseases$\").findall(p) for p in s ]\n",
        "result, result1"
      ],
      "metadata": {
        "colab": {
          "base_uri": "https://localhost:8080/"
        },
        "id": "1xykl1Jsx-rd",
        "outputId": "e349f768-d958-4bca-dff5-f6c65babda6b"
      },
      "execution_count": null,
      "outputs": [
        {
          "output_type": "execute_result",
          "data": {
            "text/plain": [
              "([[], [], [], [], ['If'], ['If']], [[], [], ['diseases'], [], [], []])"
            ]
          },
          "metadata": {},
          "execution_count": 9
        }
      ]
    },
    {
      "cell_type": "code",
      "source": [
        "#the disjuction operator\n",
        "result = [re.compile(\"the|[iI]f\").findall(p) for p in s ]\n",
        "s1 = \"Love looks not with the eyes, but with the mind, And therefore is wing'd Cupid painted blind.\"\n",
        "result1 = re.compile(\"(bl|m)ind\").findall(s1)\n",
        "result, result1"
      ],
      "metadata": {
        "colab": {
          "base_uri": "https://localhost:8080/"
        },
        "id": "95QI29qxzlkB",
        "outputId": "882dde01-473b-45dd-fde4-1cf171a2f236"
      },
      "execution_count": null,
      "outputs": [
        {
          "output_type": "execute_result",
          "data": {
            "text/plain": [
              "([[], [], ['the', 'the', 'the'], ['the', 'the'], ['If', 'If'], ['If', 'if']],\n",
              " ['m', 'bl'])"
            ]
          },
          "metadata": {},
          "execution_count": 10
        }
      ]
    },
    {
      "cell_type": "code",
      "source": [
        "#how to much all the string, alphanumeric characters, spaces\n",
        "s = \"If to do were as easy as to know what were good to do, chapels had been churches, and poor men’s cottages princes’ palaces. Portia, Act 1, scene 2.\"\n",
        "result = re.compile(\"[0-9]\").findall(s) #match any digit\n",
        "result1 = re.compile(\"[^0-9]\").findall(s) #not digit\n",
        "result2 = re.compile(\"[a-zA-Z0-9]\").findall(s) #alphanumeric\n",
        "result3 = re.compile(\"[^\\w]\").findall(s) #not alphanumeric\n",
        "result4 = re.compile(\"[ \\r\\t\\n\\f]\").findall(s) #whitespace and also tabs\n",
        "result5 = re.compile(\"[^\\s]\").findall(s) #not whitespace\n",
        "result, result1[:5], result2[:5], result3[:5], result4[:5], result5[:5]"
      ],
      "metadata": {
        "colab": {
          "base_uri": "https://localhost:8080/"
        },
        "id": "ZKzn4Cip3jJB",
        "outputId": "2f485e6d-7fac-48aa-a6b1-85b9f17bb42a"
      },
      "execution_count": null,
      "outputs": [
        {
          "output_type": "execute_result",
          "data": {
            "text/plain": [
              "(['1', '2'],\n",
              " ['I', 'f', ' ', 't', 'o'],\n",
              " ['I', 'f', 't', 'o', 'd'],\n",
              " [' ', ' ', ' ', ' ', ' '],\n",
              " [' ', ' ', ' ', ' ', ' '],\n",
              " ['I', 'f', 't', 'o', 'd'])"
            ]
          },
          "metadata": {},
          "execution_count": 11
        }
      ]
    },
    {
      "cell_type": "code",
      "source": [
        "#compressed version\n",
        "s = \"I could be bounded in a nutshell, and count myself a king of infinite space, were it not that I have bad dreams. Hamlet, Act 2, scene 2.\"\n",
        "result = re.compile(\"\\d\").findall(s) #match any digit\n",
        "result1 = re.compile(\"\\D\").findall(s) #not digit\n",
        "result2 = re.compile(\"\\w\").findall(s) #alphanumeric\n",
        "result3 = re.compile(\"\\W\").findall(s) #not alphanumeric\n",
        "result4 = re.compile(\"\\s\").findall(s) #whitespace and also tabs\n",
        "result5 = re.compile(\"\\S\").findall(s) #not whitespace\n",
        "result, result1[:5], result2[:5], result3[:5], result4[:5], result5[:5]"
      ],
      "metadata": {
        "colab": {
          "base_uri": "https://localhost:8080/"
        },
        "id": "orGFRqnR8V_S",
        "outputId": "874fd083-e183-477a-c987-b9a3b6b7dd15"
      },
      "execution_count": null,
      "outputs": [
        {
          "output_type": "execute_result",
          "data": {
            "text/plain": [
              "(['2', '2'],\n",
              " ['I', ' ', 'c', 'o', 'u'],\n",
              " ['I', 'c', 'o', 'u', 'l'],\n",
              " [' ', ' ', ' ', ' ', ' '],\n",
              " [' ', ' ', ' ', ' ', ' '],\n",
              " ['I', 'c', 'o', 'u', 'l'])"
            ]
          },
          "metadata": {},
          "execution_count": 12
        }
      ]
    },
    {
      "cell_type": "code",
      "source": [
        "#matching n times\n",
        "s = \"My words fly up, my thoughts remain below; Words without thoughts never to heaven go. Hamlet, Claudius, scene iii \"\n",
        "result = re.compile(\"i*\").findall(s) #zero or more\n",
        "result1 = re.compile(\"i+\").findall(s) #one or more\n",
        "result2 = re.compile(\"ii?\").findall(s) #zero or one of the previous expression\n",
        "result3 = re.compile(\"i{3}\").findall(s) #n occurrences\n",
        "result4 = re.compile(\"i{2,}\").findall(s) #at least n occurrencies\n",
        "result5 = re.compile(\"i{,2}\").findall(s) #at maximum n occurrences\n",
        "result6 = re.compile(\"i{1,3}\").findall(s) #from n to m, providing a range\n",
        "result[:5], result1[:5], result2[:5], result3, result4, result5[:5], result6"
      ],
      "metadata": {
        "colab": {
          "base_uri": "https://localhost:8080/"
        },
        "id": "G0lCSvR9_6jo",
        "outputId": "55e8a89a-5255-4e97-fa81-4b3b636627d3"
      },
      "execution_count": null,
      "outputs": [
        {
          "output_type": "execute_result",
          "data": {
            "text/plain": [
              "(['', '', '', '', ''],\n",
              " ['i', 'i', 'i', 'iii'],\n",
              " ['i', 'i', 'i', 'ii', 'i'],\n",
              " ['iii'],\n",
              " ['iii'],\n",
              " ['', '', '', '', ''],\n",
              " ['i', 'i', 'i', 'iii'])"
            ]
          },
          "metadata": {},
          "execution_count": 13
        }
      ]
    },
    {
      "cell_type": "code",
      "source": [
        "#how to much special charachter as !?.() \\/ [] {} * +\n",
        "s = \"We know what we are, but know not what we may be. Ophelia, scene v \"\n",
        "result = re.compile(\".\").findall(s) #match everything\n",
        "result1 = re.compile(\"\\.\").findall(s) #match the dot\n",
        "result[:5], result1"
      ],
      "metadata": {
        "colab": {
          "base_uri": "https://localhost:8080/"
        },
        "id": "lirn5UeSCmsL",
        "outputId": "eaff7dd4-e5ee-4810-ff4a-b6871d970855"
      },
      "execution_count": null,
      "outputs": [
        {
          "output_type": "execute_result",
          "data": {
            "text/plain": [
              "(['W', 'e', ' ', 'k', 'n'], ['.'])"
            ]
          },
          "metadata": {},
          "execution_count": 14
        }
      ]
    },
    {
      "cell_type": "markdown",
      "source": [
        "## The library RE in python"
      ],
      "metadata": {
        "id": "lU7nspp5wr3_"
      }
    },
    {
      "cell_type": "code",
      "source": [
        "s = \"Keep up your bright swords, for the dew will rust them.\"\n",
        "# compile() creates regular expression, which you can use with different methods\n",
        "p = re.compile(\"\\.\")\n",
        "result = p.findall(s)\n",
        "#findall, find all the occurrences of the pattern\n",
        "result1 = re.findall(\"the\", s)\n",
        "result, result1"
      ],
      "metadata": {
        "colab": {
          "base_uri": "https://localhost:8080/"
        },
        "id": "NpVaZ4NB9eS2",
        "outputId": "6da72adb-230e-4951-f281-c2d136253412"
      },
      "execution_count": null,
      "outputs": [
        {
          "output_type": "execute_result",
          "data": {
            "text/plain": [
              "(['.'], ['the', 'the'], ['But men are men; ', ' best sometimes forget'])"
            ]
          },
          "metadata": {},
          "execution_count": 16
        }
      ]
    },
    {
      "cell_type": "code",
      "source": [
        "#split is used to split, note that you can set the argument maxplit\n",
        "#to decide the number of maximum split\n",
        "s = \"But men are men; the best sometimes forget\"\n",
        "result = re.split(\"the\",  s)\n",
        "result1 = re.split(\"e\",  s, maxsplit = 1)\n",
        "result2 = re.split(\"e\",  s, maxsplit = 5)\n",
        "result, result1, result2"
      ],
      "metadata": {
        "colab": {
          "base_uri": "https://localhost:8080/"
        },
        "id": "CePn3g3vD0bF",
        "outputId": "15fc8e5b-8b85-45b7-b867-6c7f86d88d1c"
      },
      "execution_count": null,
      "outputs": [
        {
          "output_type": "execute_result",
          "data": {
            "text/plain": [
              "(['But men are men; ', ' best sometimes forget'],\n",
              " ['But m', 'n are men; the best sometimes forget'],\n",
              " ['But m', 'n ar', ' m', 'n; th', ' b', 'st sometimes forget'])"
            ]
          },
          "metadata": {},
          "execution_count": 33
        }
      ]
    },
    {
      "cell_type": "code",
      "source": [
        "#flags argument control the option, notice that with IGNORECASE\n",
        "#the pattern is used even if is uppercase\n",
        "s = \"Men should be what they seem; Or those that be not, would they might seem none!\"\n",
        "result = re.split(\"or\",  s)\n",
        "result1 = re.split(\"or\",  s, flags= re.IGNORECASE)\n",
        "result, result1"
      ],
      "metadata": {
        "colab": {
          "base_uri": "https://localhost:8080/"
        },
        "id": "s0cXl9kHGPkY",
        "outputId": "0be83726-18e2-42da-eca5-710847b8f384"
      },
      "execution_count": null,
      "outputs": [
        {
          "output_type": "execute_result",
          "data": {
            "text/plain": [
              "(['Men should be what they seem; Or those that be not, would they might seem none!'],\n",
              " ['Men should be what they seem; ',\n",
              "  ' those that be not, would they might seem none!'])"
            ]
          },
          "metadata": {},
          "execution_count": 23
        }
      ]
    },
    {
      "cell_type": "code",
      "source": [
        "#sub (Shakespeare forgive me for what I am gonna do)\n",
        "#sub() allows you to substitute a pattern \n",
        "s = \"Cowards die many times before their deaths; The valiant never taste of death but once.\"\n",
        "result = re.sub(\"once\", \"he still dies\", s)\n",
        "#subn() is the same, it just returns the substitution and how many times is done\n",
        "#in a tuple\n",
        "result1 = re.subn(\"once\", \"he still dies\", s)\n",
        "result, result1"
      ],
      "metadata": {
        "colab": {
          "base_uri": "https://localhost:8080/"
        },
        "id": "u1gKdM3-IK7T",
        "outputId": "5d4fa146-e16f-4872-c8db-66707bb94a82"
      },
      "execution_count": null,
      "outputs": [
        {
          "output_type": "execute_result",
          "data": {
            "text/plain": [
              "('Cowards die many times before their deaths; The valiant never taste of death but he still dies.',\n",
              " ('Cowards die many times before their deaths; The valiant never taste of death but he still dies.',\n",
              "  1))"
            ]
          },
          "metadata": {},
          "execution_count": 26
        }
      ]
    },
    {
      "cell_type": "code",
      "source": [
        "#escape, add backslash everywhere\n",
        "#useful if you have some matacharacter (like the dot)\n",
        "s = \"I have had a dream, past the wit of man to say what dream it was.\"\n",
        "result = re.escape( s)\n",
        "result"
      ],
      "metadata": {
        "colab": {
          "base_uri": "https://localhost:8080/",
          "height": 53
        },
        "id": "_Wxa931YJNOV",
        "outputId": "01efaa62-8b98-4b9d-f135-71991673decc"
      },
      "execution_count": null,
      "outputs": [
        {
          "output_type": "execute_result",
          "data": {
            "application/vnd.google.colaboratory.intrinsic+json": {
              "type": "string"
            },
            "text/plain": [
              "'I\\\\ have\\\\ had\\\\ a\\\\ dream,\\\\ past\\\\ the\\\\ wit\\\\ of\\\\ man\\\\ to\\\\ say\\\\ what\\\\ dream\\\\ it\\\\ was\\\\.'"
            ]
          },
          "metadata": {},
          "execution_count": 28
        }
      ]
    },
    {
      "cell_type": "code",
      "source": [
        "#sub\n",
        "s = \"I have an exposition of sleep come upon me\"\n",
        "result = re.search(\"sleep\",s)\n",
        "result1 = re.search(\"dream\",s)\n",
        "result, result1"
      ],
      "metadata": {
        "colab": {
          "base_uri": "https://localhost:8080/"
        },
        "id": "RmNAfFBKJ-7M",
        "outputId": "68fea85d-d202-4e0f-acde-a447613627c2"
      },
      "execution_count": 2,
      "outputs": [
        {
          "output_type": "execute_result",
          "data": {
            "text/plain": [
              "(<re.Match object; span=(24, 29), match='sleep'>, None)"
            ]
          },
          "metadata": {},
          "execution_count": 2
        }
      ]
    },
    {
      "cell_type": "markdown",
      "source": [
        ""
      ],
      "metadata": {
        "id": "AAlb-YQGGO69"
      }
    },
    {
      "cell_type": "markdown",
      "source": [
        ""
      ],
      "metadata": {
        "id": "K-Hb3-8P967f"
      }
    }
  ]
}