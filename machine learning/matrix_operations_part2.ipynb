{
  "nbformat": 4,
  "nbformat_minor": 0,
  "metadata": {
    "colab": {
      "name": "matrix operations part2.ipynb",
      "provenance": [],
      "collapsed_sections": []
    },
    "kernelspec": {
      "name": "python3",
      "display_name": "Python 3"
    },
    "language_info": {
      "name": "python"
    }
  },
  "cells": [
    {
      "cell_type": "markdown",
      "source": [
        "# Matrix operations for machine learning - part2\n",
        "\n",
        "![matrixes](https://images.unsplash.com/photo-1573512443418-c6768862dda7?ixlib=rb-1.2.1&ixid=MnwxMjA3fDB8MHxwaG90by1wYWdlfHx8fGVufDB8fHx8&auto=format&fit=crop&w=1074&q=80)\n",
        "\n",
        "\n",
        "photo by [Derek Mckinney](https://unsplash.com/@derickray) at [Unsplash](https://unsplash.com/)\n",
        "\n",
        "\n",
        "## Introduction\n",
        "\n",
        "This is the companion colab code for my tutorial in medium about matrix operation introduction in Python, please read the article for better understanding of the code. In this second part we will discuss about norm of a vector and a matrix. \n",
        "this is a colab notebook, you can test in colab (all the code has been tested and you do not need to set your machine)\n",
        "\n",
        "[article](https://)"
      ],
      "metadata": {
        "id": "8tCfb6nXQdGd"
      }
    },
    {
      "cell_type": "code",
      "execution_count": 11,
      "metadata": {
        "id": "fIqXmzRFF3jU"
      },
      "outputs": [],
      "source": [
        "import numpy as np\n",
        "from math import sqrt"
      ]
    },
    {
      "cell_type": "code",
      "source": [
        "x = np.array([5,2,3])\n",
        "y = np.array([0,2,4])"
      ],
      "metadata": {
        "id": "QIlTauO6F8em"
      },
      "execution_count": 17,
      "outputs": []
    },
    {
      "cell_type": "code",
      "source": [
        "# Calculate L1 norm\n",
        "def L1_norm(vec):\n",
        "  norm = sum(abs(i) for i in vec)\n",
        "  return norm\n",
        "\n",
        "L1_norm(x), L1_norm(y)"
      ],
      "metadata": {
        "colab": {
          "base_uri": "https://localhost:8080/"
        },
        "id": "wQDIU04TGR_f",
        "outputId": "73a8ed90-78aa-43d4-adc7-80be0e0cc6cf"
      },
      "execution_count": 9,
      "outputs": [
        {
          "output_type": "execute_result",
          "data": {
            "text/plain": [
              "10"
            ]
          },
          "metadata": {},
          "execution_count": 9
        }
      ]
    },
    {
      "cell_type": "code",
      "source": [
        "# Calculate L2 norm\n",
        "def L2_norm(vec):\n",
        "  norm = sum(abs(i**2) for i in vec)\n",
        "  return sqrt(norm)\n",
        "\n",
        "L2_norm(x), L1_norm(y)"
      ],
      "metadata": {
        "colab": {
          "base_uri": "https://localhost:8080/"
        },
        "id": "X7kRapZ0Gmwo",
        "outputId": "d58e2978-6d5c-4039-fdc4-56b903a32b2e"
      },
      "execution_count": 13,
      "outputs": [
        {
          "output_type": "execute_result",
          "data": {
            "text/plain": [
              "6.164414002968976"
            ]
          },
          "metadata": {},
          "execution_count": 13
        }
      ]
    },
    {
      "cell_type": "code",
      "source": [
        "# zero norm \n",
        "def L0_norm(vec):\n",
        "  norm = np.count_nonzero(vec)\n",
        "  return norm\n",
        "\n",
        "L0_norm(x), L0_norm(y)"
      ],
      "metadata": {
        "colab": {
          "base_uri": "https://localhost:8080/"
        },
        "id": "GSnf-3U9H9AT",
        "outputId": "2947a4ec-c767-4180-ded3-7468045c1115"
      },
      "execution_count": 18,
      "outputs": [
        {
          "output_type": "execute_result",
          "data": {
            "text/plain": [
              "(3, 2)"
            ]
          },
          "metadata": {},
          "execution_count": 18
        }
      ]
    },
    {
      "cell_type": "code",
      "source": [
        "# max norm\n",
        "def Linf_norm(vec):\n",
        "  norm = np.max(vec)\n",
        "  return norm\n",
        "\n",
        "Linf_norm(x), Linf_norm(y)"
      ],
      "metadata": {
        "colab": {
          "base_uri": "https://localhost:8080/"
        },
        "id": "ZWawf115IjJE",
        "outputId": "c4240165-7c85-4bde-b778-8312b6967c8a"
      },
      "execution_count": 19,
      "outputs": [
        {
          "output_type": "execute_result",
          "data": {
            "text/plain": [
              "(5, 4)"
            ]
          },
          "metadata": {},
          "execution_count": 19
        }
      ]
    },
    {
      "cell_type": "code",
      "source": [
        "#using numpy\n",
        "from numpy.linalg import norm\n",
        "norm(x,1) #l1 norm\n",
        "norm(x,2) #l2 norm\n",
        "norm(x, np.inf) #linf norm"
      ],
      "metadata": {
        "colab": {
          "base_uri": "https://localhost:8080/"
        },
        "id": "UFlt473zI_Hr",
        "outputId": "71153ebf-4ba9-47a8-ae33-6e097c064483"
      },
      "execution_count": 25,
      "outputs": [
        {
          "output_type": "execute_result",
          "data": {
            "text/plain": [
              "5.0"
            ]
          },
          "metadata": {},
          "execution_count": 25
        }
      ]
    },
    {
      "cell_type": "code",
      "source": [
        "#a function to find the angle between two vectors\n",
        "def angle_between_2vectors(vec1, vec2):\n",
        "  #find the unit vector\n",
        "  u1 = vec1 / np.linalg.norm(vec1)\n",
        "  u2 = vec2 / np.linalg.norm(vec2)\n",
        "  #angle calculation:\n",
        "  #notice we are using the dot product and then the arccorsine function\n",
        "  angle = np.arccos(np.clip(np.dot(u1, u2), -1.0, 1.0))\n",
        "  return angle\n",
        "\n",
        "#distance with the dot product:\n",
        "dist = np.dot(x,y)\n",
        "ang = angle_between_2vectors(x, y)\n",
        "dist1 = norm(x,2) * norm(y,2)* np.cos(ang)\n",
        "dist, dist1"
      ],
      "metadata": {
        "colab": {
          "base_uri": "https://localhost:8080/"
        },
        "id": "b-YE575gJYsK",
        "outputId": "e4842d94-4970-4dea-a845-64f094186280"
      },
      "execution_count": 31,
      "outputs": [
        {
          "output_type": "execute_result",
          "data": {
            "text/plain": [
              "(16, 15.999999999999998)"
            ]
          },
          "metadata": {},
          "execution_count": 31
        }
      ]
    },
    {
      "cell_type": "code",
      "source": [
        "#frobenious norm\n",
        "def frobenius_Norm(mat):\n",
        "    #we store the sum\n",
        "    SquaredSum = 0 #to store the squared element\n",
        "    for i in range(mat.shape[0]): #rows\n",
        "        for j in range(mat.shape[1]): #columns\n",
        "            #we square each element and we sum all\n",
        "            SquaredSum += (mat[i][j])**2\n",
        "    #square root of the soom\n",
        "    norm = sqrt(SquaredSum)\n",
        "    return round(norm, 3)\n",
        " "
      ],
      "metadata": {
        "id": "_smEWMrnKjmq"
      },
      "execution_count": 39,
      "outputs": []
    },
    {
      "cell_type": "code",
      "source": [
        "A = np.array([[1,0,4],[5,0.5,3], [-1,2,4]])\n",
        "print(A)\n",
        "frobenius_Norm(A)"
      ],
      "metadata": {
        "colab": {
          "base_uri": "https://localhost:8080/"
        },
        "id": "VLYdcumZLUH1",
        "outputId": "65b567da-351d-4fea-e7ed-0d5b01bbcf26"
      },
      "execution_count": 40,
      "outputs": [
        {
          "output_type": "stream",
          "name": "stdout",
          "text": [
            "[[ 1.   0.   4. ]\n",
            " [ 5.   0.5  3. ]\n",
            " [-1.   2.   4. ]]\n"
          ]
        },
        {
          "output_type": "execute_result",
          "data": {
            "text/plain": [
              "8.5"
            ]
          },
          "metadata": {},
          "execution_count": 40
        }
      ]
    },
    {
      "cell_type": "code",
      "source": [
        "#a faster way to calculate the frobenious norm with numpy\n",
        "norm = sqrt(np.sum(A**2))\n",
        "norm"
      ],
      "metadata": {
        "colab": {
          "base_uri": "https://localhost:8080/"
        },
        "id": "XZtPkqx9Pk5P",
        "outputId": "7c4bd846-558f-4d39-fa25-e5bbf8bd0f95"
      },
      "execution_count": 47,
      "outputs": [
        {
          "output_type": "execute_result",
          "data": {
            "text/plain": [
              "8.5"
            ]
          },
          "metadata": {},
          "execution_count": 47
        }
      ]
    },
    {
      "cell_type": "code",
      "source": [
        "#matrix statistics\n",
        "np.sum(A), np.mean(A), np.std(A)"
      ],
      "metadata": {
        "colab": {
          "base_uri": "https://localhost:8080/"
        },
        "id": "d1qmP95kMeXr",
        "outputId": "0b22dc94-8862-4c3c-eaa1-86a12d0fddab"
      },
      "execution_count": 45,
      "outputs": [
        {
          "output_type": "execute_result",
          "data": {
            "text/plain": [
              "(18.5, 2.0555555555555554, 1.9499920860871385)"
            ]
          },
          "metadata": {},
          "execution_count": 45
        }
      ]
    }
  ]
}