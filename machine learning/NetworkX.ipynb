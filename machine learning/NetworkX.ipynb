{
  "nbformat": 4,
  "nbformat_minor": 0,
  "metadata": {
    "colab": {
      "provenance": []
    },
    "kernelspec": {
      "name": "python3",
      "display_name": "Python 3"
    },
    "language_info": {
      "name": "python"
    }
  },
  "cells": [
    {
      "cell_type": "code",
      "execution_count": null,
      "metadata": {
        "id": "KDqhpvd7LVtt"
      },
      "outputs": [],
      "source": [
        "import networkx as nx\n",
        "import matplotlib.pyplot as plt\n"
      ]
    },
    {
      "cell_type": "code",
      "source": [
        "# Create an undirected graph G\n",
        "G = nx.Graph()\n",
        "print(\"graph G is directed: {}\".format(G.is_directed()) )\n",
        "\n",
        "# Create a directed graph H\n",
        "H = nx.DiGraph()\n",
        "print(\"graph H is directed: {}\".format(H.is_directed()) )\n",
        "\n",
        "#getting the number of edges and nodes\n",
        "G.number_of_nodes(), G.number_of_edges()"
      ],
      "metadata": {
        "colab": {
          "base_uri": "https://localhost:8080/"
        },
        "id": "8oauV1v_LmcA",
        "outputId": "3814eabc-533c-43b1-bee2-329ba9295c01"
      },
      "execution_count": null,
      "outputs": [
        {
          "output_type": "stream",
          "name": "stdout",
          "text": [
            "graph G is directed: False\n",
            "graph H is directed: True\n"
          ]
        },
        {
          "output_type": "execute_result",
          "data": {
            "text/plain": [
              "(0, 0)"
            ]
          },
          "metadata": {},
          "execution_count": 2
        }
      ]
    },
    {
      "cell_type": "code",
      "source": [
        "#adding node\n",
        "G.add_node(1)\n",
        "G.add_nodes_from([2, 3])\n",
        "# we can add from another graph\n",
        "H = nx.path_graph(3)\n",
        "G.add_nodes_from(H)\n",
        "#or directly a graph\n",
        "G.add_node(H)\n",
        "G.number_of_nodes(), G.number_of_edges()"
      ],
      "metadata": {
        "colab": {
          "base_uri": "https://localhost:8080/"
        },
        "id": "MsHpDfVbMTHc",
        "outputId": "571f5856-c02a-4cb1-8e40-e6b34d7e080e"
      },
      "execution_count": null,
      "outputs": [
        {
          "output_type": "execute_result",
          "data": {
            "text/plain": [
              "(5, 0)"
            ]
          },
          "metadata": {},
          "execution_count": 3
        }
      ]
    },
    {
      "cell_type": "code",
      "source": [
        "#adding edges\n",
        "G.add_edge(1, 2)\n",
        "e = (2, 3)\n",
        "G.add_edge(e)\n",
        "G.add_edges_from([(1, 2), (1, 3)])\n",
        "G.add_edges_from(H.edges())"
      ],
      "metadata": {
        "id": "93ethOIfzuql"
      },
      "execution_count": null,
      "outputs": []
    },
    {
      "cell_type": "code",
      "source": [
        "# Create an undirected graph G\n",
        "G = nx.Graph() #it is empty\n",
        "# Add first node with node level attributes\n",
        "G.add_node(0, feature=3, label=0)\n",
        "\n",
        "# Get attributes of the node 0\n",
        "attr = G.nodes[0]\n",
        "print(\"Node 0 has the attributes {}\".format(attr))"
      ],
      "metadata": {
        "colab": {
          "base_uri": "https://localhost:8080/"
        },
        "id": "kOvEVysDwVUx",
        "outputId": "6117e575-53a8-47b9-e762-990dcb0b99e7"
      },
      "execution_count": null,
      "outputs": [
        {
          "output_type": "stream",
          "name": "stdout",
          "text": [
            "Node 0 has the attributes {'feature': 3, 'label': 0}\n"
          ]
        }
      ]
    },
    {
      "cell_type": "code",
      "source": [
        "# You can add multiple nodes with attributes\n",
        "#a list, providing a tuple (node, dict(feat1, feat2..))\n",
        "G.add_nodes_from([\n",
        "  (1, {\"feature\": 1, \"label\": 1}),\n",
        "  (2, {\"feature\": 2, \"label\": 2})\n",
        "])\n",
        "\n",
        "# we can loop through the nodes\n",
        "# argument data = True to return attributes\n",
        "for node in G.nodes(data=True):\n",
        "  print(node)\n",
        "\n",
        "# Get number of nodes\n",
        "n_nodes = G.number_of_nodes()\n",
        "print(\"G has {} nodes\".format(n_nodes))"
      ],
      "metadata": {
        "id": "nMfpkV_hx5DV",
        "colab": {
          "base_uri": "https://localhost:8080/"
        },
        "outputId": "dfc230bf-397e-42b4-a7d7-542f2912dcf2"
      },
      "execution_count": null,
      "outputs": [
        {
          "output_type": "stream",
          "name": "stdout",
          "text": [
            "(0, {'feature': 3, 'label': 0})\n",
            "(1, {'feature': 1, 'label': 1})\n",
            "(2, {'feature': 2, 'label': 2})\n",
            "G has 3 nodes\n"
          ]
        }
      ]
    },
    {
      "cell_type": "code",
      "source": [
        "# Add one edge with edge weight 0.5\n",
        "G.add_edge(0, 1, weight=0.5)\n",
        "\n",
        "# Get attributes of the edge (0, 1)\n",
        "edge_0_1_attr = G.edges[(0, 1)]\n",
        "print(\"Edge (0, 1) has the attributes {}\".format(edge_0_1_attr))"
      ],
      "metadata": {
        "colab": {
          "base_uri": "https://localhost:8080/"
        },
        "id": "WnOE28bOOeYx",
        "outputId": "b2f8a427-8f92-42f7-e301-d2b01576cc2b"
      },
      "execution_count": null,
      "outputs": [
        {
          "output_type": "stream",
          "name": "stdout",
          "text": [
            "Edge (0, 1) has the attributes {'weight': 0.5}\n"
          ]
        }
      ]
    },
    {
      "cell_type": "code",
      "source": [
        "# Add multiple edges with edge weights\n",
        "G.add_edges_from([\n",
        "  (1, 2, {\"weight\": 0.3}),\n",
        "  (2, 0, {\"weight\": 0.1})\n",
        "])\n",
        "\n",
        "# Loop through all the edges\n",
        "# Here there is no data=True, so only the edge will be returned\n",
        "for edge in G.edges():\n",
        "  print(edge)\n",
        "\n",
        "# Get number of edges\n",
        "num_edges = G.number_of_edges()\n",
        "print(\"G has {} edges\".format(num_edges))"
      ],
      "metadata": {
        "colab": {
          "base_uri": "https://localhost:8080/"
        },
        "id": "Nx1e8djUOr0q",
        "outputId": "3a2eee42-7519-4f7e-9819-d2bb9ee6cead"
      },
      "execution_count": null,
      "outputs": [
        {
          "output_type": "stream",
          "name": "stdout",
          "text": [
            "(0, 1)\n",
            "(0, 2)\n",
            "(1, 2)\n",
            "G has 3 edges\n"
          ]
        }
      ]
    },
    {
      "cell_type": "code",
      "source": [
        "# Draw the graph\n",
        "nx.draw(G, with_labels = True)"
      ],
      "metadata": {
        "colab": {
          "base_uri": "https://localhost:8080/",
          "height": 318
        },
        "id": "1yjZOX0ez3mE",
        "outputId": "91fafcf5-803b-4d75-ceda-c6f6744b1412"
      },
      "execution_count": null,
      "outputs": [
        {
          "output_type": "display_data",
          "data": {
            "image/png": "[encoded data removed]",
            "text/plain": [
              "<Figure size 432x288 with 1 Axes>"
            ]
          },
          "metadata": {}
        }
      ]
    },
    {
      "cell_type": "code",
      "source": [
        "node_id = 1\n",
        "\n",
        "# Degree of node 1\n",
        "print(\"Node {} has degree {}\".format(node_id, G.degree[node_id]))\n",
        "\n",
        "# Get neighbor of node 1\n",
        "for neighbor in G.neighbors(node_id):\n",
        "  print(\"Node {} has neighbor {}\".format(node_id, neighbor))\n",
        ""
      ],
      "metadata": {
        "id": "-9R934d00qKQ",
        "colab": {
          "base_uri": "https://localhost:8080/"
        },
        "outputId": "5ccee880-e2c7-435a-ee1c-cd24e4337497"
      },
      "execution_count": null,
      "outputs": [
        {
          "output_type": "stream",
          "name": "stdout",
          "text": [
            "Node 1 has degree 2\n",
            "Node 1 has neighbor 0\n",
            "Node 1 has neighbor 2\n"
          ]
        }
      ]
    },
    {
      "cell_type": "code",
      "source": [
        "G = nx.Graph()\n",
        "G.add_nodes_from([\n",
        "  (1, {\"feature\": 1, \"label\": 1}),\n",
        "  (2, {\"feature\": 2, \"label\": 2}),\n",
        "  (3, {\"feature\": 2, \"label\": 3}),\n",
        "  (4, {\"feature\": 1, \"label\": 4})\n",
        "])\n",
        "G.add_edges_from([(2, 1), (1, 4), (4, 2), (4,3)])\n",
        "# Draw the graph\n",
        "nx.draw(G, with_labels = True)\n",
        "A = nx.adjacency_matrix(G)\n",
        "print(A.todense())"
      ],
      "metadata": {
        "colab": {
          "base_uri": "https://localhost:8080/",
          "height": 393
        },
        "id": "D-NnqVoG-C5s",
        "outputId": "fe139f91-92c8-4557-f6af-cdbe5f112dc2"
      },
      "execution_count": null,
      "outputs": [
        {
          "output_type": "stream",
          "name": "stdout",
          "text": [
            "[[0 1 0 1]\n",
            " [1 0 0 1]\n",
            " [0 0 0 1]\n",
            " [1 1 1 0]]\n"
          ]
        },
        {
          "output_type": "display_data",
          "data": {
            "image/png": "[encoded data removed]",
            "text/plain": [
              "<Figure size 432x288 with 1 Axes>"
            ]
          },
          "metadata": {}
        }
      ]
    },
    {
      "cell_type": "code",
      "source": [
        "G = nx.DiGraph()\n",
        "G.add_nodes_from([\n",
        "  (1, {\"feature\": 1, \"label\": 1}),\n",
        "  (2, {\"feature\": 2, \"label\": 2}),\n",
        "  (3, {\"feature\": 2, \"label\": 3}),\n",
        "  (4, {\"feature\": 1, \"label\": 4})\n",
        "])\n",
        "G.add_edges_from([(2, 1), (1, 4), (4, 2), (4,3)])\n",
        "# Draw the graph\n",
        "A = nx.adjacency_matrix(G)\n",
        "print(A.todense())\n",
        "nx.draw(G, with_labels = True)"
      ],
      "metadata": {
        "colab": {
          "base_uri": "https://localhost:8080/",
          "height": 393
        },
        "id": "ASbuCHLEB0kD",
        "outputId": "486f44a8-ec2b-427d-8c55-123d1196f766"
      },
      "execution_count": null,
      "outputs": [
        {
          "output_type": "stream",
          "name": "stdout",
          "text": [
            "[[0 0 0 1]\n",
            " [1 0 0 0]\n",
            " [0 0 0 0]\n",
            " [0 1 1 0]]\n"
          ]
        },
        {
          "output_type": "display_data",
          "data": {
            "image/png": "[encoded data removed]",
            "text/plain": [
              "<Figure size 432x288 with 1 Axes>"
            ]
          },
          "metadata": {}
        }
      ]
    },
    {
      "cell_type": "code",
      "source": [
        "G = nx.Graph()\n",
        "G.add_nodes_from([\n",
        "  (1, {\"feature\": 1, \"label\": 1}),\n",
        "  (2, {\"feature\": 2, \"label\": 2}),\n",
        "  (3, {\"feature\": 2, \"label\": 3}),\n",
        "  (4, {\"feature\": 1, \"label\": 4})\n",
        "])\n",
        "G.add_edges_from([(2, 1, {\"weight\": 0.5}),\n",
        "                  (1, 4, {\"weight\": 4}),\n",
        "                  (4, 2, {\"weight\": 0.5}),\n",
        "                  (4,3,  {\"weight\": 1})])\n",
        "# Draw the graph\n",
        "# nodes\n",
        "pos = nx.spring_layout(G, seed=7)\n",
        "A = nx.adjacency_matrix(G)\n",
        "print(A.todense())\n",
        "nx.draw_networkx_nodes(G, pos, node_size=50)\n",
        "width = []\n",
        "for node1, node2, data in G.edges(data=True):\n",
        "    width.append(data['weight'])\n",
        "nx.draw_networkx_edges(G, pos,  width =width)"
      ],
      "metadata": {
        "colab": {
          "base_uri": "https://localhost:8080/",
          "height": 340
        },
        "id": "GsPUsjj4C-Rw",
        "outputId": "0b2d012a-3e06-4612-8bd5-3e2e874fe87b"
      },
      "execution_count": null,
      "outputs": [
        {
          "output_type": "stream",
          "name": "stdout",
          "text": [
            "[[0.  0.5 0.  4. ]\n",
            " [0.5 0.  0.  0.5]\n",
            " [0.  0.  0.  1. ]\n",
            " [4.  0.5 1.  0. ]]\n"
          ]
        },
        {
          "output_type": "execute_result",
          "data": {
            "text/plain": [
              "<matplotlib.collections.LineCollection at 0x7fcaa99f0750>"
            ]
          },
          "metadata": {},
          "execution_count": 13
        },
        {
          "output_type": "display_data",
          "data": {
            "image/png": "[encoded data removed]",
            "text/plain": [
              "<Figure size 432x288 with 1 Axes>"
            ]
          },
          "metadata": {}
        }
      ]
    },
    {
      "cell_type": "code",
      "source": [
        "G = nx.Graph()\n",
        "G.add_nodes_from([\n",
        "  (1, {\"feature\": 1, \"label\": 1}),\n",
        "  (2, {\"feature\": 2, \"label\": 2}),\n",
        "  (3, {\"feature\": 2, \"label\": 3}),\n",
        "  (4, {\"feature\": 1, \"label\": 4})\n",
        "])\n",
        "G.add_edges_from([(2, 1), (1, 4), (4, 2), (4,3), (4,4), (2,2)])\n",
        "# Draw the graph\n",
        "A = nx.adjacency_matrix(G)\n",
        "print(A.todense())\n",
        "nx.draw(G, with_labels = True)"
      ],
      "metadata": {
        "colab": {
          "base_uri": "https://localhost:8080/",
          "height": 393
        },
        "id": "8XgSgUttDfif",
        "outputId": "5071dfc8-17f4-46da-82f2-e9b9dbb3a98f"
      },
      "execution_count": null,
      "outputs": [
        {
          "output_type": "stream",
          "name": "stdout",
          "text": [
            "[[0 1 0 1]\n",
            " [1 1 0 1]\n",
            " [0 0 0 1]\n",
            " [1 1 1 1]]\n"
          ]
        },
        {
          "output_type": "display_data",
          "data": {
            "image/png": "[encoded data removed]",
            "text/plain": [
              "<Figure size 432x288 with 1 Axes>"
            ]
          },
          "metadata": {}
        }
      ]
    },
    {
      "cell_type": "code",
      "source": [
        "G = nx.MultiGraph()\n",
        "G.add_nodes_from([\n",
        "  (1, {\"feature\": 1, \"label\": 1}),\n",
        "  (2, {\"feature\": 2, \"label\": 2}),\n",
        "  (3, {\"feature\": 2, \"label\": 3}),\n",
        "  (4, {\"feature\": 1, \"label\": 4})\n",
        "])\n",
        "G.add_edges_from([(2, 1), (2, 1), (1, 4), (4, 2), (4,3), (4,3), (4,3)])\n",
        "A = nx.adjacency_matrix(G)\n",
        "print(A.todense())\n",
        "# Draw the graph\n",
        "pos = nx.random_layout(G)\n",
        "nx.draw_networkx_nodes(G, pos, node_color = 'r', node_size = 100, alpha = 1)\n",
        "ax = plt.gca()\n",
        "for e in G.edges:\n",
        "    ax.annotate(\"\",\n",
        "                xy=pos[e[0]], xycoords='data',\n",
        "                xytext=pos[e[1]], textcoords='data',\n",
        "                arrowprops=dict(arrowstyle=\"->\", color=\"0.5\",\n",
        "                                shrinkA=5, shrinkB=5,\n",
        "                                patchA=None, patchB=None,\n",
        "                                connectionstyle=\"arc3,rad=rrr\".replace('rrr',str(0.3*e[2])\n",
        "                                ),\n",
        "                                ),\n",
        "                )\n",
        "plt.axis('off')\n",
        "plt.show()"
      ],
      "metadata": {
        "colab": {
          "base_uri": "https://localhost:8080/",
          "height": 322
        },
        "id": "34IVBhE2H-3F",
        "outputId": "733bf337-bd07-4e59-faf7-f14902600b4e"
      },
      "execution_count": null,
      "outputs": [
        {
          "output_type": "stream",
          "name": "stdout",
          "text": [
            "[[0 2 0 1]\n",
            " [2 0 0 1]\n",
            " [0 0 0 3]\n",
            " [1 1 3 0]]\n"
          ]
        },
        {
          "output_type": "display_data",
          "data": {
            "image/png": "[encoded data removed]",
            "text/plain": [
              "<Figure size 432x288 with 1 Axes>"
            ]
          },
          "metadata": {}
        }
      ]
    },
    {
      "cell_type": "code",
      "source": [
        "G = nx.Graph()\n",
        "G.add_nodes_from([\n",
        "  (1, {\"feature\": 1, \"label\": 1}),\n",
        "  (2, {\"feature\": 2, \"label\": 2}),\n",
        "  (3, {\"feature\": 2, \"label\": 3}),\n",
        "  (4, {\"feature\": 1, \"label\": 4})\n",
        "])\n",
        "G.add_edges_from([(2, 1), (1, 4), (4, 2), (4,3)])\n",
        "\n",
        "#for one node\n",
        "G.degree[1]\n",
        "#a list\n",
        "list(G.degree([1, 2, 3, 4]))"
      ],
      "metadata": {
        "id": "MJt_2QhyLSwH",
        "colab": {
          "base_uri": "https://localhost:8080/"
        },
        "outputId": "1149b551-d045-4523-e64b-49137a720ee2"
      },
      "execution_count": null,
      "outputs": [
        {
          "output_type": "execute_result",
          "data": {
            "text/plain": [
              "[(1, 2), (2, 2), (3, 1), (4, 3)]"
            ]
          },
          "metadata": {},
          "execution_count": 16
        }
      ]
    },
    {
      "cell_type": "code",
      "source": [
        "B = nx.Graph()\n",
        "# Add nodes with the node attribute \"bipartite\"\n",
        "B.add_nodes_from([1, 2, 3, 4], bipartite=0)\n",
        "B.add_nodes_from([\"a\", \"b\", \"c\"], bipartite=1)\n",
        "# Add edges only between nodes of opposite node sets\n",
        "B.add_edges_from([(1, \"a\"), (1, \"b\"), (2, \"b\"), (2, \"c\"), (3, \"c\"), (4, \"a\")])\n",
        "# Separate by group\n",
        "l, r = nx.bipartite.sets(B)\n",
        "pos = {}\n",
        "\n",
        "# Update position for node from each group\n",
        "pos.update((node, (1, index)) for index, node in enumerate(l))\n",
        "pos.update((node, (2, index)) for index, node in enumerate(r))\n",
        "\n",
        "nx.draw(B, pos=pos)\n",
        "plt.show()"
      ],
      "metadata": {
        "colab": {
          "base_uri": "https://localhost:8080/",
          "height": 318
        },
        "id": "TBBlUDVIvuEy",
        "outputId": "1ad02a7a-29fa-45ca-e1c3-9a47a50a10c5"
      },
      "execution_count": null,
      "outputs": [
        {
          "output_type": "display_data",
          "data": {
            "image/png": "[encoded data removed]",
            "text/plain": [
              "<Figure size 432x288 with 1 Axes>"
            ]
          },
          "metadata": {}
        }
      ]
    },
    {
      "cell_type": "code",
      "source": [],
      "metadata": {
        "id": "oSrVr1VxVvlH"
      },
      "execution_count": null,
      "outputs": []
    }
  ]
}