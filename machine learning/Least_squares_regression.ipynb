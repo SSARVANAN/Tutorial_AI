{
  "nbformat": 4,
  "nbformat_minor": 0,
  "metadata": {
    "colab": {
      "name": "Least squares regression.ipynb",
      "provenance": [],
      "collapsed_sections": []
    },
    "kernelspec": {
      "name": "python3",
      "display_name": "Python 3"
    },
    "language_info": {
      "name": "python"
    }
  },
  "cells": [
    {
      "cell_type": "markdown",
      "source": [
        "# Least squares regression\n",
        "![linear regression](https://images.unsplash.com/photo-1539651044670-315229da9d2f?ixlib=rb-1.2.1&ixid=MnwxMjA3fDB8MHxwaG90by1wYWdlfHx8fGVufDB8fHx8&auto=format&fit=crop&w=1170&q=80)\n",
        "photo by [Edan Cohen](https://unsplash.com/@edanco) at [Unsplash](https://unsplash.com/)\n",
        "\n",
        "## Introduction\n",
        "\n",
        "this is the companion colab code for my tutorial in medium about Least square regression\n",
        " in Python with genomic data, please read the article for better understanding of the code. In the article I discuss about the theory, the hyperparameters, how to efficiently use the techniques. Here I am providing just generic information about the algorithm and the code. \n",
        "this is a colab notebook, you can test in colab (all the code has been tested and you do not need to set your machine)\n",
        "\n",
        "[Medium article about Least squares regression math](https://)\n",
        "\n",
        "\n",
        "\n",
        "note: the articles will be publish soon\n",
        "\n",
        "for other stories check my medium profile:\n",
        "[Salvatore Raieli](https://salvatore-raieli.medium.com/)\n"
      ],
      "metadata": {
        "id": "t8S5-GnTWv-V"
      }
    },
    {
      "cell_type": "code",
      "execution_count": null,
      "metadata": {
        "id": "wtmUpLpxWpwn"
      },
      "outputs": [],
      "source": [
        "import numpy as np\n",
        "import matplotlib.pyplot as plt\n",
        "import pandas as pd\n",
        "import seaborn as sns\n",
        "%matplotlib inline"
      ]
    },
    {
      "cell_type": "markdown",
      "source": [
        "# Least regression with only one variable\n",
        "\n",
        "Let's start with one variable, then we will do with more variables for the input."
      ],
      "metadata": {
        "id": "BllfM39uIdIK"
      }
    },
    {
      "cell_type": "code",
      "source": [
        "\n",
        "n= 20\n",
        "noise = 3\n",
        "df = pd.DataFrame()\n",
        "df[\"x1\"] = np.linspace(-10, 10, num = n) \n",
        "df[\"x0\"] = np.ones(n)\n",
        "w = np.array([2,3])\n",
        "X = df.to_numpy() # to make matrix multiplication easier\n",
        "y =  w.dot(X.transpose())\n",
        "y = np.random.normal(y,noise)\n",
        "y"
      ],
      "metadata": {
        "colab": {
          "base_uri": "https://localhost:8080/"
        },
        "id": "k14E2cEUFSeL",
        "outputId": "5e5efc75-f9f9-4e22-8fee-932b19cbcaa6"
      },
      "execution_count": null,
      "outputs": [
        {
          "output_type": "execute_result",
          "data": {
            "text/plain": [
              "array([-13.38573996, -17.1359596 ,  -6.08707936,  -8.27875873,\n",
              "        -7.41470185,  -3.81137474,  -3.76880674,  -6.05047929,\n",
              "         2.10406239,   5.11691294,  12.75196988,   7.45972383,\n",
              "         3.78529725,   7.87460144,  12.04826959,  13.90042423,\n",
              "        16.7468149 ,  18.05215   ,  21.88595423,  27.31334622])"
            ]
          },
          "metadata": {},
          "execution_count": 75
        }
      ]
    },
    {
      "cell_type": "code",
      "source": [
        "#plotting the line and the point\n",
        "plt.plot(np.linspace(-10, 10, num = n), w.dot(X.transpose()))\n",
        "sns.scatterplot(df[\"x1\"], y)"
      ],
      "metadata": {
        "colab": {
          "base_uri": "https://localhost:8080/",
          "height": 351
        },
        "id": "iIEEmy0eJKSC",
        "outputId": "d7a0923e-a9c9-49ad-8b73-fcd1d82eca90"
      },
      "execution_count": null,
      "outputs": [
        {
          "output_type": "stream",
          "name": "stderr",
          "text": [
            "/usr/local/lib/python3.7/dist-packages/seaborn/_decorators.py:43: FutureWarning: Pass the following variables as keyword args: x, y. From version 0.12, the only valid positional argument will be `data`, and passing other arguments without an explicit keyword will result in an error or misinterpretation.\n",
            "  FutureWarning\n"
          ]
        },
        {
          "output_type": "execute_result",
          "data": {
            "text/plain": [
              "<matplotlib.axes._subplots.AxesSubplot at 0x7f9dfe0502d0>"
            ]
          },
          "metadata": {},
          "execution_count": 76
        },
        {
          "output_type": "display_data",
          "data": {
            "image/png": "[encoded data removed]",
            "text/plain": [
              "<Figure size 432x288 with 1 Axes>"
            ]
          },
          "metadata": {
            "needs_background": "light"
          }
        }
      ]
    },
    {
      "cell_type": "code",
      "source": [
        "# Least Square\n",
        "#I am showing here all the passages\n",
        "# w = (X^T * X)^-1 (X^T*t)\n",
        "\n",
        "# X^T\n",
        "X_transposte = X.transpose()\n",
        "\n",
        "# (X^T * X)\n",
        "XT_dot_X = X_transposte.dot(X)\n",
        "\n",
        "# (X^T * X)^-1\n",
        "XT_dot_X_inv = (np.linalg.inv(XT_dot_X))\n",
        "\n",
        "# (X^T*t)\n",
        "XT_dot_t = X_transposte.dot(t)\n",
        "\n",
        "# w = (X^T * X)^-1 (X^T*t)\n",
        "w = XT_dot_X_inv.dot(XT_dot_t)\n",
        "\n",
        "# y model\n",
        "y = X.dot(   w)\n"
      ],
      "metadata": {
        "id": "RqJkZh1QLzzw"
      },
      "execution_count": null,
      "outputs": []
    },
    {
      "cell_type": "markdown",
      "source": [
        "## with more than one X variable\n",
        "\n",
        "we are generating our data, starting from X we get y, we are choosing some arbitray weight to generate the values of y. later we will try to predict using the least squares method.\n",
        "\n",
        "notice we are using some arbitrary weights, for generating the data. the Y (true values) is generating multiplying X for the weights and adding some noise (mimicking a real dataset). You can play around with the weights and to observe how similar are the weight returning by the model. Notice, the weights are similar but not perfectly the same (since we have add some noice)."
      ],
      "metadata": {
        "id": "1ws5GF4NMHbT"
      }
    },
    {
      "cell_type": "code",
      "source": [
        "def dataset_gen(w = None, n = 100, noise = 0 ):\n",
        "  \"\"\" generate random data for least square regression\"\"\"\n",
        "  x1 = np.linspace(-10, 10, num = n) #we create random number \n",
        "  x2 = np.random.normal(x1,5) #we have to add noise otherwise we cannot invert the matrix later\n",
        "  X  = np.array([np.ones(len(x1)), x1, x2]) #we are generating X0, or the  bias\n",
        "  _w = np.array(w)\n",
        "  y =  _w.dot(X) #we generate a y\n",
        "  y = np.random.normal(y,noise) #we add some noise\n",
        "  return X, y \n"
      ],
      "metadata": {
        "id": "uLZhl-uxXGSz"
      },
      "execution_count": null,
      "outputs": []
    },
    {
      "cell_type": "code",
      "source": [
        "#we are writing a function that is doing the passage we seen before\n",
        "#instead to do separatly we use a simple function\n",
        "def least_square(X,y):\n",
        "  \"\"\" perform least square regression\"\"\"                     \n",
        "  Xt = X.dot(y)\n",
        "  XX = np.linalg.inv(X.dot(X.T))\n",
        "  XX = np.round(XX,4)\n",
        "  Xt = np.round(Xt,2)    \n",
        "  w  = XX.dot(Xt)\n",
        "  w  = np.round(w,2)\n",
        "   \n",
        "  return w"
      ],
      "metadata": {
        "id": "Up_Pxf-gLv5p"
      },
      "execution_count": null,
      "outputs": []
    },
    {
      "cell_type": "code",
      "source": [
        "#generate data\n",
        "w = [10,2,5]\n",
        "noise = 10\n",
        "X, y = dataset_gen(w = w, n = 100, noise = noise )"
      ],
      "metadata": {
        "id": "Y8ALOLzoYZ7f"
      },
      "execution_count": null,
      "outputs": []
    },
    {
      "cell_type": "code",
      "source": [
        "#let's use our function and check the weight obtained\n",
        "w_ls = least_square(X,y)\n",
        "print(w_ls)"
      ],
      "metadata": {
        "colab": {
          "base_uri": "https://localhost:8080/"
        },
        "id": "WR5wVIKlYu_Z",
        "outputId": "8b115783-7a0a-42d6-e135-a3dead8a74b1"
      },
      "execution_count": null,
      "outputs": [
        {
          "output_type": "stream",
          "name": "stdout",
          "text": [
            "[10.09  4.15  5.58]\n"
          ]
        }
      ]
    },
    {
      "cell_type": "code",
      "source": [
        "#generate the prediction\n",
        "y_pred  = w_ls.dot(X)     \n",
        "# Root of Mean Sum of Squared Error                   \n",
        "RMSE = np.sqrt(((y -y_pred )**2).sum()/len(y))\n",
        "RMSE"
      ],
      "metadata": {
        "colab": {
          "base_uri": "https://localhost:8080/"
        },
        "id": "kiG3wCshY7Fx",
        "outputId": "2918b109-2b05-451a-cae0-dbe3c6a23922"
      },
      "execution_count": null,
      "outputs": [
        {
          "output_type": "execute_result",
          "data": {
            "text/plain": [
              "19.598548246161158"
            ]
          },
          "metadata": {},
          "execution_count": 136
        }
      ]
    },
    {
      "cell_type": "code",
      "source": [
        "w = np.array(w)\n",
        "w_ls = np.array(w_ls)\n",
        "plt.plot(X[1],y,'.', label='x1 vs t')\n",
        "x1 = np.linspace(-10, 10, num = 100)\n",
        "X_ = np.array([np.ones(len(x1)), x1, x1])\n",
        "plt.plot(x1, w.dot(X_) ,'-' , label='Generated data')\n",
        "plt.plot(x1, w_ls.dot(X_) ,'--', label='Least Squares result')\n",
        "plt.legend()"
      ],
      "metadata": {
        "colab": {
          "base_uri": "https://localhost:8080/",
          "height": 282
        },
        "id": "3VpMsweYN-0U",
        "outputId": "09db340b-4e1f-4d1a-a907-0b5a06fd2336"
      },
      "execution_count": null,
      "outputs": [
        {
          "output_type": "execute_result",
          "data": {
            "text/plain": [
              "<matplotlib.legend.Legend at 0x7f9df497cc50>"
            ]
          },
          "metadata": {},
          "execution_count": 144
        },
        {
          "output_type": "display_data",
          "data": {
            "image/png": "[encoded data removed]",
            "text/plain": [
              "<Figure size 432x288 with 1 Axes>"
            ]
          },
          "metadata": {
            "needs_background": "light"
          }
        }
      ]
    },
    {
      "cell_type": "markdown",
      "source": [
        "## An example with scikit-learn\n",
        "\n",
        "I will show you here a simple example with the boston dataset and using the least square method. Linear regressor estimator in Scikit-learn is using ordinary least square (so, under the hood is the same procedure, but of course you do not have to write least square function with scikit-learn). \n",
        "\n",
        "[linear regression in scikit-learn](https://scikit-learn.org/stable/modules/generated/sklearn.linear_model.LinearRegression.html)\n",
        "\n",
        "the boston dataset variables:\n",
        "The data contains the following columns:\n",
        "\n",
        "* 'crim': per capita crime rate by town.\n",
        "*'zn': proportion of residential land zoned for lots over 25,000 sq.ft.\n",
        "*'indus': proportion of non-retail business acres per town.\n",
        "*'chas':Charles River dummy variable (= 1 if tract bounds river; 0 otherwise).\n",
        "*'nox': nitrogen oxides concentration (parts per 10 million).\n",
        "*'rm': average number of rooms per dwelling.\n",
        "*'age': proportion of owner-occupied units built prior to 1940.\n",
        "*'dis': weighted mean of distances to five Boston employment centres.\n",
        "*'rad': index of accessibility to radial highways.\n",
        "*'tax': full-value property-tax rate per $10,000.\n",
        "*'ptratio': pupil-teacher ratio by town\n",
        "*'black': 1000(Bk - 0.63)^2 where Bk is the proportion of blacks by town.\n",
        "*'lstat': lower status of the population (percent).\n",
        "*'medv': median value of owner-occupied homes in $$1000s\n",
        "\n",
        "we will predict the 'medv' variable.\n"
      ],
      "metadata": {
        "id": "IAlgJEmKcIuz"
      }
    },
    {
      "cell_type": "code",
      "source": [
        "import pandas as pd\n",
        "import numpy as np\n",
        "import matplotlib.pyplot as plt\n",
        "import seaborn as sns\n",
        "from sklearn.model_selection import train_test_split\n",
        "from sklearn.linear_model import LinearRegression\n",
        "from sklearn.preprocessing import StandardScaler\n",
        "from sklearn import metrics\n",
        "from yellowbrick.regressor import AlphaSelection, PredictionError, ResidualsPlot\n",
        "%matplotlib inline"
      ],
      "metadata": {
        "id": "bxqtK8xnPINH"
      },
      "execution_count": null,
      "outputs": []
    },
    {
      "cell_type": "code",
      "source": [
        "dataset = \"https://raw.githubusercontent.com/SalvatoreRa/tutorial/main/datasets/Boston.csv\"\n",
        "df = pd.read_csv(dataset)\n",
        "df = df.iloc[:,1:] #the first column is not useful (is an ID columns)\n",
        "df.describe()"
      ],
      "metadata": {
        "colab": {
          "base_uri": "https://localhost:8080/",
          "height": 300
        },
        "id": "fnmikzG5PoLv",
        "outputId": "a74eb52e-9e05-4b1c-8cd5-bf992efc6830"
      },
      "execution_count": null,
      "outputs": [
        {
          "output_type": "execute_result",
          "data": {
            "text/html": [
              "\n",
              "  <div id=\"df-803c0cf2-5beb-41a0-b0aa-034ab743e30c\">\n",
              "    <div class=\"colab-df-container\">\n",
              "      <div>\n",
              "<style scoped>\n",
              "    .dataframe tbody tr th:only-of-type {\n",
              "        vertical-align: middle;\n",
              "    }\n",
              "\n",
              "    .dataframe tbody tr th {\n",
              "        vertical-align: top;\n",
              "    }\n",
              "\n",
              "    .dataframe thead th {\n",
              "        text-align: right;\n",
              "    }\n",
              "</style>\n",
              "<table border=\"1\" class=\"dataframe\">\n",
              "  <thead>\n",
              "    <tr style=\"text-align: right;\">\n",
              "      <th></th>\n",
              "      <th>crim</th>\n",
              "      <th>zn</th>\n",
              "      <th>indus</th>\n",
              "      <th>chas</th>\n",
              "      <th>nox</th>\n",
              "      <th>rm</th>\n",
              "      <th>age</th>\n",
              "      <th>dis</th>\n",
              "      <th>rad</th>\n",
              "      <th>tax</th>\n",
              "      <th>ptratio</th>\n",
              "      <th>black</th>\n",
              "      <th>lstat</th>\n",
              "      <th>medv</th>\n",
              "    </tr>\n",
              "  </thead>\n",
              "  <tbody>\n",
              "    <tr>\n",
              "      <th>count</th>\n",
              "      <td>506.000000</td>\n",
              "      <td>506.000000</td>\n",
              "      <td>506.000000</td>\n",
              "      <td>506.000000</td>\n",
              "      <td>506.000000</td>\n",
              "      <td>506.000000</td>\n",
              "      <td>506.000000</td>\n",
              "      <td>506.000000</td>\n",
              "      <td>506.000000</td>\n",
              "      <td>506.000000</td>\n",
              "      <td>506.000000</td>\n",
              "      <td>506.000000</td>\n",
              "      <td>506.000000</td>\n",
              "      <td>506.000000</td>\n",
              "    </tr>\n",
              "    <tr>\n",
              "      <th>mean</th>\n",
              "      <td>3.613524</td>\n",
              "      <td>11.363636</td>\n",
              "      <td>11.136779</td>\n",
              "      <td>0.069170</td>\n",
              "      <td>0.554695</td>\n",
              "      <td>6.284634</td>\n",
              "      <td>68.574901</td>\n",
              "      <td>3.795043</td>\n",
              "      <td>9.549407</td>\n",
              "      <td>408.237154</td>\n",
              "      <td>18.455534</td>\n",
              "      <td>356.674032</td>\n",
              "      <td>12.653063</td>\n",
              "      <td>22.532806</td>\n",
              "    </tr>\n",
              "    <tr>\n",
              "      <th>std</th>\n",
              "      <td>8.601545</td>\n",
              "      <td>23.322453</td>\n",
              "      <td>6.860353</td>\n",
              "      <td>0.253994</td>\n",
              "      <td>0.115878</td>\n",
              "      <td>0.702617</td>\n",
              "      <td>28.148861</td>\n",
              "      <td>2.105710</td>\n",
              "      <td>8.707259</td>\n",
              "      <td>168.537116</td>\n",
              "      <td>2.164946</td>\n",
              "      <td>91.294864</td>\n",
              "      <td>7.141062</td>\n",
              "      <td>9.197104</td>\n",
              "    </tr>\n",
              "    <tr>\n",
              "      <th>min</th>\n",
              "      <td>0.006320</td>\n",
              "      <td>0.000000</td>\n",
              "      <td>0.460000</td>\n",
              "      <td>0.000000</td>\n",
              "      <td>0.385000</td>\n",
              "      <td>3.561000</td>\n",
              "      <td>2.900000</td>\n",
              "      <td>1.129600</td>\n",
              "      <td>1.000000</td>\n",
              "      <td>187.000000</td>\n",
              "      <td>12.600000</td>\n",
              "      <td>0.320000</td>\n",
              "      <td>1.730000</td>\n",
              "      <td>5.000000</td>\n",
              "    </tr>\n",
              "    <tr>\n",
              "      <th>25%</th>\n",
              "      <td>0.082045</td>\n",
              "      <td>0.000000</td>\n",
              "      <td>5.190000</td>\n",
              "      <td>0.000000</td>\n",
              "      <td>0.449000</td>\n",
              "      <td>5.885500</td>\n",
              "      <td>45.025000</td>\n",
              "      <td>2.100175</td>\n",
              "      <td>4.000000</td>\n",
              "      <td>279.000000</td>\n",
              "      <td>17.400000</td>\n",
              "      <td>375.377500</td>\n",
              "      <td>6.950000</td>\n",
              "      <td>17.025000</td>\n",
              "    </tr>\n",
              "    <tr>\n",
              "      <th>50%</th>\n",
              "      <td>0.256510</td>\n",
              "      <td>0.000000</td>\n",
              "      <td>9.690000</td>\n",
              "      <td>0.000000</td>\n",
              "      <td>0.538000</td>\n",
              "      <td>6.208500</td>\n",
              "      <td>77.500000</td>\n",
              "      <td>3.207450</td>\n",
              "      <td>5.000000</td>\n",
              "      <td>330.000000</td>\n",
              "      <td>19.050000</td>\n",
              "      <td>391.440000</td>\n",
              "      <td>11.360000</td>\n",
              "      <td>21.200000</td>\n",
              "    </tr>\n",
              "    <tr>\n",
              "      <th>75%</th>\n",
              "      <td>3.677082</td>\n",
              "      <td>12.500000</td>\n",
              "      <td>18.100000</td>\n",
              "      <td>0.000000</td>\n",
              "      <td>0.624000</td>\n",
              "      <td>6.623500</td>\n",
              "      <td>94.075000</td>\n",
              "      <td>5.188425</td>\n",
              "      <td>24.000000</td>\n",
              "      <td>666.000000</td>\n",
              "      <td>20.200000</td>\n",
              "      <td>396.225000</td>\n",
              "      <td>16.955000</td>\n",
              "      <td>25.000000</td>\n",
              "    </tr>\n",
              "    <tr>\n",
              "      <th>max</th>\n",
              "      <td>88.976200</td>\n",
              "      <td>100.000000</td>\n",
              "      <td>27.740000</td>\n",
              "      <td>1.000000</td>\n",
              "      <td>0.871000</td>\n",
              "      <td>8.780000</td>\n",
              "      <td>100.000000</td>\n",
              "      <td>12.126500</td>\n",
              "      <td>24.000000</td>\n",
              "      <td>711.000000</td>\n",
              "      <td>22.000000</td>\n",
              "      <td>396.900000</td>\n",
              "      <td>37.970000</td>\n",
              "      <td>50.000000</td>\n",
              "    </tr>\n",
              "  </tbody>\n",
              "</table>\n",
              "</div>\n",
              "      <button class=\"colab-df-convert\" onclick=\"convertToInteractive('df-803c0cf2-5beb-41a0-b0aa-034ab743e30c')\"\n",
              "              title=\"Convert this dataframe to an interactive table.\"\n",
              "              style=\"display:none;\">\n",
              "        \n",
              "  <svg xmlns=\"http://www.w3.org/2000/svg\" height=\"24px\"viewBox=\"0 0 24 24\"\n",
              "       width=\"24px\">\n",
              "    <path d=\"M0 0h24v24H0V0z\" fill=\"none\"/>\n",
              "    <path d=\"M18.56 5.44l.94 2.06.94-2.06 2.06-.94-2.06-.94-.94-2.06-.94 2.06-2.06.94zm-11 1L8.5 8.5l.94-2.06 2.06-.94-2.06-.94L8.5 2.5l-.94 2.06-2.06.94zm10 10l.94 2.06.94-2.06 2.06-.94-2.06-.94-.94-2.06-.94 2.06-2.06.94z\"/><path d=\"M17.41 7.96l-1.37-1.37c-.4-.4-.92-.59-1.43-.59-.52 0-1.04.2-1.43.59L10.3 9.45l-7.72 7.72c-.78.78-.78 2.05 0 2.83L4 21.41c.39.39.9.59 1.41.59.51 0 1.02-.2 1.41-.59l7.78-7.78 2.81-2.81c.8-.78.8-2.07 0-2.86zM5.41 20L4 18.59l7.72-7.72 1.47 1.35L5.41 20z\"/>\n",
              "  </svg>\n",
              "      </button>\n",
              "      \n",
              "  <style>\n",
              "    .colab-df-container {\n",
              "      display:flex;\n",
              "      flex-wrap:wrap;\n",
              "      gap: 12px;\n",
              "    }\n",
              "\n",
              "    .colab-df-convert {\n",
              "      background-color: #E8F0FE;\n",
              "      border: none;\n",
              "      border-radius: 50%;\n",
              "      cursor: pointer;\n",
              "      display: none;\n",
              "      fill: #1967D2;\n",
              "      height: 32px;\n",
              "      padding: 0 0 0 0;\n",
              "      width: 32px;\n",
              "    }\n",
              "\n",
              "    .colab-df-convert:hover {\n",
              "      background-color: #E2EBFA;\n",
              "      box-shadow: 0px 1px 2px rgba(60, 64, 67, 0.3), 0px 1px 3px 1px rgba(60, 64, 67, 0.15);\n",
              "      fill: #174EA6;\n",
              "    }\n",
              "\n",
              "    [theme=dark] .colab-df-convert {\n",
              "      background-color: #3B4455;\n",
              "      fill: #D2E3FC;\n",
              "    }\n",
              "\n",
              "    [theme=dark] .colab-df-convert:hover {\n",
              "      background-color: #434B5C;\n",
              "      box-shadow: 0px 1px 3px 1px rgba(0, 0, 0, 0.15);\n",
              "      filter: drop-shadow(0px 1px 2px rgba(0, 0, 0, 0.3));\n",
              "      fill: #FFFFFF;\n",
              "    }\n",
              "  </style>\n",
              "\n",
              "      <script>\n",
              "        const buttonEl =\n",
              "          document.querySelector('#df-803c0cf2-5beb-41a0-b0aa-034ab743e30c button.colab-df-convert');\n",
              "        buttonEl.style.display =\n",
              "          google.colab.kernel.accessAllowed ? 'block' : 'none';\n",
              "\n",
              "        async function convertToInteractive(key) {\n",
              "          const element = document.querySelector('#df-803c0cf2-5beb-41a0-b0aa-034ab743e30c');\n",
              "          const dataTable =\n",
              "            await google.colab.kernel.invokeFunction('convertToInteractive',\n",
              "                                                     [key], {});\n",
              "          if (!dataTable) return;\n",
              "\n",
              "          const docLinkHtml = 'Like what you see? Visit the ' +\n",
              "            '<a target=\"_blank\" href=https://colab.research.google.com/notebooks/data_table.ipynb>data table notebook</a>'\n",
              "            + ' to learn more about interactive tables.';\n",
              "          element.innerHTML = '';\n",
              "          dataTable['output_type'] = 'display_data';\n",
              "          await google.colab.output.renderOutput(dataTable, element);\n",
              "          const docLink = document.createElement('div');\n",
              "          docLink.innerHTML = docLinkHtml;\n",
              "          element.appendChild(docLink);\n",
              "        }\n",
              "      </script>\n",
              "    </div>\n",
              "  </div>\n",
              "  "
            ],
            "text/plain": [
              "             crim          zn       indus  ...       black       lstat        medv\n",
              "count  506.000000  506.000000  506.000000  ...  506.000000  506.000000  506.000000\n",
              "mean     3.613524   11.363636   11.136779  ...  356.674032   12.653063   22.532806\n",
              "std      8.601545   23.322453    6.860353  ...   91.294864    7.141062    9.197104\n",
              "min      0.006320    0.000000    0.460000  ...    0.320000    1.730000    5.000000\n",
              "25%      0.082045    0.000000    5.190000  ...  375.377500    6.950000   17.025000\n",
              "50%      0.256510    0.000000    9.690000  ...  391.440000   11.360000   21.200000\n",
              "75%      3.677082   12.500000   18.100000  ...  396.225000   16.955000   25.000000\n",
              "max     88.976200  100.000000   27.740000  ...  396.900000   37.970000   50.000000\n",
              "\n",
              "[8 rows x 14 columns]"
            ]
          },
          "metadata": {},
          "execution_count": 10
        }
      ]
    },
    {
      "cell_type": "code",
      "source": [
        "#prepare X and Y\n",
        "X = df[['crim', 'zn', 'indus', 'chas', 'nox', 'rm', 'age', 'dis', 'rad', 'tax',\n",
        "       'ptratio', 'black', 'lstat']]\n",
        "y = df['medv'] #this is our target variable\n",
        "#stratify\n",
        "X_train, X_test, y_train, y_test = train_test_split(X , y, \n",
        "                                                        test_size = 0.2, #test size would be 20%\n",
        "                                                        random_state = 42, #42 is for good luck!\n",
        ") \n",
        "#noticed we have not stratified the data as in classification tasks\n",
        "#stratify is for balancing the categories in the sampling, but here the variable is continuous\n",
        "#scaling the white\n",
        "scaler = StandardScaler()\n",
        "scaler.fit(X_train)\n",
        "X_train = scaler.transform(X_train)\n",
        "X_test = scaler.transform(X_test) #this to avoid information leakage"
      ],
      "metadata": {
        "id": "50F5MF01PqU3"
      },
      "execution_count": null,
      "outputs": []
    },
    {
      "cell_type": "code",
      "source": [
        "model = LinearRegression() #initialize...\n",
        "model.fit(X_train,y_train) #train the model...\n",
        "y_pred = model.predict(X_test) #predict! \n",
        "#evaluate the model: on the evaluation metric I will go in deep in the next tutorial\n",
        "print('Mean Absolute error (MAE) :', metrics.mean_absolute_error(y_test, y_pred))\n",
        "print('Mean Squared Error (MSE):', metrics.mean_squared_error(y_test, y_pred))\n",
        "print('Root Mean Squared Error (MSE):', np.sqrt(metrics.mean_squared_error(y_test, y_pred)))\n",
        "#visualize\n",
        "plt.scatter(y_test, y_pred)\n",
        "plt.xlabel('Y dataset')\n",
        "plt.ylabel('LS prediction')"
      ],
      "metadata": {
        "colab": {
          "base_uri": "https://localhost:8080/",
          "height": 349
        },
        "id": "G6z8VEShe5os",
        "outputId": "c8fe09f7-9846-49a5-8b56-a5b3eac0a55a"
      },
      "execution_count": null,
      "outputs": [
        {
          "output_type": "stream",
          "name": "stdout",
          "text": [
            "Mean Absolute error (MAE) : 3.1890919658878483\n",
            "Mean Squared Error (MSE): 24.29111947497352\n",
            "Root Mean Squared Error (MSE): 4.928602182665337\n"
          ]
        },
        {
          "output_type": "execute_result",
          "data": {
            "text/plain": [
              "Text(0, 0.5, 'LS prediction')"
            ]
          },
          "metadata": {},
          "execution_count": 18
        },
        {
          "output_type": "display_data",
          "data": {
            "image/png": "[encoded data removed]",
            "text/plain": [
              "<Figure size 432x288 with 1 Axes>"
            ]
          },
          "metadata": {
            "needs_background": "light"
          }
        }
      ]
    },
    {
      "cell_type": "markdown",
      "source": [
        "## Bonus: nice visualization with yellowbricks\n",
        "\n",
        "The Yellowbrick library is a python library which allows you diagnostic your model, conduct visualization and many more things. \n",
        "\n",
        "[Yellowbrick](https://www.scikit-yb.org/en/latest/)\n",
        "\n",
        "we will plot:\n",
        "* **Residuals Plot** which is showing the difference between real values and the predicted values. The model is also plotting the R^2 for train and test set.\n",
        "* **Prediction error plot** this plot is showing the true values against the prediction, the 45° line represent the optimal line, more our fitted line is far, less the model is accurate"
      ],
      "metadata": {
        "id": "uBpc_KHih4BT"
      }
    },
    {
      "cell_type": "code",
      "source": [
        "# residual plot\n",
        "model = LinearRegression()\n",
        "visualizer = ResidualsPlot(model) #we use yellowbrick wrapper\n",
        "\n",
        "visualizer.fit(X_train, y_train)  # we fit the model\n",
        "visualizer.score(X_test, y_test)  # test set evaluation\n",
        "g = visualizer.poof() #plotting!"
      ],
      "metadata": {
        "colab": {
          "base_uri": "https://localhost:8080/",
          "height": 294
        },
        "id": "E8KScVc3iNQ4",
        "outputId": "f1f0120a-2dbd-46ba-cb09-f4a94d8356ee"
      },
      "execution_count": null,
      "outputs": [
        {
          "output_type": "display_data",
          "data": {
            "image/png": "[encoded data removed]",
            "text/plain": [
              "<Figure size 432x288 with 2 Axes>"
            ]
          },
          "metadata": {
            "needs_background": "light"
          }
        }
      ]
    },
    {
      "cell_type": "code",
      "source": [
        "#similarly we use the wrapper\n",
        "#prediction error plot\n",
        "model = LinearRegression()\n",
        "visualizer = PredictionError(model)\n",
        "\n",
        "visualizer.fit(X_train, y_train)  \n",
        "visualizer.score(X_test, y_test)  \n",
        "g = visualizer.poof()  "
      ],
      "metadata": {
        "colab": {
          "base_uri": "https://localhost:8080/",
          "height": 296
        },
        "id": "ScYQrtyEiY7y",
        "outputId": "8ce211da-669e-41e6-b118-8db5e7e4f770"
      },
      "execution_count": null,
      "outputs": [
        {
          "output_type": "display_data",
          "data": {
            "image/png": "[encoded data removed]",
            "text/plain": [
              "<Figure size 432x288 with 1 Axes>"
            ]
          },
          "metadata": {
            "needs_background": "light"
          }
        }
      ]
    },
    {
      "cell_type": "code",
      "source": [
        ""
      ],
      "metadata": {
        "id": "RW3oN8f2iw5y"
      },
      "execution_count": null,
      "outputs": []
    }
  ]
}