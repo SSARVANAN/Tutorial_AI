{
  "nbformat": 4,
  "nbformat_minor": 0,
  "metadata": {
    "colab": {
      "provenance": []
    },
    "kernelspec": {
      "name": "python3",
      "display_name": "Python 3"
    },
    "language_info": {
      "name": "python"
    }
  },
  "cells": [
    {
      "cell_type": "markdown",
      "source": [
        "# Breadth first search (BFS) and Deep first seach (DFS) in Python\n",
        "\n",
        "![BFS and DFS](https://images.unsplash.com/photo-1597733336794-12d05021d510?ixlib=rb-1.2.1&ixid=MnwxMjA3fDB8MHxwaG90by1wYWdlfHx8fGVufDB8fHx8&auto=format&fit=crop&w=1074&q=80)\n",
        "\n",
        "\n",
        "photo by [JJ Ying](https://unsplash.com/@jjying) at [Unsplash](https://unsplash.com/)\n",
        "\n",
        "\n",
        "## Introduction\n",
        "\n",
        "This is the companion colab code for my tutorial in medium aboutBreadth first search (BFS) and Deep first seach (DFS) in Python, please read the article for better understanding of the code.\n",
        "this is a colab notebook, you can test in colab (all the code has been tested and you do not need to set your machine)\n",
        "\n",
        "[article](https://)"
      ],
      "metadata": {
        "id": "_Pm5F5HpLtnZ"
      }
    },
    {
      "cell_type": "code",
      "execution_count": null,
      "metadata": {
        "colab": {
          "base_uri": "https://localhost:8080/"
        },
        "id": "Py_-vZ8zLnLi",
        "outputId": "1235c0e5-e7ae-46f4-f6e3-16c1bdabc29c"
      },
      "outputs": [
        {
          "output_type": "execute_result",
          "data": {
            "text/plain": [
              "['1', '2', '3', '4', '7', '8', '5', '6']"
            ]
          },
          "metadata": {},
          "execution_count": 1
        }
      ],
      "source": [
        "#define a graph\n",
        "graph = {\n",
        "  '1' : ['2','3'],\n",
        "  '2' : [ '4', '3'],\n",
        "  '3' : [ '7', '8'],\n",
        "  '4' : ['5', '3'],\n",
        "  '5' : ['6'],\n",
        "  '6' : [],\n",
        "  '7' : [ '8'],\n",
        "  '8' : []\n",
        "}\n",
        "\n",
        "#implementation in python\n",
        "def bfs(graph, source_node):\n",
        "  \"\"\"\n",
        "  breadth first search\n",
        "  Visited = list of visited nodes\n",
        "  queque = list of node to visit\n",
        "  source_node = node from where to start the search\n",
        "  \"\"\"\n",
        "  visited = []\n",
        "  queue = []\n",
        "  visited.append(source_node)\n",
        "  queue.append(source_node)\n",
        "\n",
        "  while queue:\n",
        "    s = queue.pop(0)\n",
        "\n",
        "    for neighbour in graph[s]:\n",
        "      if neighbour not in visited:\n",
        "        visited.append(neighbour)\n",
        "        queue.append(neighbour)\n",
        "  return visited\n",
        "\n",
        "# Breadth first search\n",
        "bfs( graph, '1')"
      ]
    },
    {
      "cell_type": "code",
      "source": [
        "#notice that is using recursion\n",
        "visited = set()\n",
        "path = []\n",
        "def dfs(visited, graph, node):\n",
        "    \"\"\"\n",
        "    Deep first search\n",
        "    Visited = list of visited nodes\n",
        "    node = node from where to start the search\n",
        "    \"\"\"\n",
        "\n",
        "    if node not in visited:\n",
        "        path.append(node)\n",
        "        visited.add(node)\n",
        "        for neighbour in graph[node]:\n",
        "            dfs(visited, graph, neighbour)\n",
        "    return path\n",
        "\n",
        "dfs(visited, graph, '1')"
      ],
      "metadata": {
        "colab": {
          "base_uri": "https://localhost:8080/"
        },
        "id": "F627aigRN6ye",
        "outputId": "e7967f5b-f9fa-4e70-b182-0f1987f941bf"
      },
      "execution_count": null,
      "outputs": [
        {
          "output_type": "execute_result",
          "data": {
            "text/plain": [
              "['1', '2', '4', '5', '6', '3', '7', '8']"
            ]
          },
          "metadata": {},
          "execution_count": 2
        }
      ]
    },
    {
      "cell_type": "code",
      "source": [
        "#code to avoid recursion\n",
        "def dfs_nonrecursive(graph, start):\n",
        "    \"\"\"\n",
        "    Deep first search\n",
        "    --with no recursion--\n",
        "    \"\"\"\n",
        "    stack, path = [start], []\n",
        "\n",
        "    while stack:\n",
        "        vertex = stack.pop()\n",
        "        if vertex in path:\n",
        "            continue\n",
        "        path.append(vertex)\n",
        "        for neighbor in graph[vertex]:\n",
        "            stack.append(neighbor)\n",
        "\n",
        "    return path\n",
        "print(dfs_nonrecursive(graph, \"1\"))"
      ],
      "metadata": {
        "colab": {
          "base_uri": "https://localhost:8080/"
        },
        "id": "zOnAybypPjzm",
        "outputId": "8613a737-566e-43e6-d833-9945ab153f7a"
      },
      "execution_count": null,
      "outputs": [
        {
          "output_type": "stream",
          "name": "stdout",
          "text": [
            "['1', '3', '8', '7', '2', '4', '5', '6']\n"
          ]
        }
      ]
    },
    {
      "cell_type": "markdown",
      "source": [
        "# Implement BFS and DFS with Networkx"
      ],
      "metadata": {
        "id": "kBpOKKZ8tnFW"
      }
    },
    {
      "cell_type": "code",
      "source": [
        "#code to implement with networkx\n",
        "import networkx as nx\n",
        "\n",
        "graph = {\n",
        "  '1' : ['2','3'],\n",
        "  '2' : [ '4', '3'],\n",
        "  '3' : [ '7', '8'],\n",
        "  '4' : ['5', '3'],\n",
        "  '5' : ['6'],\n",
        "  '6' : [],\n",
        "  '7' : [ '8'],\n",
        "  '8' : []\n",
        "}\n",
        "G = nx.Graph(graph)\n",
        "nx.draw(G , with_labels= True)"
      ],
      "metadata": {
        "colab": {
          "base_uri": "https://localhost:8080/",
          "height": 319
        },
        "id": "QCW3TP55WHwH",
        "outputId": "e9bcf374-778e-4872-a137-0c56d2550ea7"
      },
      "execution_count": null,
      "outputs": [
        {
          "output_type": "display_data",
          "data": {
            "text/plain": [
              "<Figure size 432x288 with 1 Axes>"
            ],
            "image/png": "[encoded data removed]"
          },
          "metadata": {}
        }
      ]
    },
    {
      "cell_type": "code",
      "source": [
        "source = \"1\"\n",
        "path = nx.bfs_edges(G, source)\n",
        "visited = [source] + [v for u, v in path]\n",
        "visited"
      ],
      "metadata": {
        "colab": {
          "base_uri": "https://localhost:8080/"
        },
        "id": "gA59jKXaYc_Q",
        "outputId": "86971488-339c-41b4-a002-15ed1043ca6d"
      },
      "execution_count": null,
      "outputs": [
        {
          "output_type": "execute_result",
          "data": {
            "text/plain": [
              "['1', '2', '3', '4', '7', '8', '5', '6']"
            ]
          },
          "metadata": {},
          "execution_count": 5
        }
      ]
    },
    {
      "cell_type": "code",
      "source": [
        "source = \"1\"\n",
        "path = nx.dfs_edges(G, source)\n",
        "visited = [source] + [v for u, v in path]\n",
        "visited"
      ],
      "metadata": {
        "colab": {
          "base_uri": "https://localhost:8080/"
        },
        "id": "COlNVnYmXNJE",
        "outputId": "ebc4f368-df7a-4ec6-d4f7-76c05f1b5367"
      },
      "execution_count": null,
      "outputs": [
        {
          "output_type": "execute_result",
          "data": {
            "text/plain": [
              "['1', '2', '4', '5', '6', '3', '7', '8']"
            ]
          },
          "metadata": {},
          "execution_count": 6
        }
      ]
    },
    {
      "cell_type": "code",
      "source": [
        "import time\n",
        "start_time = time.time()\n",
        "path = nx.bfs_edges(G, source)\n",
        "print(\"--- Time execution BFS: %s seconds ---\" % (time.time() - start_time))\n",
        "start_time = time.time()\n",
        "path = nx.dfs_edges(G, source)\n",
        "print(\"--- Time execution DFS: %s seconds ---\" % (time.time() - start_time))"
      ],
      "metadata": {
        "colab": {
          "base_uri": "https://localhost:8080/"
        },
        "id": "SblkdBbaZMV0",
        "outputId": "ea6368b8-9272-4398-8e04-992747dbe4a7"
      },
      "execution_count": null,
      "outputs": [
        {
          "output_type": "stream",
          "name": "stdout",
          "text": [
            "--- Time execution BFS: 8.630752563476562e-05 seconds ---\n",
            "--- Time execution DFS: 9.918212890625e-05 seconds ---\n"
          ]
        }
      ]
    },
    {
      "cell_type": "markdown",
      "source": [
        "# Implement BFS and DFS with iGraph"
      ],
      "metadata": {
        "id": "dvZkUzGywklL"
      }
    },
    {
      "cell_type": "code",
      "source": [
        "!pip install igraph\n",
        "!apt install libcairo2-dev\n",
        "!pip install pycairo"
      ],
      "metadata": {
        "colab": {
          "base_uri": "https://localhost:8080/"
        },
        "id": "u0asCOAEuhHL",
        "outputId": "bde472c6-86fa-4e59-8247-9ca2ddb8dad9"
      },
      "execution_count": null,
      "outputs": [
        {
          "output_type": "stream",
          "name": "stdout",
          "text": [
            "Collecting igraph\n",
            "  Downloading igraph-0.9.9-cp37-cp37m-manylinux_2_17_x86_64.manylinux2014_x86_64.whl (3.1 MB)\n",
            "\u001b[K     |████████████████████████████████| 3.1 MB 4.6 MB/s \n",
            "\u001b[?25hCollecting texttable>=1.6.2\n",
            "  Downloading texttable-1.6.4-py2.py3-none-any.whl (10 kB)\n",
            "Installing collected packages: texttable, igraph\n",
            "Successfully installed igraph-0.9.9 texttable-1.6.4\n",
            "Reading package lists... Done\n",
            "Building dependency tree       \n",
            "Reading state information... Done\n",
            "The following additional packages will be installed:\n",
            "  libcairo-script-interpreter2 libpixman-1-dev libxcb-shm0-dev\n",
            "Suggested packages:\n",
            "  libcairo2-doc\n",
            "The following NEW packages will be installed:\n",
            "  libcairo-script-interpreter2 libcairo2-dev libpixman-1-dev libxcb-shm0-dev\n",
            "0 upgraded, 4 newly installed, 0 to remove and 39 not upgraded.\n",
            "Need to get 930 kB of archives.\n",
            "After this operation, 3,986 kB of additional disk space will be used.\n",
            "Get:1 http://archive.ubuntu.com/ubuntu bionic-updates/main amd64 libcairo-script-interpreter2 amd64 1.15.10-2ubuntu0.1 [53.5 kB]\n",
            "Get:2 http://archive.ubuntu.com/ubuntu bionic/main amd64 libpixman-1-dev amd64 0.34.0-2 [244 kB]\n",
            "Get:3 http://archive.ubuntu.com/ubuntu bionic-updates/main amd64 libxcb-shm0-dev amd64 1.13-2~ubuntu18.04 [6,684 B]\n",
            "Get:4 http://archive.ubuntu.com/ubuntu bionic-updates/main amd64 libcairo2-dev amd64 1.15.10-2ubuntu0.1 [626 kB]\n",
            "Fetched 930 kB in 0s (3,043 kB/s)\n",
            "Selecting previously unselected package libcairo-script-interpreter2:amd64.\n",
            "(Reading database ... 156210 files and directories currently installed.)\n",
            "Preparing to unpack .../libcairo-script-interpreter2_1.15.10-2ubuntu0.1_amd64.deb ...\n",
            "Unpacking libcairo-script-interpreter2:amd64 (1.15.10-2ubuntu0.1) ...\n",
            "Selecting previously unselected package libpixman-1-dev:amd64.\n",
            "Preparing to unpack .../libpixman-1-dev_0.34.0-2_amd64.deb ...\n",
            "Unpacking libpixman-1-dev:amd64 (0.34.0-2) ...\n",
            "Selecting previously unselected package libxcb-shm0-dev:amd64.\n",
            "Preparing to unpack .../libxcb-shm0-dev_1.13-2~ubuntu18.04_amd64.deb ...\n",
            "Unpacking libxcb-shm0-dev:amd64 (1.13-2~ubuntu18.04) ...\n",
            "Selecting previously unselected package libcairo2-dev:amd64.\n",
            "Preparing to unpack .../libcairo2-dev_1.15.10-2ubuntu0.1_amd64.deb ...\n",
            "Unpacking libcairo2-dev:amd64 (1.15.10-2ubuntu0.1) ...\n",
            "Setting up libcairo-script-interpreter2:amd64 (1.15.10-2ubuntu0.1) ...\n",
            "Setting up libxcb-shm0-dev:amd64 (1.13-2~ubuntu18.04) ...\n",
            "Setting up libpixman-1-dev:amd64 (0.34.0-2) ...\n",
            "Setting up libcairo2-dev:amd64 (1.15.10-2ubuntu0.1) ...\n",
            "Processing triggers for libc-bin (2.27-3ubuntu1.3) ...\n",
            "/sbin/ldconfig.real: /usr/local/lib/python3.7/dist-packages/ideep4py/lib/libmkldnn.so.0 is not a symbolic link\n",
            "\n",
            "Collecting pycairo\n",
            "  Downloading pycairo-1.21.0.tar.gz (340 kB)\n",
            "\u001b[K     |████████████████████████████████| 340 kB 5.1 MB/s \n",
            "\u001b[?25h  Installing build dependencies ... \u001b[?25l\u001b[?25hdone\n",
            "  Getting requirements to build wheel ... \u001b[?25l\u001b[?25hdone\n",
            "    Preparing wheel metadata ... \u001b[?25l\u001b[?25hdone\n",
            "Building wheels for collected packages: pycairo\n",
            "  Building wheel for pycairo (PEP 517) ... \u001b[?25l\u001b[?25hdone\n",
            "  Created wheel for pycairo: filename=pycairo-1.21.0-cp37-cp37m-linux_x86_64.whl size=286845 sha256=59c0392c5025026e1fb145878772e8e1299dd5928afcab50f1ca277bacab64cd\n",
            "  Stored in directory: /root/.cache/pip/wheels/69/1e/e8/ea8e397b1bea0fcbcffad6477c5ced6550a2adc259ed400405\n",
            "Successfully built pycairo\n",
            "Installing collected packages: pycairo\n",
            "Successfully installed pycairo-1.21.0\n"
          ]
        }
      ]
    },
    {
      "cell_type": "code",
      "source": [
        "from igraph import *\n",
        "#print(igraph.__version__)"
      ],
      "metadata": {
        "id": "tyv0GLzyunVU"
      },
      "execution_count": null,
      "outputs": []
    },
    {
      "cell_type": "code",
      "source": [
        "#let's make the graph in Python Igraph\n",
        "graph = {\n",
        "  '1' : ['2','3'],\n",
        "  '2' : [ '4', '3'],\n",
        "  '3' : [ '7', '8'],\n",
        "  '4' : ['5', '3'],\n",
        "  '5' : ['6'],\n",
        "  '6' : [],\n",
        "  '7' : [ '8'],\n",
        "  '8' : []\n",
        "}\n",
        "mvi= {'1': 1, '2': 2, '3': 3, '4': 4,'5': 5, '6': 6, '7': 7, '8': 4}\n",
        "G= Graph(edges= [(mvi[v], mvi[a]) for v in graph.keys() for a in graph[v]])"
      ],
      "metadata": {
        "id": "whDtQp0Ju1hQ"
      },
      "execution_count": null,
      "outputs": []
    },
    {
      "cell_type": "code",
      "source": [
        "[vertices, layers, parents] = G.bfs(1)\n",
        "#path\n",
        "vertices"
      ],
      "metadata": {
        "colab": {
          "base_uri": "https://localhost:8080/"
        },
        "id": "WmWgImr9vlDw",
        "outputId": "4a639f01-6891-41ee-dc11-dcebdf165891"
      },
      "execution_count": null,
      "outputs": [
        {
          "output_type": "execute_result",
          "data": {
            "text/plain": [
              "[1, 2, 3, 4, 7, 5, 6]"
            ]
          },
          "metadata": {},
          "execution_count": 16
        }
      ]
    },
    {
      "cell_type": "code",
      "source": [
        "[vertices,  parents] = G.dfs(1)\n",
        "#path\n",
        "vertices"
      ],
      "metadata": {
        "colab": {
          "base_uri": "https://localhost:8080/"
        },
        "id": "SW-HCUc8v_0m",
        "outputId": "57470d41-1791-4654-9409-d4d6fda4eb9f"
      },
      "execution_count": null,
      "outputs": [
        {
          "output_type": "execute_result",
          "data": {
            "text/plain": [
              "[1, 3, 7, 4, 5, 6, 2]"
            ]
          },
          "metadata": {},
          "execution_count": 18
        }
      ]
    },
    {
      "cell_type": "code",
      "source": [
        "import time\n",
        "start_time = time.time()\n",
        "[vertices, layers, parents] = G.bfs(1)\n",
        "print(\"--- Time execution BFS: %s seconds ---\" % (time.time() - start_time))\n",
        "start_time = time.time()\n",
        "[vertices,  parents] = G.dfs(1)\n",
        "print(\"--- Time execution DFS: %s seconds ---\" % (time.time() - start_time))"
      ],
      "metadata": {
        "colab": {
          "base_uri": "https://localhost:8080/"
        },
        "id": "yWW8KMWvwnJb",
        "outputId": "0568592d-2695-43ce-ff63-2c6bafac04ec"
      },
      "execution_count": null,
      "outputs": [
        {
          "output_type": "stream",
          "name": "stdout",
          "text": [
            "--- Time execution BFS: 0.0001499652862548828 seconds ---\n",
            "--- Time execution DFS: 0.0001430511474609375 seconds ---\n"
          ]
        }
      ]
    },
    {
      "cell_type": "code",
      "source": [],
      "metadata": {
        "id": "XyXrxGgCwnQM"
      },
      "execution_count": null,
      "outputs": []
    }
  ]
}