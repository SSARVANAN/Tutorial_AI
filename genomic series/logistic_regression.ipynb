{
  "nbformat": 4,
  "nbformat_minor": 0,
  "metadata": {
    "colab": {
      "name": "logistic regression.ipynb",
      "provenance": []
    },
    "kernelspec": {
      "name": "python3",
      "display_name": "Python 3"
    },
    "language_info": {
      "name": "python"
    }
  },
  "cells": [
    {
      "cell_type": "markdown",
      "source": [
        "# Logistic regression with genomic data\n",
        "## Introduction\n",
        "\n",
        "this is the companion colab code for my tutorial in medium about Logistic regression in Python with genomic data, please read the article for better understanding of the code. In the article I discuss about the theory, the hyperparameters, how to efficiently use the techniques. Here I am providing just generic information about the algorithm and the code. \n",
        "this is a colab notebook, you can test in colab (all the code has been tested and you do not need to set your machine)\n",
        "\n",
        "[Medium article about logistic regression math](https://)\n",
        "\n",
        "[Medium article about hyperparameter, training, evaluation](https://)\n",
        "\n",
        "note: the articles will be publish soon\n",
        "\n",
        "for other stories check my medium profile:\n",
        "[Salvatore Raieli](https://salvatore-raieli.medium.com/)"
      ],
      "metadata": {
        "id": "6gtf324GlG8h"
      }
    },
    {
      "cell_type": "markdown",
      "source": [
        "## Dataset preparation"
      ],
      "metadata": {
        "id": "9d1dr_QZoJzz"
      }
    },
    {
      "cell_type": "code",
      "metadata": {
        "colab": {
          "base_uri": "https://localhost:8080/"
        },
        "id": "XW2FJZktWIz_",
        "outputId": "ec3f0d70-b9e0-47d4-898d-0cce4fd899a6"
      },
      "source": [
        "%reload_ext autoreload\n",
        "%autoreload 2\n",
        "%matplotlib inline\n",
        "\n",
        "from google.colab import drive\n",
        "drive.mount('/content/gdrive', force_remount=True)\n"
      ],
      "execution_count": null,
      "outputs": [
        {
          "output_type": "stream",
          "text": [
            "Mounted at /content/gdrive\n"
          ],
          "name": "stdout"
        }
      ]
    },
    {
      "cell_type": "code",
      "metadata": {
        "colab": {
          "base_uri": "https://localhost:8080/"
        },
        "id": "YOQfqR1xWYpk",
        "outputId": "c9476aa0-bb9b-41c3-9ad3-64db84edfa32"
      },
      "source": [
        "#import necessary library\n",
        "import numpy as np\n",
        "import pandas as pd\n",
        "import matplotlib.pyplot as plt\n",
        "import seaborn as sns\n",
        "\n",
        "\n",
        "#dataset\n",
        "data = pd.read_table(\"/content/gdrive/My Drive/aml/201028_GSE122505_Leukemia_clean.txt\", sep = \"\\t\")\n",
        "#table of the disease\n",
        "data.disease.value_counts()"
      ],
      "execution_count": null,
      "outputs": [
        {
          "output_type": "execute_result",
          "data": {
            "text/plain": [
              "AML                                         969\n",
              "ALL                                         906\n",
              "Infection                                   113\n",
              "CLL                                          85\n",
              "healthy                                      82\n",
              "Diabetes_Type_I                              74\n",
              "AMKL                                         63\n",
              "Diabetes_Type_II                             29\n",
              "CML                                          22\n",
              "clinically_isolated_syndrome                 18\n",
              "MDS                                          10\n",
              "DS_transient_myeloproliferative_disorder      8\n",
              "Name: disease, dtype: int64"
            ]
          },
          "metadata": {
            "tags": []
          },
          "execution_count": 2
        }
      ]
    },
    {
      "cell_type": "code",
      "metadata": {
        "id": "9EyoPoBCXBDm"
      },
      "source": [
        "#removing some disease type\n",
        "data[\"disease\"] = np.where(data[\"disease\"] == \"Diabetes_Type_I\" , \"Diabetes\", data[\"disease\"])\n",
        "data[\"disease\"] = np.where(data[\"disease\"] == \"Diabetes_Type_II\" , \"Diabetes\", data[\"disease\"])\n",
        "other = ['CML','clinically_isolated_syndrome', 'MDS', 'DS_transient_myeloproliferative_disorder']\n",
        "data = data[~data.disease.isin(other)]"
      ],
      "execution_count": null,
      "outputs": []
    },
    {
      "cell_type": "code",
      "metadata": {
        "colab": {
          "base_uri": "https://localhost:8080/"
        },
        "id": "dw-mJZYJXDF8",
        "outputId": "5be323da-289d-4aaa-da64-e58eb5f2a7dc"
      },
      "source": [
        "selected = ['AML','ALL']\n",
        "data = data[data.disease.isin(selected)]\n",
        "data.disease.value_counts()"
      ],
      "execution_count": null,
      "outputs": [
        {
          "output_type": "execute_result",
          "data": {
            "text/plain": [
              "AML    969\n",
              "ALL    906\n",
              "Name: disease, dtype: int64"
            ]
          },
          "metadata": {
            "tags": []
          },
          "execution_count": 4
        }
      ]
    },
    {
      "cell_type": "code",
      "metadata": {
        "colab": {
          "base_uri": "https://localhost:8080/"
        },
        "id": "k_pY-hgBXb0z",
        "outputId": "7373b755-7ffe-420e-b9f7-9300e46d1952"
      },
      "source": [
        "target = data[\"disease\"]\n",
        "df = data.drop(\"disease\", 1)\n",
        "df = df.drop(\"GSM\", 1)\n",
        "df = df.drop(\"FAB\", 1)\n",
        "df.shape\n",
        "df = df.drop(df.var()[(df.var() < 0.3)].index, axis=1)\n",
        "from scipy.stats import zscore\n",
        "df = df.apply(zscore)\n",
        "df.shape\n"
      ],
      "execution_count": null,
      "outputs": [
        {
          "output_type": "execute_result",
          "data": {
            "text/plain": [
              "(1875, 4252)"
            ]
          },
          "metadata": {
            "tags": []
          },
          "execution_count": 5
        }
      ]
    },
    {
      "cell_type": "markdown",
      "source": [
        "## Training of the model"
      ],
      "metadata": {
        "id": "IHHEGNsqoOIT"
      }
    },
    {
      "cell_type": "code",
      "metadata": {
        "id": "19d873v-X6TO"
      },
      "source": [
        "from sklearn.model_selection import train_test_split \n",
        "X_train,X_test,y_train,y_test=train_test_split(df,target,test_size=0.25,random_state=0)"
      ],
      "execution_count": null,
      "outputs": []
    },
    {
      "cell_type": "code",
      "metadata": {
        "colab": {
          "base_uri": "https://localhost:8080/"
        },
        "id": "DSSG94EHEtj-",
        "outputId": "70fe94f7-51af-4071-d7cb-b532eecdd931"
      },
      "source": [
        "from sklearn.linear_model import LogisticRegression\n",
        "from sklearn.metrics import classification_report, confusion_matrix\n",
        "model = LogisticRegression(solver='saga', random_state=1)\n",
        "model.fit(X_train, y_train)\n"
      ],
      "execution_count": null,
      "outputs": [
        {
          "output_type": "stream",
          "text": [
            "/usr/local/lib/python3.7/dist-packages/sklearn/linear_model/_sag.py:330: ConvergenceWarning: The max_iter was reached which means the coef_ did not converge\n",
            "  \"the coef_ did not converge\", ConvergenceWarning)\n"
          ],
          "name": "stderr"
        },
        {
          "output_type": "execute_result",
          "data": {
            "text/plain": [
              "LogisticRegression(C=1.0, class_weight=None, dual=False, fit_intercept=True,\n",
              "                   intercept_scaling=1, l1_ratio=None, max_iter=100,\n",
              "                   multi_class='auto', n_jobs=None, penalty='l2',\n",
              "                   random_state=1, solver='saga', tol=0.0001, verbose=0,\n",
              "                   warm_start=False)"
            ]
          },
          "metadata": {
            "tags": []
          },
          "execution_count": 7
        }
      ]
    },
    {
      "cell_type": "code",
      "metadata": {
        "colab": {
          "base_uri": "https://localhost:8080/"
        },
        "id": "w_eND15IGFc0",
        "outputId": "16ed3d44-473a-40f2-a7a3-f2a118a3584b"
      },
      "source": [
        "model.classes_"
      ],
      "execution_count": null,
      "outputs": [
        {
          "output_type": "execute_result",
          "data": {
            "text/plain": [
              "array(['ALL', 'AML'], dtype=object)"
            ]
          },
          "metadata": {
            "tags": []
          },
          "execution_count": 8
        }
      ]
    },
    {
      "cell_type": "code",
      "metadata": {
        "colab": {
          "base_uri": "https://localhost:8080/"
        },
        "id": "rG0oFA-ruJUn",
        "outputId": "34616e0c-90ca-4236-aa15-b35eb931c81a"
      },
      "source": [
        "model.intercept_, model.coef_ #feature importance"
      ],
      "execution_count": null,
      "outputs": [
        {
          "output_type": "execute_result",
          "data": {
            "text/plain": [
              "(array([0.01356026]),\n",
              " array([[-0.01072273, -0.01072273,  0.00769251, ..., -0.00790833,\n",
              "         -0.00208754,  0.00662061]]))"
            ]
          },
          "metadata": {
            "tags": []
          },
          "execution_count": 9
        }
      ]
    },
    {
      "cell_type": "code",
      "metadata": {
        "colab": {
          "base_uri": "https://localhost:8080/"
        },
        "id": "6co5IHUWuO9Y",
        "outputId": "330c4b49-3b1e-4eaa-d2f1-bf3485ef3285"
      },
      "source": [
        "model.predict_proba(X_test)[0:10]"
      ],
      "execution_count": null,
      "outputs": [
        {
          "output_type": "execute_result",
          "data": {
            "text/plain": [
              "array([[1.33946531e-04, 9.99866053e-01],\n",
              "       [9.99918644e-01, 8.13563252e-05],\n",
              "       [9.99988370e-01, 1.16302945e-05],\n",
              "       [1.09509319e-01, 8.90490681e-01],\n",
              "       [9.99089244e-01, 9.10755841e-04],\n",
              "       [2.82731690e-05, 9.99971727e-01],\n",
              "       [2.00374240e-04, 9.99799626e-01],\n",
              "       [6.02902581e-05, 9.99939710e-01],\n",
              "       [1.17337005e-05, 9.99988266e-01],\n",
              "       [1.32207784e-02, 9.86779222e-01]])"
            ]
          },
          "metadata": {
            "tags": []
          },
          "execution_count": 10
        }
      ]
    },
    {
      "cell_type": "code",
      "metadata": {
        "colab": {
          "base_uri": "https://localhost:8080/"
        },
        "id": "uOiD038tvU_W",
        "outputId": "a4335843-01dc-4bdf-a9c9-9b01c8d79940"
      },
      "source": [
        "model.predict(X_test)[0:10]"
      ],
      "execution_count": null,
      "outputs": [
        {
          "output_type": "execute_result",
          "data": {
            "text/plain": [
              "array(['AML', 'ALL', 'ALL', 'AML', 'ALL', 'AML', 'AML', 'AML', 'AML',\n",
              "       'AML'], dtype=object)"
            ]
          },
          "metadata": {
            "tags": []
          },
          "execution_count": 11
        }
      ]
    },
    {
      "cell_type": "code",
      "metadata": {
        "colab": {
          "base_uri": "https://localhost:8080/"
        },
        "id": "iBoGKk6R7Wc7",
        "outputId": "08018b6c-4e23-4485-bdd8-332eee528bfb"
      },
      "source": [
        "y_test[0:10]"
      ],
      "execution_count": null,
      "outputs": [
        {
          "output_type": "execute_result",
          "data": {
            "text/plain": [
              "2086    AML\n",
              "330     ALL\n",
              "1748    ALL\n",
              "85      AML\n",
              "1788    ALL\n",
              "2027    AML\n",
              "1931    AML\n",
              "18      AML\n",
              "2172    AML\n",
              "53      AML\n",
              "Name: disease, dtype: object"
            ]
          },
          "metadata": {
            "tags": []
          },
          "execution_count": 12
        }
      ]
    },
    {
      "cell_type": "markdown",
      "source": [
        "## Model evaluation"
      ],
      "metadata": {
        "id": "tF45WgM7oY33"
      }
    },
    {
      "cell_type": "code",
      "metadata": {
        "colab": {
          "base_uri": "https://localhost:8080/"
        },
        "id": "tXCbmAV-5yD9",
        "outputId": "972380fe-be74-480e-e401-eb6501af94cc"
      },
      "source": [
        "model.score(X_train, y_train)\n",
        "model.score(X_test, y_test)"
      ],
      "execution_count": null,
      "outputs": [
        {
          "output_type": "execute_result",
          "data": {
            "text/plain": [
              "1.0"
            ]
          },
          "metadata": {
            "tags": []
          },
          "execution_count": 13
        }
      ]
    },
    {
      "cell_type": "code",
      "metadata": {
        "colab": {
          "base_uri": "https://localhost:8080/"
        },
        "id": "1boceLVT8Szs",
        "outputId": "d3a135da-06f6-4667-a0e8-d2cee3f68d69"
      },
      "source": [
        "y_pred = model.predict(X_test)\n",
        "confusion_matrix(y_test, y_pred)"
      ],
      "execution_count": null,
      "outputs": [
        {
          "output_type": "execute_result",
          "data": {
            "text/plain": [
              "array([[221,   0],\n",
              "       [  0, 248]])"
            ]
          },
          "metadata": {
            "tags": []
          },
          "execution_count": 14
        }
      ]
    },
    {
      "cell_type": "code",
      "metadata": {
        "colab": {
          "base_uri": "https://localhost:8080/",
          "height": 319
        },
        "id": "ZgngePuY9MFl",
        "outputId": "264c0af0-5b37-4bbd-8091-0ad5f9bd159b"
      },
      "source": [
        "import seaborn as sns; sns.set_theme()\n",
        "conf_matrix = confusion_matrix(y_test, y_pred)\n",
        "ax = sns.heatmap(conf_matrix, annot=True, fmt=\"d\", linewidths=1)\n",
        "plt.title('Confusion matrix', y=1.1)\n",
        "plt.ylabel('True label')\n",
        "plt.xlabel('Predicted label')"
      ],
      "execution_count": null,
      "outputs": [
        {
          "output_type": "execute_result",
          "data": {
            "text/plain": [
              "Text(0.5, 12.5, 'Predicted label')"
            ]
          },
          "metadata": {
            "tags": []
          },
          "execution_count": 15
        },
        {
          "output_type": "display_data",
          "data": {
            "image/png": "[encoded data removed]",
            "text/plain": [
              "<Figure size 432x288 with 2 Axes>"
            ]
          },
          "metadata": {
            "tags": []
          }
        }
      ]
    },
    {
      "cell_type": "markdown",
      "source": [
        "### predicting if a patient is high MYC or low MYC expression"
      ],
      "metadata": {
        "id": "4A5-ii9HorFB"
      }
    },
    {
      "cell_type": "code",
      "metadata": {
        "colab": {
          "base_uri": "https://localhost:8080/",
          "height": 321
        },
        "id": "KYXKApf4Ul1v",
        "outputId": "af455b0a-dde3-446b-e0e5-67994dcdc48b"
      },
      "source": [
        "X = df.drop(\"MYC\", 1)\n",
        "y = df[\"MYC\"]\n",
        "sns.set(style=\"whitegrid\", palette=\"muted\")\n",
        "sns.histplot(data=y, x=y)\n",
        "plt.legend(bbox_to_anchor=(1.05, 1), loc=2, borderaxespad=0.)\n"
      ],
      "execution_count": null,
      "outputs": [
        {
          "output_type": "stream",
          "text": [
            "No handles with labels found to put in legend.\n"
          ],
          "name": "stderr"
        },
        {
          "output_type": "execute_result",
          "data": {
            "text/plain": [
              "<matplotlib.legend.Legend at 0x7f364a780c90>"
            ]
          },
          "metadata": {
            "tags": []
          },
          "execution_count": 16
        },
        {
          "output_type": "display_data",
          "data": {
            "image/png": "[encoded data removed]",
            "text/plain": [
              "<Figure size 432x288 with 1 Axes>"
            ]
          },
          "metadata": {
            "tags": []
          }
        }
      ]
    },
    {
      "cell_type": "code",
      "metadata": {
        "colab": {
          "base_uri": "https://localhost:8080/"
        },
        "id": "rRL-fx24UuBR",
        "outputId": "c00dc622-dcd6-46ef-e620-2b091631b31c"
      },
      "source": [
        "y = np.where(y < 0, 0, 1)\n",
        "unique, counts = np.unique(y, return_counts=True)\n",
        "print(np.asarray((unique, counts)).T)"
      ],
      "execution_count": null,
      "outputs": [
        {
          "output_type": "stream",
          "text": [
            "[[  0 909]\n",
            " [  1 966]]\n"
          ],
          "name": "stdout"
        }
      ]
    },
    {
      "cell_type": "code",
      "metadata": {
        "colab": {
          "base_uri": "https://localhost:8080/"
        },
        "id": "e4XOz8n5U6Sb",
        "outputId": "e8dc3cd1-df88-41b4-c281-a41d7cb8ffd3"
      },
      "source": [
        "#fitting the model\n",
        "X_train, X_test, y_train, y_test = train_test_split(X, y, test_size=0.2, random_state=0)\n",
        "model = LogisticRegression(solver='saga', random_state=1)\n",
        "model.fit(X_train, y_train)\n",
        "y_pred = model.predict(X_test)\n",
        "confusion_matrix(y_test, y_pred)"
      ],
      "execution_count": null,
      "outputs": [
        {
          "output_type": "stream",
          "text": [
            "/usr/local/lib/python3.7/dist-packages/sklearn/linear_model/_sag.py:330: ConvergenceWarning: The max_iter was reached which means the coef_ did not converge\n",
            "  \"the coef_ did not converge\", ConvergenceWarning)\n"
          ],
          "name": "stderr"
        },
        {
          "output_type": "execute_result",
          "data": {
            "text/plain": [
              "array([[144,  35],\n",
              "       [ 34, 162]])"
            ]
          },
          "metadata": {
            "tags": []
          },
          "execution_count": 18
        }
      ]
    },
    {
      "cell_type": "code",
      "metadata": {
        "colab": {
          "base_uri": "https://localhost:8080/",
          "height": 319
        },
        "id": "y3GseFhbYCyb",
        "outputId": "fcd4fe7b-6575-41d4-f47c-28494a78f670"
      },
      "source": [
        "conf_matrix = confusion_matrix(y_test, y_pred)\n",
        "ax = sns.heatmap(conf_matrix, annot=True, fmt=\"d\", linewidths=1)\n",
        "plt.title('Confusion matrix', y=1.1)\n",
        "plt.ylabel('True label')\n",
        "plt.xlabel('Predicted label')"
      ],
      "execution_count": null,
      "outputs": [
        {
          "output_type": "execute_result",
          "data": {
            "text/plain": [
              "Text(0.5, 12.5, 'Predicted label')"
            ]
          },
          "metadata": {
            "tags": []
          },
          "execution_count": 19
        },
        {
          "output_type": "display_data",
          "data": {
            "image/png": "[encoded data removed]",
            "text/plain": [
              "<Figure size 432x288 with 2 Axes>"
            ]
          },
          "metadata": {
            "tags": []
          }
        }
      ]
    },
    {
      "cell_type": "markdown",
      "source": [
        "# Evaluation metrics"
      ],
      "metadata": {
        "id": "6XKMSue4o2aL"
      }
    },
    {
      "cell_type": "code",
      "metadata": {
        "colab": {
          "base_uri": "https://localhost:8080/"
        },
        "id": "zS5vAyUcYhpM",
        "outputId": "5a0da135-107c-4697-ac94-648e5b86e960"
      },
      "source": [
        "from sklearn import metrics\n",
        "print(\"Accuracy:\",metrics.accuracy_score(y_test, y_pred))\n",
        "print(\"Precision:\",metrics.precision_score(y_test, y_pred))\n",
        "print(\"sensitivity:\",metrics.recall_score(y_test, y_pred))\n",
        "print(\"F1 score:\",metrics.f1_score(y_test, y_pred))"
      ],
      "execution_count": null,
      "outputs": [
        {
          "output_type": "stream",
          "text": [
            "Accuracy: 0.816\n",
            "Precision: 0.8223350253807107\n",
            "sensitivity: 0.826530612244898\n",
            "F1 score: 0.8244274809160306\n"
          ],
          "name": "stdout"
        }
      ]
    },
    {
      "cell_type": "code",
      "metadata": {
        "colab": {
          "base_uri": "https://localhost:8080/"
        },
        "id": "5fH9i675Zwlb",
        "outputId": "95ed1d66-4df5-4f82-906e-2db024de3fb3"
      },
      "source": [
        "tn, fp, fn, tp = confusion_matrix(y_test, y_pred).ravel()\n",
        "specificity = tn / (tn+fp)\n",
        "specificity"
      ],
      "execution_count": null,
      "outputs": [
        {
          "output_type": "execute_result",
          "data": {
            "text/plain": [
              "0.8044692737430168"
            ]
          },
          "metadata": {
            "tags": []
          },
          "execution_count": 21
        }
      ]
    },
    {
      "cell_type": "code",
      "metadata": {
        "colab": {
          "base_uri": "https://localhost:8080/",
          "height": 285
        },
        "id": "PEjt6fQjZ2Zi",
        "outputId": "ae6c1693-702f-4e82-f6fd-f30c6bdefdff"
      },
      "source": [
        "y_pred_prob = model.predict_proba(X_test)[:,1]\n",
        "fpr, tpr, _ = metrics.roc_curve(y_test,  y_pred_prob)\n",
        "auc = metrics.roc_auc_score(y_test, y_pred_prob)\n",
        "plt.plot(fpr,tpr,label=\"model, AUC= %0.2f\" %auc)\n",
        "plt.plot([0, 1], [0, 1],'r--')\n",
        "plt.xlabel('False Positive Rate')\n",
        "plt.ylabel('True Positive Rate')\n",
        "plt.title('ROC curve')\n",
        "plt.legend(loc=4)\n",
        "plt.show()"
      ],
      "execution_count": null,
      "outputs": [
        {
          "output_type": "display_data",
          "data": {
            "image/png": "[encoded data removed]",
            "text/plain": [
              "<Figure size 432x288 with 1 Axes>"
            ]
          },
          "metadata": {
            "tags": []
          }
        }
      ]
    }
  ]
}